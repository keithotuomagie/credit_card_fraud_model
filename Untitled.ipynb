{
 "cells": [
  {
   "cell_type": "markdown",
   "metadata": {},
   "source": [
    "# Business Problem"
   ]
  },
  {
   "cell_type": "markdown",
   "metadata": {},
   "source": [
    "A financial services company wants to expand its business portfolio by entering the credit card business.  The company executives also recognize that fraud is a paramount issue.  As a result, the firm tasks KBO Analytics with the following:\n",
    "\n",
    "- Create a model prototype to detect credit card fraud\n",
    "- Identify characteristics that signal whether or not credit card fraud will take place"
   ]
  },
  {
   "cell_type": "markdown",
   "metadata": {},
   "source": [
    "# Data Understanding"
   ]
  },
  {
   "cell_type": "markdown",
   "metadata": {},
   "source": [
    "The data for examing the aforementioned problem comes from the following source: Churn in Telecom's dataset.\n",
    "\n",
    "Before beginning to identify any trends with customers that churn, I want to examine and become familiar with the dataset. I will conduct exploratory data analysis in order to understand the dataset attributes, which includes, but not limited to the following:\n",
    "\n",
    "1. Number of Columns\n",
    "2. Number of Rows\n",
    "3. Column Names\n",
    "4. Format of the data in each column"
   ]
  },
  {
   "cell_type": "code",
   "execution_count": 1,
   "metadata": {},
   "outputs": [],
   "source": [
    "# Importing Libraries\n",
    "\n",
    "import pandas as pd\n",
    "import numpy as np\n",
    "import matplotlib.pyplot as plt\n",
    "import seaborn as sns\n",
    "%matplotlib inline\n",
    "import warnings\n",
    "warnings.filterwarnings('ignore')\n",
    "from itertools import combinations\n",
    "from datetime import datetime\n",
    "\n",
    "from sklearn.metrics import precision_score, recall_score, accuracy_score, f1_score, confusion_matrix, ConfusionMatrixDisplay, roc_curve, auc\n",
    "from sklearn.model_selection import train_test_split\n",
    "from sklearn.preprocessing import OneHotEncoder\n",
    "from sklearn.tree import DecisionTreeClassifier \n",
    "from sklearn import tree\n"
   ]
  },
  {
   "cell_type": "code",
   "execution_count": 2,
   "metadata": {},
   "outputs": [],
   "source": [
    "# Reading file\n",
    "\n",
    "fraud_df = pd.read_csv(\"fraud_data.csv\")"
   ]
  },
  {
   "cell_type": "code",
   "execution_count": 3,
   "metadata": {},
   "outputs": [
    {
     "data": {
      "text/html": [
       "<div>\n",
       "<style scoped>\n",
       "    .dataframe tbody tr th:only-of-type {\n",
       "        vertical-align: middle;\n",
       "    }\n",
       "\n",
       "    .dataframe tbody tr th {\n",
       "        vertical-align: top;\n",
       "    }\n",
       "\n",
       "    .dataframe thead th {\n",
       "        text-align: right;\n",
       "    }\n",
       "</style>\n",
       "<table border=\"1\" class=\"dataframe\">\n",
       "  <thead>\n",
       "    <tr style=\"text-align: right;\">\n",
       "      <th></th>\n",
       "      <th>trans_date_trans_time</th>\n",
       "      <th>merchant</th>\n",
       "      <th>category</th>\n",
       "      <th>amt</th>\n",
       "      <th>city</th>\n",
       "      <th>state</th>\n",
       "      <th>lat</th>\n",
       "      <th>long</th>\n",
       "      <th>city_pop</th>\n",
       "      <th>job</th>\n",
       "      <th>dob</th>\n",
       "      <th>trans_num</th>\n",
       "      <th>merch_lat</th>\n",
       "      <th>merch_long</th>\n",
       "      <th>is_fraud</th>\n",
       "    </tr>\n",
       "  </thead>\n",
       "  <tbody>\n",
       "    <tr>\n",
       "      <th>0</th>\n",
       "      <td>04-01-2019 00:58</td>\n",
       "      <td>\"Stokes, Christiansen and Sipes\"</td>\n",
       "      <td>grocery_net</td>\n",
       "      <td>14.37</td>\n",
       "      <td>Wales</td>\n",
       "      <td>AK</td>\n",
       "      <td>64.7556</td>\n",
       "      <td>-165.6723</td>\n",
       "      <td>145</td>\n",
       "      <td>\"Administrator, education\"</td>\n",
       "      <td>09-11-1939</td>\n",
       "      <td>a3806e984cec6ac0096d8184c64ad3a1</td>\n",
       "      <td>65.654142</td>\n",
       "      <td>-164.722603</td>\n",
       "      <td>1</td>\n",
       "    </tr>\n",
       "    <tr>\n",
       "      <th>1</th>\n",
       "      <td>04-01-2019 15:06</td>\n",
       "      <td>Predovic Inc</td>\n",
       "      <td>shopping_net</td>\n",
       "      <td>966.11</td>\n",
       "      <td>Wales</td>\n",
       "      <td>AK</td>\n",
       "      <td>64.7556</td>\n",
       "      <td>-165.6723</td>\n",
       "      <td>145</td>\n",
       "      <td>\"Administrator, education\"</td>\n",
       "      <td>09-11-1939</td>\n",
       "      <td>a59185fe1b9ccf21323f581d7477573f</td>\n",
       "      <td>65.468863</td>\n",
       "      <td>-165.473127</td>\n",
       "      <td>1</td>\n",
       "    </tr>\n",
       "    <tr>\n",
       "      <th>2</th>\n",
       "      <td>04-01-2019 22:37</td>\n",
       "      <td>Wisozk and Sons</td>\n",
       "      <td>misc_pos</td>\n",
       "      <td>49.61</td>\n",
       "      <td>Wales</td>\n",
       "      <td>AK</td>\n",
       "      <td>64.7556</td>\n",
       "      <td>-165.6723</td>\n",
       "      <td>145</td>\n",
       "      <td>\"Administrator, education\"</td>\n",
       "      <td>09-11-1939</td>\n",
       "      <td>86ba3a888b42cd3925881fa34177b4e0</td>\n",
       "      <td>65.347667</td>\n",
       "      <td>-165.914542</td>\n",
       "      <td>1</td>\n",
       "    </tr>\n",
       "    <tr>\n",
       "      <th>3</th>\n",
       "      <td>04-01-2019 23:06</td>\n",
       "      <td>Murray-Smitham</td>\n",
       "      <td>grocery_pos</td>\n",
       "      <td>295.26</td>\n",
       "      <td>Wales</td>\n",
       "      <td>AK</td>\n",
       "      <td>64.7556</td>\n",
       "      <td>-165.6723</td>\n",
       "      <td>145</td>\n",
       "      <td>\"Administrator, education\"</td>\n",
       "      <td>09-11-1939</td>\n",
       "      <td>3a068fe1d856f0ecedbed33e4b5f4496</td>\n",
       "      <td>64.445035</td>\n",
       "      <td>-166.080207</td>\n",
       "      <td>1</td>\n",
       "    </tr>\n",
       "    <tr>\n",
       "      <th>4</th>\n",
       "      <td>04-01-2019 23:59</td>\n",
       "      <td>Friesen Lt</td>\n",
       "      <td>health_fitness</td>\n",
       "      <td>18.17</td>\n",
       "      <td>Wales</td>\n",
       "      <td>AK</td>\n",
       "      <td>64.7556</td>\n",
       "      <td>-165.6723</td>\n",
       "      <td>145</td>\n",
       "      <td>\"Administrator, education\"</td>\n",
       "      <td>09-11-1939</td>\n",
       "      <td>891cdd1191028759dc20dc224347a0ff</td>\n",
       "      <td>65.447094</td>\n",
       "      <td>-165.446843</td>\n",
       "      <td>1</td>\n",
       "    </tr>\n",
       "    <tr>\n",
       "      <th>5</th>\n",
       "      <td>05-01-2019 03:15</td>\n",
       "      <td>\"Raynor, Reinger and Hagenes\"</td>\n",
       "      <td>gas_transport</td>\n",
       "      <td>20.45</td>\n",
       "      <td>Wales</td>\n",
       "      <td>AK</td>\n",
       "      <td>64.7556</td>\n",
       "      <td>-165.6723</td>\n",
       "      <td>145</td>\n",
       "      <td>\"Administrator, education\"</td>\n",
       "      <td>09-11-1939</td>\n",
       "      <td>ef010a5f4f570d306a050a368ee2729d</td>\n",
       "      <td>64.088838</td>\n",
       "      <td>-165.104078</td>\n",
       "      <td>1</td>\n",
       "    </tr>\n",
       "    <tr>\n",
       "      <th>6</th>\n",
       "      <td>05-01-2019 03:21</td>\n",
       "      <td>Heller-Langosh</td>\n",
       "      <td>gas_transport</td>\n",
       "      <td>18.19</td>\n",
       "      <td>Wales</td>\n",
       "      <td>AK</td>\n",
       "      <td>64.7556</td>\n",
       "      <td>-165.6723</td>\n",
       "      <td>145</td>\n",
       "      <td>\"Administrator, education\"</td>\n",
       "      <td>09-11-1939</td>\n",
       "      <td>8e2d2fae5319d31c887dddbc70627ac4</td>\n",
       "      <td>63.917785</td>\n",
       "      <td>-165.827621</td>\n",
       "      <td>1</td>\n",
       "    </tr>\n",
       "    <tr>\n",
       "      <th>7</th>\n",
       "      <td>05-01-2019 11:31</td>\n",
       "      <td>Padberg-Welch</td>\n",
       "      <td>grocery_pos</td>\n",
       "      <td>367.29</td>\n",
       "      <td>Browning</td>\n",
       "      <td>MO</td>\n",
       "      <td>40.0290</td>\n",
       "      <td>-93.1607</td>\n",
       "      <td>602</td>\n",
       "      <td>Cytogeneticist</td>\n",
       "      <td>14-07-1954</td>\n",
       "      <td>5fbe827807ec9f557f6242bb48db0e51</td>\n",
       "      <td>39.167065</td>\n",
       "      <td>-93.705245</td>\n",
       "      <td>1</td>\n",
       "    </tr>\n",
       "    <tr>\n",
       "      <th>8</th>\n",
       "      <td>05-01-2019 18:03</td>\n",
       "      <td>McGlynn-Heathcote</td>\n",
       "      <td>misc_net</td>\n",
       "      <td>768.15</td>\n",
       "      <td>Wales</td>\n",
       "      <td>AK</td>\n",
       "      <td>64.7556</td>\n",
       "      <td>-165.6723</td>\n",
       "      <td>145</td>\n",
       "      <td>\"Administrator, education\"</td>\n",
       "      <td>09-11-1939</td>\n",
       "      <td>fba83e0a3adb530251295ab72a96b719</td>\n",
       "      <td>64.623325</td>\n",
       "      <td>-166.403973</td>\n",
       "      <td>1</td>\n",
       "    </tr>\n",
       "    <tr>\n",
       "      <th>9</th>\n",
       "      <td>05-01-2019 22:02</td>\n",
       "      <td>Dooley-Thompson</td>\n",
       "      <td>misc_net</td>\n",
       "      <td>849.49</td>\n",
       "      <td>Wales</td>\n",
       "      <td>AK</td>\n",
       "      <td>64.7556</td>\n",
       "      <td>-165.6723</td>\n",
       "      <td>145</td>\n",
       "      <td>\"Administrator, education\"</td>\n",
       "      <td>09-11-1939</td>\n",
       "      <td>b87c92d4824758e704da572891697fed</td>\n",
       "      <td>65.266065</td>\n",
       "      <td>-164.865352</td>\n",
       "      <td>1</td>\n",
       "    </tr>\n",
       "  </tbody>\n",
       "</table>\n",
       "</div>"
      ],
      "text/plain": [
       "  trans_date_trans_time                          merchant        category  \\\n",
       "0      04-01-2019 00:58  \"Stokes, Christiansen and Sipes\"     grocery_net   \n",
       "1      04-01-2019 15:06                      Predovic Inc    shopping_net   \n",
       "2      04-01-2019 22:37                   Wisozk and Sons        misc_pos   \n",
       "3      04-01-2019 23:06                    Murray-Smitham     grocery_pos   \n",
       "4      04-01-2019 23:59                        Friesen Lt  health_fitness   \n",
       "5      05-01-2019 03:15     \"Raynor, Reinger and Hagenes\"   gas_transport   \n",
       "6      05-01-2019 03:21                    Heller-Langosh   gas_transport   \n",
       "7      05-01-2019 11:31                     Padberg-Welch     grocery_pos   \n",
       "8      05-01-2019 18:03                 McGlynn-Heathcote        misc_net   \n",
       "9      05-01-2019 22:02                   Dooley-Thompson        misc_net   \n",
       "\n",
       "      amt      city state      lat      long  city_pop  \\\n",
       "0   14.37     Wales    AK  64.7556 -165.6723       145   \n",
       "1  966.11     Wales    AK  64.7556 -165.6723       145   \n",
       "2   49.61     Wales    AK  64.7556 -165.6723       145   \n",
       "3  295.26     Wales    AK  64.7556 -165.6723       145   \n",
       "4   18.17     Wales    AK  64.7556 -165.6723       145   \n",
       "5   20.45     Wales    AK  64.7556 -165.6723       145   \n",
       "6   18.19     Wales    AK  64.7556 -165.6723       145   \n",
       "7  367.29  Browning    MO  40.0290  -93.1607       602   \n",
       "8  768.15     Wales    AK  64.7556 -165.6723       145   \n",
       "9  849.49     Wales    AK  64.7556 -165.6723       145   \n",
       "\n",
       "                          job         dob                         trans_num  \\\n",
       "0  \"Administrator, education\"  09-11-1939  a3806e984cec6ac0096d8184c64ad3a1   \n",
       "1  \"Administrator, education\"  09-11-1939  a59185fe1b9ccf21323f581d7477573f   \n",
       "2  \"Administrator, education\"  09-11-1939  86ba3a888b42cd3925881fa34177b4e0   \n",
       "3  \"Administrator, education\"  09-11-1939  3a068fe1d856f0ecedbed33e4b5f4496   \n",
       "4  \"Administrator, education\"  09-11-1939  891cdd1191028759dc20dc224347a0ff   \n",
       "5  \"Administrator, education\"  09-11-1939  ef010a5f4f570d306a050a368ee2729d   \n",
       "6  \"Administrator, education\"  09-11-1939  8e2d2fae5319d31c887dddbc70627ac4   \n",
       "7              Cytogeneticist  14-07-1954  5fbe827807ec9f557f6242bb48db0e51   \n",
       "8  \"Administrator, education\"  09-11-1939  fba83e0a3adb530251295ab72a96b719   \n",
       "9  \"Administrator, education\"  09-11-1939  b87c92d4824758e704da572891697fed   \n",
       "\n",
       "   merch_lat  merch_long is_fraud  \n",
       "0  65.654142 -164.722603        1  \n",
       "1  65.468863 -165.473127        1  \n",
       "2  65.347667 -165.914542        1  \n",
       "3  64.445035 -166.080207        1  \n",
       "4  65.447094 -165.446843        1  \n",
       "5  64.088838 -165.104078        1  \n",
       "6  63.917785 -165.827621        1  \n",
       "7  39.167065  -93.705245        1  \n",
       "8  64.623325 -166.403973        1  \n",
       "9  65.266065 -164.865352        1  "
      ]
     },
     "execution_count": 3,
     "metadata": {},
     "output_type": "execute_result"
    }
   ],
   "source": [
    "# Examining initial 10 columns of the dataframe\n",
    "\n",
    "fraud_df.head(10)"
   ]
  },
  {
   "cell_type": "code",
   "execution_count": 4,
   "metadata": {},
   "outputs": [
    {
     "data": {
      "text/html": [
       "<div>\n",
       "<style scoped>\n",
       "    .dataframe tbody tr th:only-of-type {\n",
       "        vertical-align: middle;\n",
       "    }\n",
       "\n",
       "    .dataframe tbody tr th {\n",
       "        vertical-align: top;\n",
       "    }\n",
       "\n",
       "    .dataframe thead th {\n",
       "        text-align: right;\n",
       "    }\n",
       "</style>\n",
       "<table border=\"1\" class=\"dataframe\">\n",
       "  <thead>\n",
       "    <tr style=\"text-align: right;\">\n",
       "      <th></th>\n",
       "      <th>trans_date_trans_time</th>\n",
       "      <th>merchant</th>\n",
       "      <th>category</th>\n",
       "      <th>amt</th>\n",
       "      <th>city</th>\n",
       "      <th>state</th>\n",
       "      <th>lat</th>\n",
       "      <th>long</th>\n",
       "      <th>city_pop</th>\n",
       "      <th>job</th>\n",
       "      <th>dob</th>\n",
       "      <th>trans_num</th>\n",
       "      <th>merch_lat</th>\n",
       "      <th>merch_long</th>\n",
       "      <th>is_fraud</th>\n",
       "    </tr>\n",
       "  </thead>\n",
       "  <tbody>\n",
       "    <tr>\n",
       "      <th>14436</th>\n",
       "      <td>22-01-2019 00:18</td>\n",
       "      <td>\"Connelly, Reichert and Fritsch\"</td>\n",
       "      <td>gas_transport</td>\n",
       "      <td>93.23</td>\n",
       "      <td>Unionville</td>\n",
       "      <td>MO</td>\n",
       "      <td>40.4815</td>\n",
       "      <td>-92.9951</td>\n",
       "      <td>3805</td>\n",
       "      <td>\"Investment banker, corporate\"</td>\n",
       "      <td>15-09-1950</td>\n",
       "      <td>58d980b2db4f0581aaa3e62967072efa</td>\n",
       "      <td>40.527285</td>\n",
       "      <td>-93.859674</td>\n",
       "      <td>0</td>\n",
       "    </tr>\n",
       "    <tr>\n",
       "      <th>14437</th>\n",
       "      <td>22-01-2019 00:19</td>\n",
       "      <td>\"Kuhic, Bins and Pfeffe\"</td>\n",
       "      <td>shopping_net</td>\n",
       "      <td>4.65</td>\n",
       "      <td>Eugene</td>\n",
       "      <td>OR</td>\n",
       "      <td>44.0385</td>\n",
       "      <td>-123.0614</td>\n",
       "      <td>191096</td>\n",
       "      <td>\"Scientist, physiological\"</td>\n",
       "      <td>06-04-1964</td>\n",
       "      <td>6f552aa7397e6e1c012c25ecfc0cc9b7</td>\n",
       "      <td>43.821635</td>\n",
       "      <td>-122.497236</td>\n",
       "      <td>0</td>\n",
       "    </tr>\n",
       "    <tr>\n",
       "      <th>14438</th>\n",
       "      <td>22-01-2019 00:23</td>\n",
       "      <td>Sporer Inc</td>\n",
       "      <td>gas_transport</td>\n",
       "      <td>51.57</td>\n",
       "      <td>Carlotta</td>\n",
       "      <td>CA</td>\n",
       "      <td>40.5070</td>\n",
       "      <td>-123.9743</td>\n",
       "      <td>1139</td>\n",
       "      <td>\"Therapist, occupational\"</td>\n",
       "      <td>15-01-1951</td>\n",
       "      <td>c10ca0af6656b71e6da577da9db6c8c3</td>\n",
       "      <td>40.556556</td>\n",
       "      <td>-124.887658</td>\n",
       "      <td>0</td>\n",
       "    </tr>\n",
       "    <tr>\n",
       "      <th>14439</th>\n",
       "      <td>22-01-2019 00:32</td>\n",
       "      <td>\"Willms, Kris and Bergnaum\"</td>\n",
       "      <td>shopping_pos</td>\n",
       "      <td>145.60</td>\n",
       "      <td>Athena</td>\n",
       "      <td>OR</td>\n",
       "      <td>45.8289</td>\n",
       "      <td>-118.4971</td>\n",
       "      <td>1302</td>\n",
       "      <td>Dealer</td>\n",
       "      <td>18-10-1976</td>\n",
       "      <td>c206b545e52a142e1009fb0bd3e3f2ac</td>\n",
       "      <td>46.592719</td>\n",
       "      <td>-118.002289</td>\n",
       "      <td>0</td>\n",
       "    </tr>\n",
       "    <tr>\n",
       "      <th>14440</th>\n",
       "      <td>22-01-2019 00:37</td>\n",
       "      <td>Wiza LLC</td>\n",
       "      <td>misc_pos</td>\n",
       "      <td>37.92</td>\n",
       "      <td>Syracuse</td>\n",
       "      <td>MO</td>\n",
       "      <td>38.6547</td>\n",
       "      <td>-92.8929</td>\n",
       "      <td>628</td>\n",
       "      <td>\"Radiographer, diagnostic\"</td>\n",
       "      <td>18-12-1961</td>\n",
       "      <td>a98a9e2ca6a7c605c34a4298be3ad606</td>\n",
       "      <td>39.245730</td>\n",
       "      <td>-92.441388</td>\n",
       "      <td>0</td>\n",
       "    </tr>\n",
       "    <tr>\n",
       "      <th>14441</th>\n",
       "      <td>22-01-2019 00:37</td>\n",
       "      <td>Hudson-Grady</td>\n",
       "      <td>shopping_pos</td>\n",
       "      <td>122.00</td>\n",
       "      <td>Athena</td>\n",
       "      <td>OR</td>\n",
       "      <td>45.8289</td>\n",
       "      <td>-118.4971</td>\n",
       "      <td>1302</td>\n",
       "      <td>Dealer</td>\n",
       "      <td>18-10-1976</td>\n",
       "      <td>699a4c06b22711bf3e0d8ef91232d356</td>\n",
       "      <td>46.442439</td>\n",
       "      <td>-118.524214</td>\n",
       "      <td>0</td>\n",
       "    </tr>\n",
       "    <tr>\n",
       "      <th>14442</th>\n",
       "      <td>22-01-2019 00:41</td>\n",
       "      <td>\"Nienow, Ankunding and Collie\"</td>\n",
       "      <td>misc_pos</td>\n",
       "      <td>9.07</td>\n",
       "      <td>Gardiner</td>\n",
       "      <td>OR</td>\n",
       "      <td>43.7857</td>\n",
       "      <td>-124.1437</td>\n",
       "      <td>260</td>\n",
       "      <td>\"Engineer, maintenance\"</td>\n",
       "      <td>01-09-1956</td>\n",
       "      <td>080d620d24815c7d6c637cf0b71dde8e</td>\n",
       "      <td>42.901265</td>\n",
       "      <td>-124.995317</td>\n",
       "      <td>0</td>\n",
       "    </tr>\n",
       "    <tr>\n",
       "      <th>14443</th>\n",
       "      <td>22-01-2019 00:42</td>\n",
       "      <td>Pacocha-O'Reilly</td>\n",
       "      <td>grocery_pos</td>\n",
       "      <td>104.84</td>\n",
       "      <td>Alva</td>\n",
       "      <td>WY</td>\n",
       "      <td>44.6873</td>\n",
       "      <td>-104.4414</td>\n",
       "      <td>110</td>\n",
       "      <td>\"Administrator, local government\"</td>\n",
       "      <td>16-05-1973</td>\n",
       "      <td>3c346c8cd627c5fe3ed57430db2e9ae7</td>\n",
       "      <td>45.538062</td>\n",
       "      <td>-104.542117</td>\n",
       "      <td>0</td>\n",
       "    </tr>\n",
       "    <tr>\n",
       "      <th>14444</th>\n",
       "      <td>22-01-2019 00:48</td>\n",
       "      <td>\"Bins, Balistreri and Beatty\"</td>\n",
       "      <td>shopping_pos</td>\n",
       "      <td>268.16</td>\n",
       "      <td>Wales</td>\n",
       "      <td>AK</td>\n",
       "      <td>64.7556</td>\n",
       "      <td>-165.6723</td>\n",
       "      <td>145</td>\n",
       "      <td>\"Administrator, education\"</td>\n",
       "      <td>09-11-1939</td>\n",
       "      <td>e66ffcc95ba7fc490486242af1205d04</td>\n",
       "      <td>64.081462</td>\n",
       "      <td>-165.898698</td>\n",
       "      <td>0</td>\n",
       "    </tr>\n",
       "    <tr>\n",
       "      <th>14445</th>\n",
       "      <td>22-01-2019 00:55</td>\n",
       "      <td>Daugherty-Thompson</td>\n",
       "      <td>food_dining</td>\n",
       "      <td>50.09</td>\n",
       "      <td>Unionville</td>\n",
       "      <td>MO</td>\n",
       "      <td>40.4815</td>\n",
       "      <td>-92.9951</td>\n",
       "      <td>3805</td>\n",
       "      <td>\"Investment banker, corporate\"</td>\n",
       "      <td>15-09-1950</td>\n",
       "      <td>65e7370f473f9b9d75796c8033a7c929</td>\n",
       "      <td>40.387243</td>\n",
       "      <td>-92.224871</td>\n",
       "      <td>0</td>\n",
       "    </tr>\n",
       "  </tbody>\n",
       "</table>\n",
       "</div>"
      ],
      "text/plain": [
       "      trans_date_trans_time                          merchant       category  \\\n",
       "14436      22-01-2019 00:18  \"Connelly, Reichert and Fritsch\"  gas_transport   \n",
       "14437      22-01-2019 00:19          \"Kuhic, Bins and Pfeffe\"   shopping_net   \n",
       "14438      22-01-2019 00:23                        Sporer Inc  gas_transport   \n",
       "14439      22-01-2019 00:32       \"Willms, Kris and Bergnaum\"   shopping_pos   \n",
       "14440      22-01-2019 00:37                          Wiza LLC       misc_pos   \n",
       "14441      22-01-2019 00:37                      Hudson-Grady   shopping_pos   \n",
       "14442      22-01-2019 00:41    \"Nienow, Ankunding and Collie\"       misc_pos   \n",
       "14443      22-01-2019 00:42                  Pacocha-O'Reilly    grocery_pos   \n",
       "14444      22-01-2019 00:48     \"Bins, Balistreri and Beatty\"   shopping_pos   \n",
       "14445      22-01-2019 00:55                Daugherty-Thompson    food_dining   \n",
       "\n",
       "          amt        city state      lat      long  city_pop  \\\n",
       "14436   93.23  Unionville    MO  40.4815  -92.9951      3805   \n",
       "14437    4.65      Eugene    OR  44.0385 -123.0614    191096   \n",
       "14438   51.57    Carlotta    CA  40.5070 -123.9743      1139   \n",
       "14439  145.60      Athena    OR  45.8289 -118.4971      1302   \n",
       "14440   37.92    Syracuse    MO  38.6547  -92.8929       628   \n",
       "14441  122.00      Athena    OR  45.8289 -118.4971      1302   \n",
       "14442    9.07    Gardiner    OR  43.7857 -124.1437       260   \n",
       "14443  104.84        Alva    WY  44.6873 -104.4414       110   \n",
       "14444  268.16       Wales    AK  64.7556 -165.6723       145   \n",
       "14445   50.09  Unionville    MO  40.4815  -92.9951      3805   \n",
       "\n",
       "                                     job         dob  \\\n",
       "14436     \"Investment banker, corporate\"  15-09-1950   \n",
       "14437         \"Scientist, physiological\"  06-04-1964   \n",
       "14438          \"Therapist, occupational\"  15-01-1951   \n",
       "14439                             Dealer  18-10-1976   \n",
       "14440         \"Radiographer, diagnostic\"  18-12-1961   \n",
       "14441                             Dealer  18-10-1976   \n",
       "14442            \"Engineer, maintenance\"  01-09-1956   \n",
       "14443  \"Administrator, local government\"  16-05-1973   \n",
       "14444         \"Administrator, education\"  09-11-1939   \n",
       "14445     \"Investment banker, corporate\"  15-09-1950   \n",
       "\n",
       "                              trans_num  merch_lat  merch_long is_fraud  \n",
       "14436  58d980b2db4f0581aaa3e62967072efa  40.527285  -93.859674        0  \n",
       "14437  6f552aa7397e6e1c012c25ecfc0cc9b7  43.821635 -122.497236        0  \n",
       "14438  c10ca0af6656b71e6da577da9db6c8c3  40.556556 -124.887658        0  \n",
       "14439  c206b545e52a142e1009fb0bd3e3f2ac  46.592719 -118.002289        0  \n",
       "14440  a98a9e2ca6a7c605c34a4298be3ad606  39.245730  -92.441388        0  \n",
       "14441  699a4c06b22711bf3e0d8ef91232d356  46.442439 -118.524214        0  \n",
       "14442  080d620d24815c7d6c637cf0b71dde8e  42.901265 -124.995317        0  \n",
       "14443  3c346c8cd627c5fe3ed57430db2e9ae7  45.538062 -104.542117        0  \n",
       "14444  e66ffcc95ba7fc490486242af1205d04  64.081462 -165.898698        0  \n",
       "14445  65e7370f473f9b9d75796c8033a7c929  40.387243  -92.224871        0  "
      ]
     },
     "execution_count": 4,
     "metadata": {},
     "output_type": "execute_result"
    }
   ],
   "source": [
    "# Examining last 10 columns of the dataframe\n",
    "\n",
    "fraud_df.tail(10)"
   ]
  },
  {
   "cell_type": "code",
   "execution_count": 5,
   "metadata": {},
   "outputs": [
    {
     "name": "stdout",
     "output_type": "stream",
     "text": [
      "<class 'pandas.core.frame.DataFrame'>\n",
      "RangeIndex: 14446 entries, 0 to 14445\n",
      "Data columns (total 15 columns):\n",
      " #   Column                 Non-Null Count  Dtype  \n",
      "---  ------                 --------------  -----  \n",
      " 0   trans_date_trans_time  14446 non-null  object \n",
      " 1   merchant               14446 non-null  object \n",
      " 2   category               14446 non-null  object \n",
      " 3   amt                    14446 non-null  float64\n",
      " 4   city                   14446 non-null  object \n",
      " 5   state                  14446 non-null  object \n",
      " 6   lat                    14446 non-null  float64\n",
      " 7   long                   14446 non-null  float64\n",
      " 8   city_pop               14446 non-null  int64  \n",
      " 9   job                    14446 non-null  object \n",
      " 10  dob                    14446 non-null  object \n",
      " 11  trans_num              14446 non-null  object \n",
      " 12  merch_lat              14446 non-null  float64\n",
      " 13  merch_long             14446 non-null  float64\n",
      " 14  is_fraud               14446 non-null  object \n",
      "dtypes: float64(5), int64(1), object(9)\n",
      "memory usage: 1.7+ MB\n"
     ]
    }
   ],
   "source": [
    "# Examining the dataframe\n",
    "\n",
    "fraud_df.info()"
   ]
  },
  {
   "cell_type": "markdown",
   "metadata": {},
   "source": [
    "I created a Pandas Dataframe.  The Dataframe contains 14,446 rows of data.  The Dataframe contains 15 columns, which are the following:\n",
    "    \n",
    "1. Transaction Date and Time\n",
    "2. Merchant Name \n",
    "3. Category of Merchant \n",
    "4. Amount of Transaction\n",
    "5. City of Credit Card Holder \n",
    "6. State of Credit Card Holder \n",
    "7. Latitute Location of Purchase\n",
    "8. Longitude Location of Purchase\n",
    "9. Credit Card Holder's City Population\n",
    "10. Job of Credit Card Holder \n",
    "11. Date of Bright of Credit Card Holder\n",
    "12. Transaction Number \n",
    "13. Latitude of Location of Merchant\n",
    "14. Longitude Location of Merchant\n",
    "15. Whether Transaction is Fraud or Not    "
   ]
  },
  {
   "cell_type": "markdown",
   "metadata": {},
   "source": [
    "## Missing Data"
   ]
  },
  {
   "cell_type": "code",
   "execution_count": 6,
   "metadata": {},
   "outputs": [
    {
     "data": {
      "text/plain": [
       "trans_date_trans_time    0\n",
       "merchant                 0\n",
       "category                 0\n",
       "amt                      0\n",
       "city                     0\n",
       "state                    0\n",
       "lat                      0\n",
       "long                     0\n",
       "city_pop                 0\n",
       "job                      0\n",
       "dob                      0\n",
       "trans_num                0\n",
       "merch_lat                0\n",
       "merch_long               0\n",
       "is_fraud                 0\n",
       "dtype: int64"
      ]
     },
     "execution_count": 6,
     "metadata": {},
     "output_type": "execute_result"
    }
   ],
   "source": [
    "# Examining missing values in each column\n",
    "\n",
    "fraud_df.isna().sum()"
   ]
  },
  {
   "cell_type": "markdown",
   "metadata": {},
   "source": [
    "I utilized the following code - *fraud_df.isna().sum()* - to check for missing values in each column.  There are no missing values in any of the columns."
   ]
  },
  {
   "cell_type": "markdown",
   "metadata": {},
   "source": [
    "## Duplicate Data"
   ]
  },
  {
   "cell_type": "code",
   "execution_count": 7,
   "metadata": {},
   "outputs": [
    {
     "data": {
      "text/plain": [
       "63"
      ]
     },
     "execution_count": 7,
     "metadata": {},
     "output_type": "execute_result"
    }
   ],
   "source": [
    "# Examining dataframe for duplicate data\n",
    "\n",
    "fraud_df.duplicated().sum()"
   ]
  },
  {
   "cell_type": "code",
   "execution_count": 8,
   "metadata": {},
   "outputs": [],
   "source": [
    "# Creating a dataframe for duplicates\n",
    "\n",
    "duplicates_all = fraud_df[fraud_df.duplicated(keep=False)]"
   ]
  },
  {
   "cell_type": "code",
   "execution_count": 9,
   "metadata": {},
   "outputs": [
    {
     "data": {
      "text/html": [
       "<div>\n",
       "<style scoped>\n",
       "    .dataframe tbody tr th:only-of-type {\n",
       "        vertical-align: middle;\n",
       "    }\n",
       "\n",
       "    .dataframe tbody tr th {\n",
       "        vertical-align: top;\n",
       "    }\n",
       "\n",
       "    .dataframe thead th {\n",
       "        text-align: right;\n",
       "    }\n",
       "</style>\n",
       "<table border=\"1\" class=\"dataframe\">\n",
       "  <thead>\n",
       "    <tr style=\"text-align: right;\">\n",
       "      <th></th>\n",
       "      <th>trans_date_trans_time</th>\n",
       "      <th>merchant</th>\n",
       "      <th>category</th>\n",
       "      <th>amt</th>\n",
       "      <th>city</th>\n",
       "      <th>state</th>\n",
       "      <th>lat</th>\n",
       "      <th>long</th>\n",
       "      <th>city_pop</th>\n",
       "      <th>job</th>\n",
       "      <th>dob</th>\n",
       "      <th>trans_num</th>\n",
       "      <th>merch_lat</th>\n",
       "      <th>merch_long</th>\n",
       "      <th>is_fraud</th>\n",
       "    </tr>\n",
       "  </thead>\n",
       "  <tbody>\n",
       "    <tr>\n",
       "      <th>0</th>\n",
       "      <td>04-01-2019 00:58</td>\n",
       "      <td>\"Stokes, Christiansen and Sipes\"</td>\n",
       "      <td>grocery_net</td>\n",
       "      <td>14.37</td>\n",
       "      <td>Wales</td>\n",
       "      <td>AK</td>\n",
       "      <td>64.7556</td>\n",
       "      <td>-165.6723</td>\n",
       "      <td>145</td>\n",
       "      <td>\"Administrator, education\"</td>\n",
       "      <td>09-11-1939</td>\n",
       "      <td>a3806e984cec6ac0096d8184c64ad3a1</td>\n",
       "      <td>65.654142</td>\n",
       "      <td>-164.722603</td>\n",
       "      <td>1</td>\n",
       "    </tr>\n",
       "    <tr>\n",
       "      <th>1</th>\n",
       "      <td>04-01-2019 15:06</td>\n",
       "      <td>Predovic Inc</td>\n",
       "      <td>shopping_net</td>\n",
       "      <td>966.11</td>\n",
       "      <td>Wales</td>\n",
       "      <td>AK</td>\n",
       "      <td>64.7556</td>\n",
       "      <td>-165.6723</td>\n",
       "      <td>145</td>\n",
       "      <td>\"Administrator, education\"</td>\n",
       "      <td>09-11-1939</td>\n",
       "      <td>a59185fe1b9ccf21323f581d7477573f</td>\n",
       "      <td>65.468863</td>\n",
       "      <td>-165.473127</td>\n",
       "      <td>1</td>\n",
       "    </tr>\n",
       "    <tr>\n",
       "      <th>2</th>\n",
       "      <td>04-01-2019 22:37</td>\n",
       "      <td>Wisozk and Sons</td>\n",
       "      <td>misc_pos</td>\n",
       "      <td>49.61</td>\n",
       "      <td>Wales</td>\n",
       "      <td>AK</td>\n",
       "      <td>64.7556</td>\n",
       "      <td>-165.6723</td>\n",
       "      <td>145</td>\n",
       "      <td>\"Administrator, education\"</td>\n",
       "      <td>09-11-1939</td>\n",
       "      <td>86ba3a888b42cd3925881fa34177b4e0</td>\n",
       "      <td>65.347667</td>\n",
       "      <td>-165.914542</td>\n",
       "      <td>1</td>\n",
       "    </tr>\n",
       "    <tr>\n",
       "      <th>3</th>\n",
       "      <td>04-01-2019 23:06</td>\n",
       "      <td>Murray-Smitham</td>\n",
       "      <td>grocery_pos</td>\n",
       "      <td>295.26</td>\n",
       "      <td>Wales</td>\n",
       "      <td>AK</td>\n",
       "      <td>64.7556</td>\n",
       "      <td>-165.6723</td>\n",
       "      <td>145</td>\n",
       "      <td>\"Administrator, education\"</td>\n",
       "      <td>09-11-1939</td>\n",
       "      <td>3a068fe1d856f0ecedbed33e4b5f4496</td>\n",
       "      <td>64.445035</td>\n",
       "      <td>-166.080207</td>\n",
       "      <td>1</td>\n",
       "    </tr>\n",
       "    <tr>\n",
       "      <th>4</th>\n",
       "      <td>04-01-2019 23:59</td>\n",
       "      <td>Friesen Lt</td>\n",
       "      <td>health_fitness</td>\n",
       "      <td>18.17</td>\n",
       "      <td>Wales</td>\n",
       "      <td>AK</td>\n",
       "      <td>64.7556</td>\n",
       "      <td>-165.6723</td>\n",
       "      <td>145</td>\n",
       "      <td>\"Administrator, education\"</td>\n",
       "      <td>09-11-1939</td>\n",
       "      <td>891cdd1191028759dc20dc224347a0ff</td>\n",
       "      <td>65.447094</td>\n",
       "      <td>-165.446843</td>\n",
       "      <td>1</td>\n",
       "    </tr>\n",
       "    <tr>\n",
       "      <th>5</th>\n",
       "      <td>05-01-2019 03:15</td>\n",
       "      <td>\"Raynor, Reinger and Hagenes\"</td>\n",
       "      <td>gas_transport</td>\n",
       "      <td>20.45</td>\n",
       "      <td>Wales</td>\n",
       "      <td>AK</td>\n",
       "      <td>64.7556</td>\n",
       "      <td>-165.6723</td>\n",
       "      <td>145</td>\n",
       "      <td>\"Administrator, education\"</td>\n",
       "      <td>09-11-1939</td>\n",
       "      <td>ef010a5f4f570d306a050a368ee2729d</td>\n",
       "      <td>64.088838</td>\n",
       "      <td>-165.104078</td>\n",
       "      <td>1</td>\n",
       "    </tr>\n",
       "    <tr>\n",
       "      <th>6</th>\n",
       "      <td>05-01-2019 03:21</td>\n",
       "      <td>Heller-Langosh</td>\n",
       "      <td>gas_transport</td>\n",
       "      <td>18.19</td>\n",
       "      <td>Wales</td>\n",
       "      <td>AK</td>\n",
       "      <td>64.7556</td>\n",
       "      <td>-165.6723</td>\n",
       "      <td>145</td>\n",
       "      <td>\"Administrator, education\"</td>\n",
       "      <td>09-11-1939</td>\n",
       "      <td>8e2d2fae5319d31c887dddbc70627ac4</td>\n",
       "      <td>63.917785</td>\n",
       "      <td>-165.827621</td>\n",
       "      <td>1</td>\n",
       "    </tr>\n",
       "    <tr>\n",
       "      <th>7</th>\n",
       "      <td>05-01-2019 11:31</td>\n",
       "      <td>Padberg-Welch</td>\n",
       "      <td>grocery_pos</td>\n",
       "      <td>367.29</td>\n",
       "      <td>Browning</td>\n",
       "      <td>MO</td>\n",
       "      <td>40.0290</td>\n",
       "      <td>-93.1607</td>\n",
       "      <td>602</td>\n",
       "      <td>Cytogeneticist</td>\n",
       "      <td>14-07-1954</td>\n",
       "      <td>5fbe827807ec9f557f6242bb48db0e51</td>\n",
       "      <td>39.167065</td>\n",
       "      <td>-93.705245</td>\n",
       "      <td>1</td>\n",
       "    </tr>\n",
       "    <tr>\n",
       "      <th>8</th>\n",
       "      <td>05-01-2019 18:03</td>\n",
       "      <td>McGlynn-Heathcote</td>\n",
       "      <td>misc_net</td>\n",
       "      <td>768.15</td>\n",
       "      <td>Wales</td>\n",
       "      <td>AK</td>\n",
       "      <td>64.7556</td>\n",
       "      <td>-165.6723</td>\n",
       "      <td>145</td>\n",
       "      <td>\"Administrator, education\"</td>\n",
       "      <td>09-11-1939</td>\n",
       "      <td>fba83e0a3adb530251295ab72a96b719</td>\n",
       "      <td>64.623325</td>\n",
       "      <td>-166.403973</td>\n",
       "      <td>1</td>\n",
       "    </tr>\n",
       "    <tr>\n",
       "      <th>9</th>\n",
       "      <td>05-01-2019 22:02</td>\n",
       "      <td>Dooley-Thompson</td>\n",
       "      <td>misc_net</td>\n",
       "      <td>849.49</td>\n",
       "      <td>Wales</td>\n",
       "      <td>AK</td>\n",
       "      <td>64.7556</td>\n",
       "      <td>-165.6723</td>\n",
       "      <td>145</td>\n",
       "      <td>\"Administrator, education\"</td>\n",
       "      <td>09-11-1939</td>\n",
       "      <td>b87c92d4824758e704da572891697fed</td>\n",
       "      <td>65.266065</td>\n",
       "      <td>-164.865352</td>\n",
       "      <td>1</td>\n",
       "    </tr>\n",
       "    <tr>\n",
       "      <th>10</th>\n",
       "      <td>05-01-2019 22:05</td>\n",
       "      <td>\"Gottlieb, Considine and Schultz\"</td>\n",
       "      <td>shopping_net</td>\n",
       "      <td>1177.79</td>\n",
       "      <td>Browning</td>\n",
       "      <td>MO</td>\n",
       "      <td>40.0290</td>\n",
       "      <td>-93.1607</td>\n",
       "      <td>602</td>\n",
       "      <td>Cytogeneticist</td>\n",
       "      <td>14-07-1954</td>\n",
       "      <td>f1c51701d8b5dd6ebfe7c1aebf0c4fe7</td>\n",
       "      <td>39.288305</td>\n",
       "      <td>-92.476947</td>\n",
       "      <td>1</td>\n",
       "    </tr>\n",
       "    <tr>\n",
       "      <th>11</th>\n",
       "      <td>05-01-2019 22:12</td>\n",
       "      <td>\"Moen, Reinger and Murphy\"</td>\n",
       "      <td>grocery_pos</td>\n",
       "      <td>307.09</td>\n",
       "      <td>Wales</td>\n",
       "      <td>AK</td>\n",
       "      <td>64.7556</td>\n",
       "      <td>-165.6723</td>\n",
       "      <td>145</td>\n",
       "      <td>\"Administrator, education\"</td>\n",
       "      <td>09-11-1939</td>\n",
       "      <td>755e4e8350ec4a3e9309727574c97726</td>\n",
       "      <td>64.909145</td>\n",
       "      <td>-164.712087</td>\n",
       "      <td>1</td>\n",
       "    </tr>\n",
       "    <tr>\n",
       "      <th>12</th>\n",
       "      <td>05-01-2019 22:18</td>\n",
       "      <td>\"Hauck, Dietrich and Funk\"</td>\n",
       "      <td>kids_pets</td>\n",
       "      <td>4.58</td>\n",
       "      <td>Wales</td>\n",
       "      <td>AK</td>\n",
       "      <td>64.7556</td>\n",
       "      <td>-165.6723</td>\n",
       "      <td>145</td>\n",
       "      <td>\"Administrator, education\"</td>\n",
       "      <td>09-11-1939</td>\n",
       "      <td>8fa7880cf01e6adc96e9654d69f3f035</td>\n",
       "      <td>65.052892</td>\n",
       "      <td>-166.067029</td>\n",
       "      <td>1</td>\n",
       "    </tr>\n",
       "    <tr>\n",
       "      <th>13</th>\n",
       "      <td>05-01-2019 22:32</td>\n",
       "      <td>Pouros-Haag</td>\n",
       "      <td>shopping_pos</td>\n",
       "      <td>730.78</td>\n",
       "      <td>Wales</td>\n",
       "      <td>AK</td>\n",
       "      <td>64.7556</td>\n",
       "      <td>-165.6723</td>\n",
       "      <td>145</td>\n",
       "      <td>\"Administrator, education\"</td>\n",
       "      <td>09-11-1939</td>\n",
       "      <td>2396a5b8e277a4ce1d4fa939d6e7b19b</td>\n",
       "      <td>65.233866</td>\n",
       "      <td>-166.550779</td>\n",
       "      <td>1</td>\n",
       "    </tr>\n",
       "    <tr>\n",
       "      <th>14</th>\n",
       "      <td>05-01-2019 22:33</td>\n",
       "      <td>Goyette Inc</td>\n",
       "      <td>shopping_net</td>\n",
       "      <td>1006.40</td>\n",
       "      <td>Wales</td>\n",
       "      <td>AK</td>\n",
       "      <td>64.7556</td>\n",
       "      <td>-165.6723</td>\n",
       "      <td>145</td>\n",
       "      <td>\"Administrator, education\"</td>\n",
       "      <td>09-11-1939</td>\n",
       "      <td>4d7e567247b6c4529ce4c32c03b2f040</td>\n",
       "      <td>65.220316</td>\n",
       "      <td>-165.005725</td>\n",
       "      <td>1</td>\n",
       "    </tr>\n",
       "    <tr>\n",
       "      <th>15</th>\n",
       "      <td>05-01-2019 22:38</td>\n",
       "      <td>\"Baumbach, Strosin and Nicolas\"</td>\n",
       "      <td>shopping_pos</td>\n",
       "      <td>830.72</td>\n",
       "      <td>Wales</td>\n",
       "      <td>AK</td>\n",
       "      <td>64.7556</td>\n",
       "      <td>-165.6723</td>\n",
       "      <td>145</td>\n",
       "      <td>\"Administrator, education\"</td>\n",
       "      <td>09-11-1939</td>\n",
       "      <td>773a3305db095657e1860a39dda24cf2</td>\n",
       "      <td>65.710538</td>\n",
       "      <td>-165.986117</td>\n",
       "      <td>1</td>\n",
       "    </tr>\n",
       "    <tr>\n",
       "      <th>16</th>\n",
       "      <td>05-01-2019 23:17</td>\n",
       "      <td>Pacocha-O'Reilly</td>\n",
       "      <td>grocery_pos</td>\n",
       "      <td>311.92</td>\n",
       "      <td>Wales</td>\n",
       "      <td>AK</td>\n",
       "      <td>64.7556</td>\n",
       "      <td>-165.6723</td>\n",
       "      <td>145</td>\n",
       "      <td>\"Administrator, education\"</td>\n",
       "      <td>09-11-1939</td>\n",
       "      <td>191b3dcec7a6a49438be93cfbeaea9c1</td>\n",
       "      <td>64.795010</td>\n",
       "      <td>-165.670735</td>\n",
       "      <td>1</td>\n",
       "    </tr>\n",
       "    <tr>\n",
       "      <th>17</th>\n",
       "      <td>05-01-2019 23:26</td>\n",
       "      <td>Barrows PLC</td>\n",
       "      <td>shopping_pos</td>\n",
       "      <td>762.93</td>\n",
       "      <td>Browning</td>\n",
       "      <td>MO</td>\n",
       "      <td>40.0290</td>\n",
       "      <td>-93.1607</td>\n",
       "      <td>602</td>\n",
       "      <td>Cytogeneticist</td>\n",
       "      <td>14-07-1954</td>\n",
       "      <td>19b126ecf4c79997e9edc6f260c09880</td>\n",
       "      <td>40.205262</td>\n",
       "      <td>-93.499211</td>\n",
       "      <td>1</td>\n",
       "    </tr>\n",
       "    <tr>\n",
       "      <th>18</th>\n",
       "      <td>06-01-2019 18:39</td>\n",
       "      <td>Fisher-Schowalte</td>\n",
       "      <td>shopping_net</td>\n",
       "      <td>855.88</td>\n",
       "      <td>Browning</td>\n",
       "      <td>MO</td>\n",
       "      <td>40.0290</td>\n",
       "      <td>-93.1607</td>\n",
       "      <td>602</td>\n",
       "      <td>Cytogeneticist</td>\n",
       "      <td>14-07-1954</td>\n",
       "      <td>bbae703c3794b7738d08739afbaef898</td>\n",
       "      <td>40.786018</td>\n",
       "      <td>-93.301092</td>\n",
       "      <td>1</td>\n",
       "    </tr>\n",
       "    <tr>\n",
       "      <th>19</th>\n",
       "      <td>06-01-2019 23:33</td>\n",
       "      <td>Gleason-Macejkovic</td>\n",
       "      <td>shopping_net</td>\n",
       "      <td>909.29</td>\n",
       "      <td>Browning</td>\n",
       "      <td>MO</td>\n",
       "      <td>40.0290</td>\n",
       "      <td>-93.1607</td>\n",
       "      <td>602</td>\n",
       "      <td>Cytogeneticist</td>\n",
       "      <td>14-07-1954</td>\n",
       "      <td>b98eb7183ee8a48e83539addc80ea9cc</td>\n",
       "      <td>40.977312</td>\n",
       "      <td>-93.550980</td>\n",
       "      <td>1</td>\n",
       "    </tr>\n",
       "  </tbody>\n",
       "</table>\n",
       "</div>"
      ],
      "text/plain": [
       "   trans_date_trans_time                           merchant        category  \\\n",
       "0       04-01-2019 00:58   \"Stokes, Christiansen and Sipes\"     grocery_net   \n",
       "1       04-01-2019 15:06                       Predovic Inc    shopping_net   \n",
       "2       04-01-2019 22:37                    Wisozk and Sons        misc_pos   \n",
       "3       04-01-2019 23:06                     Murray-Smitham     grocery_pos   \n",
       "4       04-01-2019 23:59                         Friesen Lt  health_fitness   \n",
       "5       05-01-2019 03:15      \"Raynor, Reinger and Hagenes\"   gas_transport   \n",
       "6       05-01-2019 03:21                     Heller-Langosh   gas_transport   \n",
       "7       05-01-2019 11:31                      Padberg-Welch     grocery_pos   \n",
       "8       05-01-2019 18:03                  McGlynn-Heathcote        misc_net   \n",
       "9       05-01-2019 22:02                    Dooley-Thompson        misc_net   \n",
       "10      05-01-2019 22:05  \"Gottlieb, Considine and Schultz\"    shopping_net   \n",
       "11      05-01-2019 22:12         \"Moen, Reinger and Murphy\"     grocery_pos   \n",
       "12      05-01-2019 22:18         \"Hauck, Dietrich and Funk\"       kids_pets   \n",
       "13      05-01-2019 22:32                        Pouros-Haag    shopping_pos   \n",
       "14      05-01-2019 22:33                        Goyette Inc    shopping_net   \n",
       "15      05-01-2019 22:38    \"Baumbach, Strosin and Nicolas\"    shopping_pos   \n",
       "16      05-01-2019 23:17                   Pacocha-O'Reilly     grocery_pos   \n",
       "17      05-01-2019 23:26                        Barrows PLC    shopping_pos   \n",
       "18      06-01-2019 18:39                   Fisher-Schowalte    shopping_net   \n",
       "19      06-01-2019 23:33                 Gleason-Macejkovic    shopping_net   \n",
       "\n",
       "        amt      city state      lat      long  city_pop  \\\n",
       "0     14.37     Wales    AK  64.7556 -165.6723       145   \n",
       "1    966.11     Wales    AK  64.7556 -165.6723       145   \n",
       "2     49.61     Wales    AK  64.7556 -165.6723       145   \n",
       "3    295.26     Wales    AK  64.7556 -165.6723       145   \n",
       "4     18.17     Wales    AK  64.7556 -165.6723       145   \n",
       "5     20.45     Wales    AK  64.7556 -165.6723       145   \n",
       "6     18.19     Wales    AK  64.7556 -165.6723       145   \n",
       "7    367.29  Browning    MO  40.0290  -93.1607       602   \n",
       "8    768.15     Wales    AK  64.7556 -165.6723       145   \n",
       "9    849.49     Wales    AK  64.7556 -165.6723       145   \n",
       "10  1177.79  Browning    MO  40.0290  -93.1607       602   \n",
       "11   307.09     Wales    AK  64.7556 -165.6723       145   \n",
       "12     4.58     Wales    AK  64.7556 -165.6723       145   \n",
       "13   730.78     Wales    AK  64.7556 -165.6723       145   \n",
       "14  1006.40     Wales    AK  64.7556 -165.6723       145   \n",
       "15   830.72     Wales    AK  64.7556 -165.6723       145   \n",
       "16   311.92     Wales    AK  64.7556 -165.6723       145   \n",
       "17   762.93  Browning    MO  40.0290  -93.1607       602   \n",
       "18   855.88  Browning    MO  40.0290  -93.1607       602   \n",
       "19   909.29  Browning    MO  40.0290  -93.1607       602   \n",
       "\n",
       "                           job         dob                         trans_num  \\\n",
       "0   \"Administrator, education\"  09-11-1939  a3806e984cec6ac0096d8184c64ad3a1   \n",
       "1   \"Administrator, education\"  09-11-1939  a59185fe1b9ccf21323f581d7477573f   \n",
       "2   \"Administrator, education\"  09-11-1939  86ba3a888b42cd3925881fa34177b4e0   \n",
       "3   \"Administrator, education\"  09-11-1939  3a068fe1d856f0ecedbed33e4b5f4496   \n",
       "4   \"Administrator, education\"  09-11-1939  891cdd1191028759dc20dc224347a0ff   \n",
       "5   \"Administrator, education\"  09-11-1939  ef010a5f4f570d306a050a368ee2729d   \n",
       "6   \"Administrator, education\"  09-11-1939  8e2d2fae5319d31c887dddbc70627ac4   \n",
       "7               Cytogeneticist  14-07-1954  5fbe827807ec9f557f6242bb48db0e51   \n",
       "8   \"Administrator, education\"  09-11-1939  fba83e0a3adb530251295ab72a96b719   \n",
       "9   \"Administrator, education\"  09-11-1939  b87c92d4824758e704da572891697fed   \n",
       "10              Cytogeneticist  14-07-1954  f1c51701d8b5dd6ebfe7c1aebf0c4fe7   \n",
       "11  \"Administrator, education\"  09-11-1939  755e4e8350ec4a3e9309727574c97726   \n",
       "12  \"Administrator, education\"  09-11-1939  8fa7880cf01e6adc96e9654d69f3f035   \n",
       "13  \"Administrator, education\"  09-11-1939  2396a5b8e277a4ce1d4fa939d6e7b19b   \n",
       "14  \"Administrator, education\"  09-11-1939  4d7e567247b6c4529ce4c32c03b2f040   \n",
       "15  \"Administrator, education\"  09-11-1939  773a3305db095657e1860a39dda24cf2   \n",
       "16  \"Administrator, education\"  09-11-1939  191b3dcec7a6a49438be93cfbeaea9c1   \n",
       "17              Cytogeneticist  14-07-1954  19b126ecf4c79997e9edc6f260c09880   \n",
       "18              Cytogeneticist  14-07-1954  bbae703c3794b7738d08739afbaef898   \n",
       "19              Cytogeneticist  14-07-1954  b98eb7183ee8a48e83539addc80ea9cc   \n",
       "\n",
       "    merch_lat  merch_long is_fraud  \n",
       "0   65.654142 -164.722603        1  \n",
       "1   65.468863 -165.473127        1  \n",
       "2   65.347667 -165.914542        1  \n",
       "3   64.445035 -166.080207        1  \n",
       "4   65.447094 -165.446843        1  \n",
       "5   64.088838 -165.104078        1  \n",
       "6   63.917785 -165.827621        1  \n",
       "7   39.167065  -93.705245        1  \n",
       "8   64.623325 -166.403973        1  \n",
       "9   65.266065 -164.865352        1  \n",
       "10  39.288305  -92.476947        1  \n",
       "11  64.909145 -164.712087        1  \n",
       "12  65.052892 -166.067029        1  \n",
       "13  65.233866 -166.550779        1  \n",
       "14  65.220316 -165.005725        1  \n",
       "15  65.710538 -165.986117        1  \n",
       "16  64.795010 -165.670735        1  \n",
       "17  40.205262  -93.499211        1  \n",
       "18  40.786018  -93.301092        1  \n",
       "19  40.977312  -93.550980        1  "
      ]
     },
     "execution_count": 9,
     "metadata": {},
     "output_type": "execute_result"
    }
   ],
   "source": [
    "# Examining the first 20 rows of the duplicates dataframe\n",
    "\n",
    "duplicates_all.head(20)"
   ]
  },
  {
   "cell_type": "code",
   "execution_count": 10,
   "metadata": {},
   "outputs": [
    {
     "data": {
      "text/html": [
       "<div>\n",
       "<style scoped>\n",
       "    .dataframe tbody tr th:only-of-type {\n",
       "        vertical-align: middle;\n",
       "    }\n",
       "\n",
       "    .dataframe tbody tr th {\n",
       "        vertical-align: top;\n",
       "    }\n",
       "\n",
       "    .dataframe thead th {\n",
       "        text-align: right;\n",
       "    }\n",
       "</style>\n",
       "<table border=\"1\" class=\"dataframe\">\n",
       "  <thead>\n",
       "    <tr style=\"text-align: right;\">\n",
       "      <th></th>\n",
       "      <th>trans_date_trans_time</th>\n",
       "      <th>merchant</th>\n",
       "      <th>category</th>\n",
       "      <th>amt</th>\n",
       "      <th>city</th>\n",
       "      <th>state</th>\n",
       "      <th>lat</th>\n",
       "      <th>long</th>\n",
       "      <th>city_pop</th>\n",
       "      <th>job</th>\n",
       "      <th>dob</th>\n",
       "      <th>trans_num</th>\n",
       "      <th>merch_lat</th>\n",
       "      <th>merch_long</th>\n",
       "      <th>is_fraud</th>\n",
       "    </tr>\n",
       "  </thead>\n",
       "  <tbody>\n",
       "    <tr>\n",
       "      <th>12092</th>\n",
       "      <td>14-01-2019 16:15</td>\n",
       "      <td>\"Baumbach, Hodkiewicz and Walsh\"</td>\n",
       "      <td>shopping_pos</td>\n",
       "      <td>839.35</td>\n",
       "      <td>Westerville</td>\n",
       "      <td>NE</td>\n",
       "      <td>41.4193</td>\n",
       "      <td>-99.3844</td>\n",
       "      <td>73</td>\n",
       "      <td>Product designer</td>\n",
       "      <td>10-02-1935</td>\n",
       "      <td>7f9497dfc82f973690fd20102c502210</td>\n",
       "      <td>42.337832</td>\n",
       "      <td>-99.342280</td>\n",
       "      <td>1</td>\n",
       "    </tr>\n",
       "    <tr>\n",
       "      <th>12222</th>\n",
       "      <td>14-01-2019 22:28</td>\n",
       "      <td>Beier-Hyatt</td>\n",
       "      <td>shopping_pos</td>\n",
       "      <td>969.64</td>\n",
       "      <td>San Jose</td>\n",
       "      <td>CA</td>\n",
       "      <td>37.3304</td>\n",
       "      <td>-121.7913</td>\n",
       "      <td>973849</td>\n",
       "      <td>Science writer</td>\n",
       "      <td>12-06-1955</td>\n",
       "      <td>163aa0609a5b81e3b3be72fb7bc31ed3</td>\n",
       "      <td>36.709536</td>\n",
       "      <td>-122.649175</td>\n",
       "      <td>1</td>\n",
       "    </tr>\n",
       "    <tr>\n",
       "      <th>12238</th>\n",
       "      <td>14-01-2019 23:17</td>\n",
       "      <td>\"Reichert, Huels and Hoppe\"</td>\n",
       "      <td>shopping_net</td>\n",
       "      <td>1034.21</td>\n",
       "      <td>Westerville</td>\n",
       "      <td>NE</td>\n",
       "      <td>41.4193</td>\n",
       "      <td>-99.3844</td>\n",
       "      <td>73</td>\n",
       "      <td>Product designer</td>\n",
       "      <td>10-02-1935</td>\n",
       "      <td>d861ecd9fb05ec1832e4168e31cda378</td>\n",
       "      <td>41.124870</td>\n",
       "      <td>-100.349332</td>\n",
       "      <td>1</td>\n",
       "    </tr>\n",
       "    <tr>\n",
       "      <th>12239</th>\n",
       "      <td>14-01-2019 23:18</td>\n",
       "      <td>\"Konopelski, Schneider and Hartmann\"</td>\n",
       "      <td>food_dining</td>\n",
       "      <td>121.62</td>\n",
       "      <td>Westerville</td>\n",
       "      <td>NE</td>\n",
       "      <td>41.4193</td>\n",
       "      <td>-99.3844</td>\n",
       "      <td>73</td>\n",
       "      <td>Product designer</td>\n",
       "      <td>10-02-1935</td>\n",
       "      <td>31001f18f1cc19cfde92209361884e06</td>\n",
       "      <td>40.544371</td>\n",
       "      <td>-98.726597</td>\n",
       "      <td>1</td>\n",
       "    </tr>\n",
       "    <tr>\n",
       "      <th>12274</th>\n",
       "      <td>15-01-2019 01:07</td>\n",
       "      <td>VonRueden Group</td>\n",
       "      <td>grocery_net</td>\n",
       "      <td>15.05</td>\n",
       "      <td>Westerville</td>\n",
       "      <td>NE</td>\n",
       "      <td>41.4193</td>\n",
       "      <td>-99.3844</td>\n",
       "      <td>73</td>\n",
       "      <td>Product designer</td>\n",
       "      <td>10-02-1935</td>\n",
       "      <td>f3d6f1020342e0aec86a1483d85a52d4</td>\n",
       "      <td>42.015822</td>\n",
       "      <td>-98.943391</td>\n",
       "      <td>1</td>\n",
       "    </tr>\n",
       "    <tr>\n",
       "      <th>12643</th>\n",
       "      <td>15-01-2019 22:50</td>\n",
       "      <td>Koelpin and Sons</td>\n",
       "      <td>misc_net</td>\n",
       "      <td>851.71</td>\n",
       "      <td>Westerville</td>\n",
       "      <td>NE</td>\n",
       "      <td>41.4193</td>\n",
       "      <td>-99.3844</td>\n",
       "      <td>73</td>\n",
       "      <td>Product designer</td>\n",
       "      <td>10-02-1935</td>\n",
       "      <td>22b7c01ff32367d1c58037196e9b6afb</td>\n",
       "      <td>40.461654</td>\n",
       "      <td>-98.987825</td>\n",
       "      <td>1</td>\n",
       "    </tr>\n",
       "    <tr>\n",
       "      <th>12647</th>\n",
       "      <td>15-01-2019 23:01</td>\n",
       "      <td>\"Little, Gutmann and Lynch\"</td>\n",
       "      <td>shopping_net</td>\n",
       "      <td>1124.01</td>\n",
       "      <td>Westerville</td>\n",
       "      <td>NE</td>\n",
       "      <td>41.4193</td>\n",
       "      <td>-99.3844</td>\n",
       "      <td>73</td>\n",
       "      <td>Product designer</td>\n",
       "      <td>10-02-1935</td>\n",
       "      <td>18754b81f40491fc7058342bf61eb82e</td>\n",
       "      <td>40.650720</td>\n",
       "      <td>-98.820629</td>\n",
       "      <td>1</td>\n",
       "    </tr>\n",
       "    <tr>\n",
       "      <th>12650</th>\n",
       "      <td>15-01-2019 23:12</td>\n",
       "      <td>\"Reichert, Shanahan and Hayes\"</td>\n",
       "      <td>shopping_net</td>\n",
       "      <td>1140.41</td>\n",
       "      <td>Westerville</td>\n",
       "      <td>NE</td>\n",
       "      <td>41.4193</td>\n",
       "      <td>-99.3844</td>\n",
       "      <td>73</td>\n",
       "      <td>Product designer</td>\n",
       "      <td>10-02-1935</td>\n",
       "      <td>7da32f9ad2d6aa478131b5f7fa51fee5</td>\n",
       "      <td>41.151133</td>\n",
       "      <td>-99.382380</td>\n",
       "      <td>1</td>\n",
       "    </tr>\n",
       "    <tr>\n",
       "      <th>12905</th>\n",
       "      <td>17-01-2019 01:30</td>\n",
       "      <td>\"Monahan, Bogisich and Ledne\"</td>\n",
       "      <td>misc_pos</td>\n",
       "      <td>795.59</td>\n",
       "      <td>Thompson</td>\n",
       "      <td>UT</td>\n",
       "      <td>38.9999</td>\n",
       "      <td>-109.6150</td>\n",
       "      <td>46</td>\n",
       "      <td>\"Surveyor, minerals\"</td>\n",
       "      <td>23-04-1987</td>\n",
       "      <td>5d6931d4ac32d177b708ed9785d409ea</td>\n",
       "      <td>38.278335</td>\n",
       "      <td>-109.044284</td>\n",
       "      <td>1</td>\n",
       "    </tr>\n",
       "    <tr>\n",
       "      <th>12962</th>\n",
       "      <td>17-01-2019 08:59</td>\n",
       "      <td>Kutch LLC</td>\n",
       "      <td>gas_transport</td>\n",
       "      <td>9.79</td>\n",
       "      <td>Thompson</td>\n",
       "      <td>UT</td>\n",
       "      <td>38.9999</td>\n",
       "      <td>-109.6150</td>\n",
       "      <td>46</td>\n",
       "      <td>\"Surveyor, minerals\"</td>\n",
       "      <td>23-04-1987</td>\n",
       "      <td>73d976fc46f089af2c58c39273525b55</td>\n",
       "      <td>39.157345</td>\n",
       "      <td>-109.126592</td>\n",
       "      <td>1</td>\n",
       "    </tr>\n",
       "    <tr>\n",
       "      <th>13109</th>\n",
       "      <td>17-01-2019 22:26</td>\n",
       "      <td>Kutch-Wilderman</td>\n",
       "      <td>home</td>\n",
       "      <td>187.35</td>\n",
       "      <td>Thompson</td>\n",
       "      <td>UT</td>\n",
       "      <td>38.9999</td>\n",
       "      <td>-109.6150</td>\n",
       "      <td>46</td>\n",
       "      <td>\"Surveyor, minerals\"</td>\n",
       "      <td>23-04-1987</td>\n",
       "      <td>4f7bdd079103fb386ebe90b1fd22fd7b</td>\n",
       "      <td>39.422070</td>\n",
       "      <td>-109.555496</td>\n",
       "      <td>1</td>\n",
       "    </tr>\n",
       "    <tr>\n",
       "      <th>13115</th>\n",
       "      <td>17-01-2019 22:45</td>\n",
       "      <td>\"Nicolas, Hills and McGlynn\"</td>\n",
       "      <td>entertainment</td>\n",
       "      <td>564.34</td>\n",
       "      <td>Thompson</td>\n",
       "      <td>UT</td>\n",
       "      <td>38.9999</td>\n",
       "      <td>-109.6150</td>\n",
       "      <td>46</td>\n",
       "      <td>\"Surveyor, minerals\"</td>\n",
       "      <td>23-04-1987</td>\n",
       "      <td>b8b80b56dbdf53fbe417f0915fe1d3ee</td>\n",
       "      <td>38.435536</td>\n",
       "      <td>-109.844716</td>\n",
       "      <td>1</td>\n",
       "    </tr>\n",
       "    <tr>\n",
       "      <th>13133</th>\n",
       "      <td>18-01-2019 00:23</td>\n",
       "      <td>Boyer PLC</td>\n",
       "      <td>shopping_net</td>\n",
       "      <td>978.96</td>\n",
       "      <td>Thompson</td>\n",
       "      <td>UT</td>\n",
       "      <td>38.9999</td>\n",
       "      <td>-109.6150</td>\n",
       "      <td>46</td>\n",
       "      <td>\"Surveyor, minerals\"</td>\n",
       "      <td>23-04-1987</td>\n",
       "      <td>fbda3f1531d8d9186359a561e09077af</td>\n",
       "      <td>38.893999</td>\n",
       "      <td>-109.677707</td>\n",
       "      <td>1</td>\n",
       "    </tr>\n",
       "    <tr>\n",
       "      <th>13155</th>\n",
       "      <td>18-01-2019 03:36</td>\n",
       "      <td>Kerluke-Abshire</td>\n",
       "      <td>shopping_net</td>\n",
       "      <td>849.79</td>\n",
       "      <td>Thompson</td>\n",
       "      <td>UT</td>\n",
       "      <td>38.9999</td>\n",
       "      <td>-109.6150</td>\n",
       "      <td>46</td>\n",
       "      <td>\"Surveyor, minerals\"</td>\n",
       "      <td>23-04-1987</td>\n",
       "      <td>9047da1474aecee56ec498ca6c3456d8</td>\n",
       "      <td>38.376171</td>\n",
       "      <td>-110.362490</td>\n",
       "      <td>1</td>\n",
       "    </tr>\n",
       "    <tr>\n",
       "      <th>13158</th>\n",
       "      <td>18-01-2019 03:54</td>\n",
       "      <td>Rempel Inc</td>\n",
       "      <td>shopping_net</td>\n",
       "      <td>955.40</td>\n",
       "      <td>Thompson</td>\n",
       "      <td>UT</td>\n",
       "      <td>38.9999</td>\n",
       "      <td>-109.6150</td>\n",
       "      <td>46</td>\n",
       "      <td>\"Surveyor, minerals\"</td>\n",
       "      <td>23-04-1987</td>\n",
       "      <td>421094fceb39c5379bdb06f6a7e5cc0a</td>\n",
       "      <td>38.748484</td>\n",
       "      <td>-110.321810</td>\n",
       "      <td>1</td>\n",
       "    </tr>\n",
       "    <tr>\n",
       "      <th>13261</th>\n",
       "      <td>18-01-2019 14:38</td>\n",
       "      <td>Shanahan-Lehne</td>\n",
       "      <td>personal_care</td>\n",
       "      <td>21.54</td>\n",
       "      <td>Thompson</td>\n",
       "      <td>UT</td>\n",
       "      <td>38.9999</td>\n",
       "      <td>-109.6150</td>\n",
       "      <td>46</td>\n",
       "      <td>\"Surveyor, minerals\"</td>\n",
       "      <td>23-04-1987</td>\n",
       "      <td>ce3b2734ce646ef6a47b3484a8e043e5</td>\n",
       "      <td>38.211376</td>\n",
       "      <td>-109.986757</td>\n",
       "      <td>1</td>\n",
       "    </tr>\n",
       "    <tr>\n",
       "      <th>13372</th>\n",
       "      <td>18-01-2019 22:06</td>\n",
       "      <td>Beier LLC</td>\n",
       "      <td>entertainment</td>\n",
       "      <td>528.98</td>\n",
       "      <td>Thompson</td>\n",
       "      <td>UT</td>\n",
       "      <td>38.9999</td>\n",
       "      <td>-109.6150</td>\n",
       "      <td>46</td>\n",
       "      <td>\"Surveyor, minerals\"</td>\n",
       "      <td>23-04-1987</td>\n",
       "      <td>3417f366e2e1d5dd25a3a89a3aae9f3d</td>\n",
       "      <td>39.164469</td>\n",
       "      <td>-109.933543</td>\n",
       "      <td>1</td>\n",
       "    </tr>\n",
       "    <tr>\n",
       "      <th>13376</th>\n",
       "      <td>18-01-2019 22:12</td>\n",
       "      <td>Bartoletti and Sons</td>\n",
       "      <td>personal_care</td>\n",
       "      <td>21.23</td>\n",
       "      <td>Thompson</td>\n",
       "      <td>UT</td>\n",
       "      <td>38.9999</td>\n",
       "      <td>-109.6150</td>\n",
       "      <td>46</td>\n",
       "      <td>\"Surveyor, minerals\"</td>\n",
       "      <td>23-04-1987</td>\n",
       "      <td>2df9fa2d0e508ed2a83aa3ac6f4b5d5a</td>\n",
       "      <td>38.998205</td>\n",
       "      <td>-110.005615</td>\n",
       "      <td>1</td>\n",
       "    </tr>\n",
       "    <tr>\n",
       "      <th>13392</th>\n",
       "      <td>18-01-2019 23:16</td>\n",
       "      <td>Ankunding-Carroll</td>\n",
       "      <td>travel</td>\n",
       "      <td>9.33</td>\n",
       "      <td>Thompson</td>\n",
       "      <td>UT</td>\n",
       "      <td>38.9999</td>\n",
       "      <td>-109.6150</td>\n",
       "      <td>46</td>\n",
       "      <td>\"Surveyor, minerals\"</td>\n",
       "      <td>23-04-1987</td>\n",
       "      <td>a0ed41246d201717db7250fa2375c73b</td>\n",
       "      <td>39.230640</td>\n",
       "      <td>-108.990363</td>\n",
       "      <td>1</td>\n",
       "    </tr>\n",
       "    <tr>\n",
       "      <th>13396</th>\n",
       "      <td>18-01-2019 23:31</td>\n",
       "      <td>Wilkinson Lt</td>\n",
       "      <td>entertainment</td>\n",
       "      <td>386.91</td>\n",
       "      <td>Thompson</td>\n",
       "      <td>UT</td>\n",
       "      <td>38.9999</td>\n",
       "      <td>-109.6150</td>\n",
       "      <td>46</td>\n",
       "      <td>\"Surveyor, minerals\"</td>\n",
       "      <td>23-04-1987</td>\n",
       "      <td>48dcc21bdef98405171a831d70b463c8</td>\n",
       "      <td>39.262556</td>\n",
       "      <td>-109.656927</td>\n",
       "      <td>1</td>\n",
       "    </tr>\n",
       "  </tbody>\n",
       "</table>\n",
       "</div>"
      ],
      "text/plain": [
       "      trans_date_trans_time                              merchant  \\\n",
       "12092      14-01-2019 16:15      \"Baumbach, Hodkiewicz and Walsh\"   \n",
       "12222      14-01-2019 22:28                           Beier-Hyatt   \n",
       "12238      14-01-2019 23:17           \"Reichert, Huels and Hoppe\"   \n",
       "12239      14-01-2019 23:18  \"Konopelski, Schneider and Hartmann\"   \n",
       "12274      15-01-2019 01:07                       VonRueden Group   \n",
       "12643      15-01-2019 22:50                      Koelpin and Sons   \n",
       "12647      15-01-2019 23:01           \"Little, Gutmann and Lynch\"   \n",
       "12650      15-01-2019 23:12        \"Reichert, Shanahan and Hayes\"   \n",
       "12905      17-01-2019 01:30         \"Monahan, Bogisich and Ledne\"   \n",
       "12962      17-01-2019 08:59                             Kutch LLC   \n",
       "13109      17-01-2019 22:26                       Kutch-Wilderman   \n",
       "13115      17-01-2019 22:45          \"Nicolas, Hills and McGlynn\"   \n",
       "13133      18-01-2019 00:23                             Boyer PLC   \n",
       "13155      18-01-2019 03:36                       Kerluke-Abshire   \n",
       "13158      18-01-2019 03:54                            Rempel Inc   \n",
       "13261      18-01-2019 14:38                        Shanahan-Lehne   \n",
       "13372      18-01-2019 22:06                             Beier LLC   \n",
       "13376      18-01-2019 22:12                   Bartoletti and Sons   \n",
       "13392      18-01-2019 23:16                     Ankunding-Carroll   \n",
       "13396      18-01-2019 23:31                          Wilkinson Lt   \n",
       "\n",
       "            category      amt         city state      lat      long  city_pop  \\\n",
       "12092   shopping_pos   839.35  Westerville    NE  41.4193  -99.3844        73   \n",
       "12222   shopping_pos   969.64     San Jose    CA  37.3304 -121.7913    973849   \n",
       "12238   shopping_net  1034.21  Westerville    NE  41.4193  -99.3844        73   \n",
       "12239    food_dining   121.62  Westerville    NE  41.4193  -99.3844        73   \n",
       "12274    grocery_net    15.05  Westerville    NE  41.4193  -99.3844        73   \n",
       "12643       misc_net   851.71  Westerville    NE  41.4193  -99.3844        73   \n",
       "12647   shopping_net  1124.01  Westerville    NE  41.4193  -99.3844        73   \n",
       "12650   shopping_net  1140.41  Westerville    NE  41.4193  -99.3844        73   \n",
       "12905       misc_pos   795.59     Thompson    UT  38.9999 -109.6150        46   \n",
       "12962  gas_transport     9.79     Thompson    UT  38.9999 -109.6150        46   \n",
       "13109           home   187.35     Thompson    UT  38.9999 -109.6150        46   \n",
       "13115  entertainment   564.34     Thompson    UT  38.9999 -109.6150        46   \n",
       "13133   shopping_net   978.96     Thompson    UT  38.9999 -109.6150        46   \n",
       "13155   shopping_net   849.79     Thompson    UT  38.9999 -109.6150        46   \n",
       "13158   shopping_net   955.40     Thompson    UT  38.9999 -109.6150        46   \n",
       "13261  personal_care    21.54     Thompson    UT  38.9999 -109.6150        46   \n",
       "13372  entertainment   528.98     Thompson    UT  38.9999 -109.6150        46   \n",
       "13376  personal_care    21.23     Thompson    UT  38.9999 -109.6150        46   \n",
       "13392         travel     9.33     Thompson    UT  38.9999 -109.6150        46   \n",
       "13396  entertainment   386.91     Thompson    UT  38.9999 -109.6150        46   \n",
       "\n",
       "                        job         dob                         trans_num  \\\n",
       "12092      Product designer  10-02-1935  7f9497dfc82f973690fd20102c502210   \n",
       "12222        Science writer  12-06-1955  163aa0609a5b81e3b3be72fb7bc31ed3   \n",
       "12238      Product designer  10-02-1935  d861ecd9fb05ec1832e4168e31cda378   \n",
       "12239      Product designer  10-02-1935  31001f18f1cc19cfde92209361884e06   \n",
       "12274      Product designer  10-02-1935  f3d6f1020342e0aec86a1483d85a52d4   \n",
       "12643      Product designer  10-02-1935  22b7c01ff32367d1c58037196e9b6afb   \n",
       "12647      Product designer  10-02-1935  18754b81f40491fc7058342bf61eb82e   \n",
       "12650      Product designer  10-02-1935  7da32f9ad2d6aa478131b5f7fa51fee5   \n",
       "12905  \"Surveyor, minerals\"  23-04-1987  5d6931d4ac32d177b708ed9785d409ea   \n",
       "12962  \"Surveyor, minerals\"  23-04-1987  73d976fc46f089af2c58c39273525b55   \n",
       "13109  \"Surveyor, minerals\"  23-04-1987  4f7bdd079103fb386ebe90b1fd22fd7b   \n",
       "13115  \"Surveyor, minerals\"  23-04-1987  b8b80b56dbdf53fbe417f0915fe1d3ee   \n",
       "13133  \"Surveyor, minerals\"  23-04-1987  fbda3f1531d8d9186359a561e09077af   \n",
       "13155  \"Surveyor, minerals\"  23-04-1987  9047da1474aecee56ec498ca6c3456d8   \n",
       "13158  \"Surveyor, minerals\"  23-04-1987  421094fceb39c5379bdb06f6a7e5cc0a   \n",
       "13261  \"Surveyor, minerals\"  23-04-1987  ce3b2734ce646ef6a47b3484a8e043e5   \n",
       "13372  \"Surveyor, minerals\"  23-04-1987  3417f366e2e1d5dd25a3a89a3aae9f3d   \n",
       "13376  \"Surveyor, minerals\"  23-04-1987  2df9fa2d0e508ed2a83aa3ac6f4b5d5a   \n",
       "13392  \"Surveyor, minerals\"  23-04-1987  a0ed41246d201717db7250fa2375c73b   \n",
       "13396  \"Surveyor, minerals\"  23-04-1987  48dcc21bdef98405171a831d70b463c8   \n",
       "\n",
       "       merch_lat  merch_long is_fraud  \n",
       "12092  42.337832  -99.342280        1  \n",
       "12222  36.709536 -122.649175        1  \n",
       "12238  41.124870 -100.349332        1  \n",
       "12239  40.544371  -98.726597        1  \n",
       "12274  42.015822  -98.943391        1  \n",
       "12643  40.461654  -98.987825        1  \n",
       "12647  40.650720  -98.820629        1  \n",
       "12650  41.151133  -99.382380        1  \n",
       "12905  38.278335 -109.044284        1  \n",
       "12962  39.157345 -109.126592        1  \n",
       "13109  39.422070 -109.555496        1  \n",
       "13115  38.435536 -109.844716        1  \n",
       "13133  38.893999 -109.677707        1  \n",
       "13155  38.376171 -110.362490        1  \n",
       "13158  38.748484 -110.321810        1  \n",
       "13261  38.211376 -109.986757        1  \n",
       "13372  39.164469 -109.933543        1  \n",
       "13376  38.998205 -110.005615        1  \n",
       "13392  39.230640 -108.990363        1  \n",
       "13396  39.262556 -109.656927        1  "
      ]
     },
     "execution_count": 10,
     "metadata": {},
     "output_type": "execute_result"
    }
   ],
   "source": [
    "# Examining the last 20 rows of the duplicates dataframe\n",
    "\n",
    "duplicates_all.tail(20)"
   ]
  },
  {
   "cell_type": "markdown",
   "metadata": {},
   "source": [
    "I utilized the following code - *fraud_df.duplicated().sum()* - to understand how many duplicated rows are in the dataframe.  There is a total of 63 duplicate rows."
   ]
  },
  {
   "cell_type": "markdown",
   "metadata": {},
   "source": [
    "## Examining Columns"
   ]
  },
  {
   "cell_type": "markdown",
   "metadata": {},
   "source": [
    "I am going to conduct additional exploratory analysis for the following columns:\n",
    "    \n",
    "- Whether Transaction is Fraud or Not\n",
    "- Merchant Name\n",
    "- Category of Merchant\n",
    "- City of Credit Card Holder\n",
    "- State of Credit Card Holder\n",
    "- Job of Credit Card Holder\n",
    "- Transaction Number\n",
    "\n",
    "The following column - Whether Transaction is Fraud or Not - is the target.  This is the column that captures the non-fradulent and fradulent transactions.\n",
    "\n",
    "The remaining columns are categorical.  I want to examine the distribution of the data within each column."
   ]
  },
  {
   "cell_type": "markdown",
   "metadata": {},
   "source": [
    "### Whether Transaction is Fraud or Not"
   ]
  },
  {
   "cell_type": "code",
   "execution_count": 11,
   "metadata": {},
   "outputs": [
    {
     "data": {
      "text/plain": [
       "0                         12600\n",
       "1                          1844\n",
       "0\"2019-01-01 00:00:44\"        1\n",
       "1\"2020-12-24 16:56:24\"        1\n",
       "Name: is_fraud, dtype: int64"
      ]
     },
     "execution_count": 11,
     "metadata": {},
     "output_type": "execute_result"
    }
   ],
   "source": [
    "# Examining how many values of fraud are in the following column: 'is_fraud'\n",
    "\n",
    "fraud_df['is_fraud'].value_counts()"
   ]
  },
  {
   "cell_type": "markdown",
   "metadata": {},
   "source": [
    "**Observations | Whether Transaction is Fraud or Not**    "
   ]
  },
  {
   "cell_type": "markdown",
   "metadata": {},
   "source": [
    "I utilized the following code - *fraud_df['is_fraud'].value_counts()* - to understand how many cases of fraud exist within the dataframe.\n",
    "\n",
    "There 12,600 cases of no fraud.  There are 1,844 cases of fraud.  As expected, there is a class imbalance of fraud within the dataset.\n",
    "\n",
    "I want to note there is a row with the following entry - *0\"2019-01-01 00:00:44\"*.  I am assuming this is a non-fradulent case in which the transaction date and time was incorporated.  I will remove the timestamp during the data cleaning phase.\n",
    "\n",
    "I also want to note there is a row with the following entry - *1\"2020-12-24 16:56:24\"*.  I am assuming this is a fradulent case in which the transaction date and time was incorporated.  I will remove the timestamp during the data cleaning phase.\n",
    "\n",
    "A bar chart that breaks down the non-fradulent and fradulent cases is below."
   ]
  },
  {
   "cell_type": "code",
   "execution_count": 12,
   "metadata": {},
   "outputs": [
    {
     "data": {
      "text/plain": [
       "Text(0.5, 1.0, 'Breakdown of Fraud Cases')"
      ]
     },
     "execution_count": 12,
     "metadata": {},
     "output_type": "execute_result"
    },
    {
     "data": {
      "image/png": "[encoded data removed]",
      "text/plain": [
       "<Figure size 432x288 with 1 Axes>"
      ]
     },
     "metadata": {
      "needs_background": "light"
     },
     "output_type": "display_data"
    }
   ],
   "source": [
    "# Create a bar chart for Value Counts of the 'is_fraud' column\n",
    "\n",
    "ax = sns.countplot(x='is_fraud', data=fraud_df)\n",
    "\n",
    "for p in ax.patches:\n",
    "    height = p.get_height()\n",
    "    ax.annotate(f'{height}', \n",
    "                (p.get_x() + p.get_width() / 2., height), \n",
    "                ha='center', va='bottom')  # Center text horizontally and place above the bar\n",
    "\n",
    "plt.title(\"Breakdown of Fraud Cases\")"
   ]
  },
  {
   "cell_type": "markdown",
   "metadata": {},
   "source": [
    "### Merchant Name"
   ]
  },
  {
   "cell_type": "code",
   "execution_count": 13,
   "metadata": {},
   "outputs": [
    {
     "data": {
      "text/plain": [
       "693"
      ]
     },
     "execution_count": 13,
     "metadata": {},
     "output_type": "execute_result"
    }
   ],
   "source": [
    "# Examining the number of unique categories in the 'merchant' column\n",
    "\n",
    "fraud_df['merchant'].nunique()"
   ]
  },
  {
   "cell_type": "code",
   "execution_count": 14,
   "metadata": {},
   "outputs": [
    {
     "data": {
      "text/plain": [
       "Kilback LLC          58\n",
       "Cormier LLC          48\n",
       "Kutch and Sons       46\n",
       "Rau and Sons         44\n",
       "Kiehn-Emmerich       42\n",
       "                     ..\n",
       "Jaskolski-Dibbert     4\n",
       "Collier Inc           4\n",
       "Lemke and Sons        4\n",
       "Wiegand-Lowe          4\n",
       "Kovacek Lt            3\n",
       "Name: merchant, Length: 693, dtype: int64"
      ]
     },
     "execution_count": 14,
     "metadata": {},
     "output_type": "execute_result"
    }
   ],
   "source": [
    "# Examining the value counts for each unique category in the 'merchant' column\n",
    "\n",
    "fraud_df['merchant'].value_counts()"
   ]
  },
  {
   "cell_type": "code",
   "execution_count": 15,
   "metadata": {},
   "outputs": [
    {
     "data": {
      "text/plain": [
       "Kilback LLC                               58\n",
       "Cormier LLC                               48\n",
       "Kutch and Sons                            46\n",
       "Rau and Sons                              44\n",
       "Kiehn-Emmerich                            42\n",
       "McDermott-Weimann                         42\n",
       "Boyer PLC                                 41\n",
       "Emard Inc                                 40\n",
       "Kuhn LLC                                  39\n",
       "Kutch-Wilderman                           39\n",
       "Murray-Smitham                            39\n",
       "\"Osinski, Ledner and Leuschke\"            38\n",
       "Hudson-Grady                              38\n",
       "Dickinson Lt                              38\n",
       "Stark-Koss                                38\n",
       "Gerhold LLC                               38\n",
       "\"Baumbach, Strosin and Nicolas\"           37\n",
       "Padberg-Welch                             37\n",
       "Doyle Lt                                  37\n",
       "Hudson-Ratke                              37\n",
       "\"Romaguera, Cruickshank and Greenholt\"    37\n",
       "Torp-Labadie                              37\n",
       "Boyer-Reichert                            37\n",
       "\"Kovacek, Dibbert and Ondrick\"            36\n",
       "\"Raynor, Reinger and Hagenes\"             36\n",
       "Hackett-Lueilwitz                         36\n",
       "\"Mosciski, Gislason and Mertz\"            36\n",
       "Cummerata-Jones                           36\n",
       "\"Bahringer, Schoen and Corkery\"           36\n",
       "Bernier and Sons                          36\n",
       "Name: merchant, dtype: int64"
      ]
     },
     "execution_count": 15,
     "metadata": {},
     "output_type": "execute_result"
    }
   ],
   "source": [
    "# Examining the value counts for the top 30 categories in the 'merchant' column\n",
    "\n",
    "fraud_df['merchant'].value_counts()[0:30]"
   ]
  },
  {
   "cell_type": "markdown",
   "metadata": {},
   "source": [
    "**Observations | Merchant Name**    "
   ]
  },
  {
   "cell_type": "markdown",
   "metadata": {},
   "source": [
    "I utilized the following code - *fraud_df['merchant'].nunique()* - to identify the number of unique categories in the Merchant column.  There are 693 different categories in the Merchant column.  \n",
    "\n",
    "I utilized the following code - fraud_df['merchant'].value_counts() - to understand the distribution of the categories within the Merchant column.  The top 5 categories with their respective value counts are the following:\n",
    "    \n",
    "- Kilback LLC - 58\n",
    "- Cormier LLC - 48\n",
    "- Kutch and Sons - 46\n",
    "- Rau and Sons - 44\n",
    "- Kiehn-Emmerich - 42\n",
    "    \n",
    "Based on the observations, there is a high degree of cardinality, or many unique categories, within the Merchant column.\n",
    "    \n",
    "I utilized the following code - *fraud_df['merchant'].value_counts().plot()* - to provide a visualization of the high cardinality, which is below."
   ]
  },
  {
   "cell_type": "code",
   "execution_count": 16,
   "metadata": {},
   "outputs": [
    {
     "data": {
      "text/plain": [
       "<AxesSubplot:>"
      ]
     },
     "execution_count": 16,
     "metadata": {},
     "output_type": "execute_result"
    },
    {
     "data": {
      "image/png": "[encoded data removed]",
      "text/plain": [
       "<Figure size 432x288 with 1 Axes>"
      ]
     },
     "metadata": {
      "needs_background": "light"
     },
     "output_type": "display_data"
    }
   ],
   "source": [
    "# Visualization of the cardinality of the 'Merchant' column\n",
    "\n",
    "fraud_df['merchant'].value_counts().plot()"
   ]
  },
  {
   "cell_type": "markdown",
   "metadata": {},
   "source": [
    "### Category (of Merchant)"
   ]
  },
  {
   "cell_type": "code",
   "execution_count": 17,
   "metadata": {},
   "outputs": [
    {
     "data": {
      "text/plain": [
       "14"
      ]
     },
     "execution_count": 17,
     "metadata": {},
     "output_type": "execute_result"
    }
   ],
   "source": [
    "# Examining the number of unique categories in the 'category' column\n",
    "\n",
    "fraud_df['category'].nunique()"
   ]
  },
  {
   "cell_type": "code",
   "execution_count": 18,
   "metadata": {},
   "outputs": [
    {
     "data": {
      "text/plain": [
       "grocery_pos       1602\n",
       "gas_transport     1430\n",
       "shopping_net      1408\n",
       "shopping_pos      1354\n",
       "home              1304\n",
       "kids_pets         1141\n",
       "personal_care      990\n",
       "entertainment      953\n",
       "health_fitness     891\n",
       "food_dining        870\n",
       "misc_pos           823\n",
       "misc_net           821\n",
       "grocery_net        474\n",
       "travel             385\n",
       "Name: category, dtype: int64"
      ]
     },
     "execution_count": 18,
     "metadata": {},
     "output_type": "execute_result"
    }
   ],
   "source": [
    "# Examining the value counts for each unique category in the 'category' column\n",
    "\n",
    "fraud_df['category'].value_counts()"
   ]
  },
  {
   "cell_type": "markdown",
   "metadata": {},
   "source": [
    "**Observations | Category (of Merchant)** "
   ]
  },
  {
   "cell_type": "markdown",
   "metadata": {},
   "source": [
    "I utilized the following code - *fraud_df['category'].nunique()* - to identify the number of unique categories in the Category column.  There are 14 different categories in the Category column.  \n",
    "\n",
    "I utilized the following code - fraud_df['category'].value_counts() - to understand the distribution of the categories within the Category column.  The top 5 categories with their respective value counts are the following:\n",
    "    \n",
    "- *grocery_pos* - 1602\n",
    "- *gas_transport* - 1430\n",
    "- *shopping_net* - 1408\n",
    "- *shopping_pos* - 1354\n",
    "- *home* - 1304\n",
    "    \n",
    "Based on the observations, there is a low degree of cardinality, or few unique categories, within the Category column.\n",
    "    \n",
    "I utilized the following code - *fraud_df['category'].value_counts().plot()* - to provide a visualization of the low cardinality, which is below."
   ]
  },
  {
   "cell_type": "code",
   "execution_count": 19,
   "metadata": {},
   "outputs": [
    {
     "data": {
      "text/plain": [
       "<AxesSubplot:>"
      ]
     },
     "execution_count": 19,
     "metadata": {},
     "output_type": "execute_result"
    },
    {
     "data": {
      "image/png": "[encoded data removed]",
      "text/plain": [
       "<Figure size 432x288 with 1 Axes>"
      ]
     },
     "metadata": {
      "needs_background": "light"
     },
     "output_type": "display_data"
    }
   ],
   "source": [
    "# Visualization of the cardinality of the 'Category' column\n",
    "\n",
    "fraud_df['category'].value_counts().plot()"
   ]
  },
  {
   "cell_type": "code",
   "execution_count": 20,
   "metadata": {},
   "outputs": [],
   "source": [
    "# Creating a dataframe that only has the fradulent transactions\n",
    "\n",
    "all_fraud_cases = fraud_df[fraud_df['is_fraud'] == '1']"
   ]
  },
  {
   "cell_type": "code",
   "execution_count": 21,
   "metadata": {},
   "outputs": [
    {
     "data": {
      "text/plain": [
       "grocery_pos       444\n",
       "shopping_net      396\n",
       "misc_net          223\n",
       "shopping_pos      194\n",
       "gas_transport     159\n",
       "misc_pos           64\n",
       "entertainment      59\n",
       "personal_care      57\n",
       "kids_pets          56\n",
       "home               51\n",
       "food_dining        39\n",
       "health_fitness     36\n",
       "travel             34\n",
       "grocery_net        32\n",
       "Name: category, dtype: int64"
      ]
     },
     "execution_count": 21,
     "metadata": {},
     "output_type": "execute_result"
    }
   ],
   "source": [
    "# Examining the values counts of the Category column within the new dataframe - 'all_fraud_cases'\n",
    "\n",
    "all_fraud_cases['category'].value_counts()"
   ]
  },
  {
   "cell_type": "markdown",
   "metadata": {},
   "source": [
    "I created a dataframe that only has the fradulent credit card transactions.  The top five merchant categories that have fradulent transactionss are the following:\n",
    "\n",
    "- *grocery_pos* - 444\n",
    "- *shopping_net* - 396\n",
    "- *misc_net* - 223\n",
    "- *shopping_pos* - 194\n",
    "- *gas_transport* - 159\n",
    "\n",
    "Upon observing the data, I see there are opportunities to group some of the merchant categories together.  For example, *food_dining* category can become part of the *entertainment* category.\n",
    "\n",
    "I also created a bar chart to represent which merchant categories have the most fradulent cases.  The bar chart is below."
   ]
  },
  {
   "cell_type": "code",
   "execution_count": 22,
   "metadata": {},
   "outputs": [
    {
     "data": {
      "text/plain": [
       "Text(0.5, 1.0, 'Breakdown of Merchant Category for Fraud Cases')"
      ]
     },
     "execution_count": 22,
     "metadata": {},
     "output_type": "execute_result"
    },
    {
     "data": {
      "image/png": "[encoded data removed]",
      "text/plain": [
       "<Figure size 432x288 with 1 Axes>"
      ]
     },
     "metadata": {
      "needs_background": "light"
     },
     "output_type": "display_data"
    }
   ],
   "source": [
    "# Get the sorted index of categories based on their counts\n",
    "sorted_categories = all_fraud_cases['category'].value_counts().index\n",
    "\n",
    "# Creating the bar chart\n",
    "ax = sns.countplot(y='category', data=all_fraud_cases, order=sorted_categories)\n",
    "\n",
    "for p in ax.patches:\n",
    "    width = p.get_width()\n",
    "    ax.annotate(f'{width}', \n",
    "                (width, p.get_y() + p.get_height() / 2), \n",
    "                ha='left', va='center')  # Align text to the left of the bar and center vertically\n",
    "\n",
    "plt.title(\"Breakdown of Merchant Category for Fraud Cases\")"
   ]
  },
  {
   "cell_type": "markdown",
   "metadata": {},
   "source": [
    "### City of Credit Card Holder"
   ]
  },
  {
   "cell_type": "code",
   "execution_count": 23,
   "metadata": {},
   "outputs": [
    {
     "data": {
      "text/plain": [
       "176"
      ]
     },
     "execution_count": 23,
     "metadata": {},
     "output_type": "execute_result"
    }
   ],
   "source": [
    "# Examining the number of unique categories in the 'city' column\n",
    "\n",
    "fraud_df['city'].nunique()"
   ]
  },
  {
   "cell_type": "code",
   "execution_count": 24,
   "metadata": {},
   "outputs": [
    {
     "data": {
      "text/plain": [
       "Phoenix          297\n",
       "Centerview       197\n",
       "Orient           192\n",
       "Sutherland       187\n",
       "Fort Washakie    187\n",
       "                ... \n",
       "Seligman          10\n",
       "Pleasant Hill      8\n",
       "Buellton           8\n",
       "Wappapello         8\n",
       "Vacaville          7\n",
       "Name: city, Length: 176, dtype: int64"
      ]
     },
     "execution_count": 24,
     "metadata": {},
     "output_type": "execute_result"
    }
   ],
   "source": [
    "# Examining the value counts for each unique category in the 'city' column\n",
    "\n",
    "fraud_df['city'].value_counts()"
   ]
  },
  {
   "cell_type": "markdown",
   "metadata": {},
   "source": [
    "**Observations | City of Credit Card Holder** "
   ]
  },
  {
   "cell_type": "markdown",
   "metadata": {},
   "source": [
    "I utilized the following code - *fraud_df['city'].nunique()* - to identify the number of unique categories in the City column.  There are 176 different categories in the City column.  \n",
    "\n",
    "I utilized the following code - fraud_df['city'].value_counts() - to understand the distribution of the categories within the City column.  The top 5 categories with their respective value counts are the following:\n",
    "    \n",
    "- Phoenix - 297\n",
    "- Centerview - 197\n",
    "- Orient - 192\n",
    "- Sutherland - 187\n",
    "- Fort Washakie - 187\n",
    "    \n",
    "Based on the observations, there is a high degree of cardinality, or many unique categories, within the City column.\n",
    "    \n",
    "I utilized the following code - *fraud_df['city'].value_counts().plot()* - to provide a visualization of the high cardinality, which is below."
   ]
  },
  {
   "cell_type": "code",
   "execution_count": 25,
   "metadata": {},
   "outputs": [
    {
     "data": {
      "text/plain": [
       "<AxesSubplot:>"
      ]
     },
     "execution_count": 25,
     "metadata": {},
     "output_type": "execute_result"
    },
    {
     "data": {
      "image/png": "[encoded data removed]",
      "text/plain": [
       "<Figure size 432x288 with 1 Axes>"
      ]
     },
     "metadata": {
      "needs_background": "light"
     },
     "output_type": "display_data"
    }
   ],
   "source": [
    "# Visualization of the cardinality of the 'City' column\n",
    "\n",
    "fraud_df['city'].value_counts().plot()"
   ]
  },
  {
   "cell_type": "markdown",
   "metadata": {},
   "source": [
    "### State of Credit Card Holder"
   ]
  },
  {
   "cell_type": "code",
   "execution_count": 26,
   "metadata": {},
   "outputs": [
    {
     "data": {
      "text/plain": [
       "13"
      ]
     },
     "execution_count": 26,
     "metadata": {},
     "output_type": "execute_result"
    }
   ],
   "source": [
    "# Examining the number of unique categories in the 'state' column\n",
    "\n",
    "fraud_df['state'].nunique()"
   ]
  },
  {
   "cell_type": "code",
   "execution_count": 27,
   "metadata": {},
   "outputs": [
    {
     "data": {
      "text/plain": [
       "CA    3375\n",
       "MO    2329\n",
       "NE    1460\n",
       "OR    1211\n",
       "WA    1150\n",
       "WY    1100\n",
       "NM    1003\n",
       "CO     856\n",
       "AZ     673\n",
       "UT     597\n",
       "ID     347\n",
       "AK     173\n",
       "HI     172\n",
       "Name: state, dtype: int64"
      ]
     },
     "execution_count": 27,
     "metadata": {},
     "output_type": "execute_result"
    }
   ],
   "source": [
    "# Examining the value counts for each unique category in the 'state' column\n",
    "\n",
    "fraud_df['state'].value_counts()"
   ]
  },
  {
   "cell_type": "markdown",
   "metadata": {},
   "source": [
    "**Observations | State of Credit Card Holder** "
   ]
  },
  {
   "cell_type": "markdown",
   "metadata": {},
   "source": [
    "I utilized the following code - *fraud_df['state'].nunique()* - to identify the number of unique categories in the State column.  There are 13 different categories in the State column.  \n",
    "\n",
    "I utilized the following code - fraud_df['state'].value_counts() - to understand the distribution of the categories within the State column.  The top 5 categories with their respective value counts are the following:\n",
    "    \n",
    "- CA - 3375\n",
    "- MO - 2329\n",
    "- NE - 1460\n",
    "- OR - 1211\n",
    "- WA - 1150\n",
    "    \n",
    "Based on the observations, there is a low degree of cardinality, or few unique categories, within the State column.\n",
    "    \n",
    "I utilized the following code - *fraud_df['state'].value_counts().plot()* - to provide a visualization of the low cardinality, which is below."
   ]
  },
  {
   "cell_type": "code",
   "execution_count": 28,
   "metadata": {},
   "outputs": [
    {
     "data": {
      "text/plain": [
       "<AxesSubplot:>"
      ]
     },
     "execution_count": 28,
     "metadata": {},
     "output_type": "execute_result"
    },
    {
     "data": {
      "image/png": "[encoded data removed]",
      "text/plain": [
       "<Figure size 432x288 with 1 Axes>"
      ]
     },
     "metadata": {
      "needs_background": "light"
     },
     "output_type": "display_data"
    }
   ],
   "source": [
    "# Visualization of the cardinality of the 'State' column\n",
    "\n",
    "fraud_df['state'].value_counts().plot()"
   ]
  },
  {
   "cell_type": "code",
   "execution_count": 29,
   "metadata": {},
   "outputs": [
    {
     "data": {
      "text/plain": [
       "CA    410\n",
       "MO    267\n",
       "NE    238\n",
       "OR    197\n",
       "WA    126\n",
       "NM    121\n",
       "WY    119\n",
       "CO    115\n",
       "UT     73\n",
       "AK     65\n",
       "AZ     64\n",
       "ID     33\n",
       "HI     16\n",
       "Name: state, dtype: int64"
      ]
     },
     "execution_count": 29,
     "metadata": {},
     "output_type": "execute_result"
    }
   ],
   "source": [
    "# Examining the values counts of the State column within the new dataframe - 'all_fraud_cases'\n",
    "\n",
    "all_fraud_cases['state'].value_counts()"
   ]
  },
  {
   "cell_type": "markdown",
   "metadata": {},
   "source": [
    "I leveraged the dataframe that only has the fradulent credit card transactions.  The top five states that have fradulent transactionss are the following:\n",
    "\n",
    "- CA - 410\n",
    "- MO - 267\n",
    "- NE - 238\n",
    "- OR - 197\n",
    "- WA - 126\n",
    "\n",
    "Upon observing the data, I see there are opportunities to group some of the states together.  For example, I can group the states into the following categories: West, Southwest, and Midwest.  However, I would be inclined to maintain California (CA), Alaska (AK), and HI (Hawaii) as standalone states.\n",
    "\n",
    "I also created a bar chart to represent which states have the most fradulent cases.  The bar chart is below."
   ]
  },
  {
   "cell_type": "code",
   "execution_count": 31,
   "metadata": {},
   "outputs": [
    {
     "data": {
      "text/plain": [
       "Text(0.5, 1.0, 'Breakdown of States for Fraud Cases')"
      ]
     },
     "execution_count": 31,
     "metadata": {},
     "output_type": "execute_result"
    },
    {
     "data": {
      "image/png": "[encoded data removed]",
      "text/plain": [
       "<Figure size 432x288 with 1 Axes>"
      ]
     },
     "metadata": {
      "needs_background": "light"
     },
     "output_type": "display_data"
    }
   ],
   "source": [
    "# Get the sorted index of states based on their counts\n",
    "sorted_states = all_fraud_cases['state'].value_counts().index\n",
    "\n",
    "# Creating the bar chart\n",
    "ax = sns.countplot(y='state', data=all_fraud_cases, order=sorted_states)\n",
    "\n",
    "for p in ax.patches:\n",
    "    width = p.get_width()\n",
    "    ax.annotate(f'{width}', \n",
    "                (width, p.get_y() + p.get_height() / 2), \n",
    "                ha='left', va='center')  # Align text to the left of the bar and center vertically\n",
    "\n",
    "plt.title(\"Breakdown of States for Fraud Cases\")"
   ]
  },
  {
   "cell_type": "markdown",
   "metadata": {},
   "source": [
    "### Job of Credit Card Holder"
   ]
  },
  {
   "cell_type": "code",
   "execution_count": 32,
   "metadata": {},
   "outputs": [
    {
     "data": {
      "text/plain": [
       "163"
      ]
     },
     "execution_count": 32,
     "metadata": {},
     "output_type": "execute_result"
    }
   ],
   "source": [
    "# Examining the number of unique categories in the 'job' column\n",
    "\n",
    "fraud_df['job'].nunique()"
   ]
  },
  {
   "cell_type": "code",
   "execution_count": 33,
   "metadata": {},
   "outputs": [
    {
     "data": {
      "text/plain": [
       "\"Surveyor, minerals\"            262\n",
       "\"Surveyor, land/geomatics\"      240\n",
       "Land/geomatics surveyor         225\n",
       "Insurance broker                209\n",
       "Electronics engineer            197\n",
       "                               ... \n",
       "Systems developer                 9\n",
       "Landscape architect               9\n",
       "Research scientist (medical)      8\n",
       "Information officer               8\n",
       "Clinical cytogeneticist           7\n",
       "Name: job, Length: 163, dtype: int64"
      ]
     },
     "execution_count": 33,
     "metadata": {},
     "output_type": "execute_result"
    }
   ],
   "source": [
    "# Examining the value counts for each unique category in the 'job' column\n",
    "\n",
    "fraud_df['job'].value_counts()"
   ]
  },
  {
   "cell_type": "markdown",
   "metadata": {},
   "source": [
    "**Observations | Job of Credit Card Holder** "
   ]
  },
  {
   "cell_type": "markdown",
   "metadata": {},
   "source": [
    "I utilized the following code - *fraud_df['job'].nunique()* - to identify the number of unique categories in the Job column.  There are 163 different categories in the Job column.  \n",
    "\n",
    "I utilized the following code - fraud_df['job'].value_counts() - to understand the distribution of the categories within the Job column.  The top 5 categories with their respective value counts are the following:\n",
    "    \n",
    "- Surveyor, minerals - 262\n",
    "- Surveyor, land/geomatics - 240\n",
    "- Land/geomatics surveyor - 225\n",
    "- Insurance broker - 209\n",
    "- Electronics engineer - 197\n",
    "    \n",
    "Based on the observations, there is a high degree of cardinality, or many unique categories, within the Job column.\n",
    "    \n",
    "I utilized the following code - *fraud_df['job'].value_counts().plot()* - to provide a visualization of the high cardinality, which is below."
   ]
  },
  {
   "cell_type": "code",
   "execution_count": 34,
   "metadata": {},
   "outputs": [
    {
     "data": {
      "text/plain": [
       "<AxesSubplot:>"
      ]
     },
     "execution_count": 34,
     "metadata": {},
     "output_type": "execute_result"
    },
    {
     "data": {
      "image/png": "[encoded data removed]",
      "text/plain": [
       "<Figure size 432x288 with 1 Axes>"
      ]
     },
     "metadata": {
      "needs_background": "light"
     },
     "output_type": "display_data"
    }
   ],
   "source": [
    "# Visualization of the cardinality of the 'Job' column\n",
    "\n",
    "fraud_df['job'].value_counts().plot()"
   ]
  },
  {
   "cell_type": "markdown",
   "metadata": {},
   "source": [
    "### Transaction Number"
   ]
  },
  {
   "cell_type": "code",
   "execution_count": 35,
   "metadata": {},
   "outputs": [
    {
     "data": {
      "text/plain": [
       "14383"
      ]
     },
     "execution_count": 35,
     "metadata": {},
     "output_type": "execute_result"
    }
   ],
   "source": [
    "# Examining the number of unique categories in the 'transaction number' column\n",
    "\n",
    "fraud_df['trans_num'].nunique()"
   ]
  },
  {
   "cell_type": "code",
   "execution_count": 36,
   "metadata": {},
   "outputs": [
    {
     "data": {
      "text/plain": [
       "9047da1474aecee56ec498ca6c3456d8    2\n",
       "421094fceb39c5379bdb06f6a7e5cc0a    2\n",
       "f1c51701d8b5dd6ebfe7c1aebf0c4fe7    2\n",
       "4d7e567247b6c4529ce4c32c03b2f040    2\n",
       "436937887b481bbb237956bb4e592193    2\n",
       "                                   ..\n",
       "fc9fbe2f5b1f57002a2581f18aa486a2    1\n",
       "d915223313259744b108bc549067be65    1\n",
       "276630503cbd70536a2160b6d2568f15    1\n",
       "c63122050837d4176fda45347095c2f7    1\n",
       "52f9c1d177241c00661e9d83d1faee21    1\n",
       "Name: trans_num, Length: 14383, dtype: int64"
      ]
     },
     "execution_count": 36,
     "metadata": {},
     "output_type": "execute_result"
    }
   ],
   "source": [
    "# Examining the value counts for each unique category in the 'transaction number' column\n",
    "\n",
    "fraud_df['trans_num'].value_counts()"
   ]
  },
  {
   "cell_type": "markdown",
   "metadata": {},
   "source": [
    "**Observations | Transaction Number** "
   ]
  },
  {
   "cell_type": "markdown",
   "metadata": {},
   "source": [
    "I utilized the following code - *fraud_df['trans_num'].nunique()* - to identify the number of unique categories in the Transaction Number column.  There are 14383 different categories in the Transaction Number column.  \n",
    "\n",
    "I utilized the following code - *fraud_df['trans_num'].value_counts()* - to understand the distribution of the categories within the Job column.\n",
    "    \n",
    "Based on the observations, this column has the highest degree of cardinality in comparison to all of the other columns in the dataset.  This is expected.  A transaction number is a unique identifier that is specific for a singular transaction.  \n",
    "    \n",
    "I utilized the following code - *fraud_df['trans_num'].value_counts().plot()* - to provide a visualization of the high cardinality, which is below."
   ]
  },
  {
   "cell_type": "code",
   "execution_count": 37,
   "metadata": {},
   "outputs": [
    {
     "data": {
      "text/plain": [
       "<AxesSubplot:>"
      ]
     },
     "execution_count": 37,
     "metadata": {},
     "output_type": "execute_result"
    },
    {
     "data": {
      "image/png": "[encoded data removed]",
      "text/plain": [
       "<Figure size 432x288 with 1 Axes>"
      ]
     },
     "metadata": {
      "needs_background": "light"
     },
     "output_type": "display_data"
    }
   ],
   "source": [
    "fraud_df['trans_num'].value_counts().plot()"
   ]
  },
  {
   "cell_type": "markdown",
   "metadata": {},
   "source": [
    "# Data Preparation"
   ]
  },
  {
   "cell_type": "code",
   "execution_count": null,
   "metadata": {},
   "outputs": [],
   "source": []
  },
  {
   "cell_type": "code",
   "execution_count": null,
   "metadata": {},
   "outputs": [],
   "source": []
  },
  {
   "cell_type": "code",
   "execution_count": null,
   "metadata": {},
   "outputs": [],
   "source": []
  },
  {
   "cell_type": "markdown",
   "metadata": {},
   "source": [
    "# Modeling"
   ]
  },
  {
   "cell_type": "code",
   "execution_count": null,
   "metadata": {},
   "outputs": [],
   "source": []
  },
  {
   "cell_type": "markdown",
   "metadata": {},
   "source": [
    "# Overall Conclusion and Recommendations"
   ]
  },
  {
   "cell_type": "code",
   "execution_count": null,
   "metadata": {},
   "outputs": [],
   "source": []
  },
  {
   "cell_type": "markdown",
   "metadata": {},
   "source": [
    "## Overall Conclusion"
   ]
  },
  {
   "cell_type": "code",
   "execution_count": null,
   "metadata": {},
   "outputs": [],
   "source": []
  },
  {
   "cell_type": "markdown",
   "metadata": {},
   "source": [
    "## Recommendations"
   ]
  },
  {
   "cell_type": "code",
   "execution_count": null,
   "metadata": {},
   "outputs": [],
   "source": []
  }
 ],
 "metadata": {
  "kernelspec": {
   "display_name": "Python (learn-env)",
   "language": "python",
   "name": "learn-env"
  },
  "language_info": {
   "codemirror_mode": {
    "name": "ipython",
    "version": 3
   },
   "file_extension": ".py",
   "mimetype": "text/x-python",
   "name": "python",
   "nbconvert_exporter": "python",
   "pygments_lexer": "ipython3",
   "version": "3.8.5"
  }
 },
 "nbformat": 4,
 "nbformat_minor": 4
}
