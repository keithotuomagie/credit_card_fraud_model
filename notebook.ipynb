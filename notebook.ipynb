{
 "cells": [
  {
   "cell_type": "markdown",
   "metadata": {},
   "source": [
    "# Business Problem"
   ]
  },
  {
   "cell_type": "markdown",
   "metadata": {},
   "source": [
    "A financial services company wants to expand its business portfolio by entering the credit card business.  The company executives also recognize that fraud is a paramount issue.  As a result, the firm tasks KBO Analytics with the following:\n",
    "\n",
    "- Create a model prototype to detect credit card fraud\n",
    "- Identify characteristics that signal whether or not credit card fraud will take place"
   ]
  },
  {
   "cell_type": "markdown",
   "metadata": {},
   "source": [
    "# Data Understanding"
   ]
  },
  {
   "cell_type": "markdown",
   "metadata": {},
   "source": [
    "The data for examing the aforementioned problem comes from the following source: [Credit Card Fraud Data](https://www.kaggle.com/datasets/neharoychoudhury/credit-card-fraud-data/data)\n",
    "\n",
    "Before beginning to identify any trends with customers that churn, I want to examine and become familiar with the dataset. I will conduct exploratory data analysis in order to understand the dataset attributes, which includes, but not limited to the following:\n",
    "\n",
    "1. Number of Columns\n",
    "2. Number of Rows\n",
    "3. Column Names\n",
    "4. Format of the data in each column"
   ]
  },
  {
   "cell_type": "code",
   "execution_count": 1,
   "metadata": {},
   "outputs": [],
   "source": [
    "# Importing Libraries\n",
    "\n",
    "import pandas as pd\n",
    "import numpy as np\n",
    "import matplotlib.pyplot as plt\n",
    "import seaborn as sns\n",
    "%matplotlib inline\n",
    "import warnings\n",
    "warnings.filterwarnings('ignore')\n",
    "from itertools import combinations\n",
    "from datetime import datetime\n",
    "\n",
    "from sklearn.metrics import precision_score, recall_score, accuracy_score, f1_score, confusion_matrix, ConfusionMatrixDisplay, roc_curve, auc\n",
    "from sklearn.metrics import precision_recall_curve\n",
    "from sklearn.model_selection import train_test_split, cross_val_score\n",
    "from sklearn.tree import DecisionTreeClassifier \n",
    "from sklearn import tree\n",
    "from sklearn.ensemble import RandomForestClassifier, GradientBoostingClassifier\n"
   ]
  },
  {
   "cell_type": "code",
   "execution_count": 2,
   "metadata": {},
   "outputs": [],
   "source": [
    "# Reading file\n",
    "\n",
    "fraud_df = pd.read_csv(\"data/fraud_data.csv\")"
   ]
  },
  {
   "cell_type": "code",
   "execution_count": 3,
   "metadata": {},
   "outputs": [
    {
     "data": {
      "text/html": [
       "<div>\n",
       "<style scoped>\n",
       "    .dataframe tbody tr th:only-of-type {\n",
       "        vertical-align: middle;\n",
       "    }\n",
       "\n",
       "    .dataframe tbody tr th {\n",
       "        vertical-align: top;\n",
       "    }\n",
       "\n",
       "    .dataframe thead th {\n",
       "        text-align: right;\n",
       "    }\n",
       "</style>\n",
       "<table border=\"1\" class=\"dataframe\">\n",
       "  <thead>\n",
       "    <tr style=\"text-align: right;\">\n",
       "      <th></th>\n",
       "      <th>trans_date_trans_time</th>\n",
       "      <th>merchant</th>\n",
       "      <th>category</th>\n",
       "      <th>amt</th>\n",
       "      <th>city</th>\n",
       "      <th>state</th>\n",
       "      <th>lat</th>\n",
       "      <th>long</th>\n",
       "      <th>city_pop</th>\n",
       "      <th>job</th>\n",
       "      <th>dob</th>\n",
       "      <th>trans_num</th>\n",
       "      <th>merch_lat</th>\n",
       "      <th>merch_long</th>\n",
       "      <th>is_fraud</th>\n",
       "    </tr>\n",
       "  </thead>\n",
       "  <tbody>\n",
       "    <tr>\n",
       "      <th>0</th>\n",
       "      <td>04-01-2019 00:58</td>\n",
       "      <td>\"Stokes, Christiansen and Sipes\"</td>\n",
       "      <td>grocery_net</td>\n",
       "      <td>14.37</td>\n",
       "      <td>Wales</td>\n",
       "      <td>AK</td>\n",
       "      <td>64.7556</td>\n",
       "      <td>-165.6723</td>\n",
       "      <td>145</td>\n",
       "      <td>\"Administrator, education\"</td>\n",
       "      <td>09-11-1939</td>\n",
       "      <td>a3806e984cec6ac0096d8184c64ad3a1</td>\n",
       "      <td>65.654142</td>\n",
       "      <td>-164.722603</td>\n",
       "      <td>1</td>\n",
       "    </tr>\n",
       "    <tr>\n",
       "      <th>1</th>\n",
       "      <td>04-01-2019 15:06</td>\n",
       "      <td>Predovic Inc</td>\n",
       "      <td>shopping_net</td>\n",
       "      <td>966.11</td>\n",
       "      <td>Wales</td>\n",
       "      <td>AK</td>\n",
       "      <td>64.7556</td>\n",
       "      <td>-165.6723</td>\n",
       "      <td>145</td>\n",
       "      <td>\"Administrator, education\"</td>\n",
       "      <td>09-11-1939</td>\n",
       "      <td>a59185fe1b9ccf21323f581d7477573f</td>\n",
       "      <td>65.468863</td>\n",
       "      <td>-165.473127</td>\n",
       "      <td>1</td>\n",
       "    </tr>\n",
       "    <tr>\n",
       "      <th>2</th>\n",
       "      <td>04-01-2019 22:37</td>\n",
       "      <td>Wisozk and Sons</td>\n",
       "      <td>misc_pos</td>\n",
       "      <td>49.61</td>\n",
       "      <td>Wales</td>\n",
       "      <td>AK</td>\n",
       "      <td>64.7556</td>\n",
       "      <td>-165.6723</td>\n",
       "      <td>145</td>\n",
       "      <td>\"Administrator, education\"</td>\n",
       "      <td>09-11-1939</td>\n",
       "      <td>86ba3a888b42cd3925881fa34177b4e0</td>\n",
       "      <td>65.347667</td>\n",
       "      <td>-165.914542</td>\n",
       "      <td>1</td>\n",
       "    </tr>\n",
       "    <tr>\n",
       "      <th>3</th>\n",
       "      <td>04-01-2019 23:06</td>\n",
       "      <td>Murray-Smitham</td>\n",
       "      <td>grocery_pos</td>\n",
       "      <td>295.26</td>\n",
       "      <td>Wales</td>\n",
       "      <td>AK</td>\n",
       "      <td>64.7556</td>\n",
       "      <td>-165.6723</td>\n",
       "      <td>145</td>\n",
       "      <td>\"Administrator, education\"</td>\n",
       "      <td>09-11-1939</td>\n",
       "      <td>3a068fe1d856f0ecedbed33e4b5f4496</td>\n",
       "      <td>64.445035</td>\n",
       "      <td>-166.080207</td>\n",
       "      <td>1</td>\n",
       "    </tr>\n",
       "    <tr>\n",
       "      <th>4</th>\n",
       "      <td>04-01-2019 23:59</td>\n",
       "      <td>Friesen Lt</td>\n",
       "      <td>health_fitness</td>\n",
       "      <td>18.17</td>\n",
       "      <td>Wales</td>\n",
       "      <td>AK</td>\n",
       "      <td>64.7556</td>\n",
       "      <td>-165.6723</td>\n",
       "      <td>145</td>\n",
       "      <td>\"Administrator, education\"</td>\n",
       "      <td>09-11-1939</td>\n",
       "      <td>891cdd1191028759dc20dc224347a0ff</td>\n",
       "      <td>65.447094</td>\n",
       "      <td>-165.446843</td>\n",
       "      <td>1</td>\n",
       "    </tr>\n",
       "    <tr>\n",
       "      <th>5</th>\n",
       "      <td>05-01-2019 03:15</td>\n",
       "      <td>\"Raynor, Reinger and Hagenes\"</td>\n",
       "      <td>gas_transport</td>\n",
       "      <td>20.45</td>\n",
       "      <td>Wales</td>\n",
       "      <td>AK</td>\n",
       "      <td>64.7556</td>\n",
       "      <td>-165.6723</td>\n",
       "      <td>145</td>\n",
       "      <td>\"Administrator, education\"</td>\n",
       "      <td>09-11-1939</td>\n",
       "      <td>ef010a5f4f570d306a050a368ee2729d</td>\n",
       "      <td>64.088838</td>\n",
       "      <td>-165.104078</td>\n",
       "      <td>1</td>\n",
       "    </tr>\n",
       "    <tr>\n",
       "      <th>6</th>\n",
       "      <td>05-01-2019 03:21</td>\n",
       "      <td>Heller-Langosh</td>\n",
       "      <td>gas_transport</td>\n",
       "      <td>18.19</td>\n",
       "      <td>Wales</td>\n",
       "      <td>AK</td>\n",
       "      <td>64.7556</td>\n",
       "      <td>-165.6723</td>\n",
       "      <td>145</td>\n",
       "      <td>\"Administrator, education\"</td>\n",
       "      <td>09-11-1939</td>\n",
       "      <td>8e2d2fae5319d31c887dddbc70627ac4</td>\n",
       "      <td>63.917785</td>\n",
       "      <td>-165.827621</td>\n",
       "      <td>1</td>\n",
       "    </tr>\n",
       "    <tr>\n",
       "      <th>7</th>\n",
       "      <td>05-01-2019 11:31</td>\n",
       "      <td>Padberg-Welch</td>\n",
       "      <td>grocery_pos</td>\n",
       "      <td>367.29</td>\n",
       "      <td>Browning</td>\n",
       "      <td>MO</td>\n",
       "      <td>40.0290</td>\n",
       "      <td>-93.1607</td>\n",
       "      <td>602</td>\n",
       "      <td>Cytogeneticist</td>\n",
       "      <td>14-07-1954</td>\n",
       "      <td>5fbe827807ec9f557f6242bb48db0e51</td>\n",
       "      <td>39.167065</td>\n",
       "      <td>-93.705245</td>\n",
       "      <td>1</td>\n",
       "    </tr>\n",
       "    <tr>\n",
       "      <th>8</th>\n",
       "      <td>05-01-2019 18:03</td>\n",
       "      <td>McGlynn-Heathcote</td>\n",
       "      <td>misc_net</td>\n",
       "      <td>768.15</td>\n",
       "      <td>Wales</td>\n",
       "      <td>AK</td>\n",
       "      <td>64.7556</td>\n",
       "      <td>-165.6723</td>\n",
       "      <td>145</td>\n",
       "      <td>\"Administrator, education\"</td>\n",
       "      <td>09-11-1939</td>\n",
       "      <td>fba83e0a3adb530251295ab72a96b719</td>\n",
       "      <td>64.623325</td>\n",
       "      <td>-166.403973</td>\n",
       "      <td>1</td>\n",
       "    </tr>\n",
       "    <tr>\n",
       "      <th>9</th>\n",
       "      <td>05-01-2019 22:02</td>\n",
       "      <td>Dooley-Thompson</td>\n",
       "      <td>misc_net</td>\n",
       "      <td>849.49</td>\n",
       "      <td>Wales</td>\n",
       "      <td>AK</td>\n",
       "      <td>64.7556</td>\n",
       "      <td>-165.6723</td>\n",
       "      <td>145</td>\n",
       "      <td>\"Administrator, education\"</td>\n",
       "      <td>09-11-1939</td>\n",
       "      <td>b87c92d4824758e704da572891697fed</td>\n",
       "      <td>65.266065</td>\n",
       "      <td>-164.865352</td>\n",
       "      <td>1</td>\n",
       "    </tr>\n",
       "  </tbody>\n",
       "</table>\n",
       "</div>"
      ],
      "text/plain": [
       "  trans_date_trans_time                          merchant        category  \\\n",
       "0      04-01-2019 00:58  \"Stokes, Christiansen and Sipes\"     grocery_net   \n",
       "1      04-01-2019 15:06                      Predovic Inc    shopping_net   \n",
       "2      04-01-2019 22:37                   Wisozk and Sons        misc_pos   \n",
       "3      04-01-2019 23:06                    Murray-Smitham     grocery_pos   \n",
       "4      04-01-2019 23:59                        Friesen Lt  health_fitness   \n",
       "5      05-01-2019 03:15     \"Raynor, Reinger and Hagenes\"   gas_transport   \n",
       "6      05-01-2019 03:21                    Heller-Langosh   gas_transport   \n",
       "7      05-01-2019 11:31                     Padberg-Welch     grocery_pos   \n",
       "8      05-01-2019 18:03                 McGlynn-Heathcote        misc_net   \n",
       "9      05-01-2019 22:02                   Dooley-Thompson        misc_net   \n",
       "\n",
       "      amt      city state      lat      long  city_pop  \\\n",
       "0   14.37     Wales    AK  64.7556 -165.6723       145   \n",
       "1  966.11     Wales    AK  64.7556 -165.6723       145   \n",
       "2   49.61     Wales    AK  64.7556 -165.6723       145   \n",
       "3  295.26     Wales    AK  64.7556 -165.6723       145   \n",
       "4   18.17     Wales    AK  64.7556 -165.6723       145   \n",
       "5   20.45     Wales    AK  64.7556 -165.6723       145   \n",
       "6   18.19     Wales    AK  64.7556 -165.6723       145   \n",
       "7  367.29  Browning    MO  40.0290  -93.1607       602   \n",
       "8  768.15     Wales    AK  64.7556 -165.6723       145   \n",
       "9  849.49     Wales    AK  64.7556 -165.6723       145   \n",
       "\n",
       "                          job         dob                         trans_num  \\\n",
       "0  \"Administrator, education\"  09-11-1939  a3806e984cec6ac0096d8184c64ad3a1   \n",
       "1  \"Administrator, education\"  09-11-1939  a59185fe1b9ccf21323f581d7477573f   \n",
       "2  \"Administrator, education\"  09-11-1939  86ba3a888b42cd3925881fa34177b4e0   \n",
       "3  \"Administrator, education\"  09-11-1939  3a068fe1d856f0ecedbed33e4b5f4496   \n",
       "4  \"Administrator, education\"  09-11-1939  891cdd1191028759dc20dc224347a0ff   \n",
       "5  \"Administrator, education\"  09-11-1939  ef010a5f4f570d306a050a368ee2729d   \n",
       "6  \"Administrator, education\"  09-11-1939  8e2d2fae5319d31c887dddbc70627ac4   \n",
       "7              Cytogeneticist  14-07-1954  5fbe827807ec9f557f6242bb48db0e51   \n",
       "8  \"Administrator, education\"  09-11-1939  fba83e0a3adb530251295ab72a96b719   \n",
       "9  \"Administrator, education\"  09-11-1939  b87c92d4824758e704da572891697fed   \n",
       "\n",
       "   merch_lat  merch_long is_fraud  \n",
       "0  65.654142 -164.722603        1  \n",
       "1  65.468863 -165.473127        1  \n",
       "2  65.347667 -165.914542        1  \n",
       "3  64.445035 -166.080207        1  \n",
       "4  65.447094 -165.446843        1  \n",
       "5  64.088838 -165.104078        1  \n",
       "6  63.917785 -165.827621        1  \n",
       "7  39.167065  -93.705245        1  \n",
       "8  64.623325 -166.403973        1  \n",
       "9  65.266065 -164.865352        1  "
      ]
     },
     "execution_count": 3,
     "metadata": {},
     "output_type": "execute_result"
    }
   ],
   "source": [
    "# Examining initial 10 columns of the dataframe\n",
    "\n",
    "fraud_df.head(10)"
   ]
  },
  {
   "cell_type": "code",
   "execution_count": 4,
   "metadata": {},
   "outputs": [
    {
     "data": {
      "text/html": [
       "<div>\n",
       "<style scoped>\n",
       "    .dataframe tbody tr th:only-of-type {\n",
       "        vertical-align: middle;\n",
       "    }\n",
       "\n",
       "    .dataframe tbody tr th {\n",
       "        vertical-align: top;\n",
       "    }\n",
       "\n",
       "    .dataframe thead th {\n",
       "        text-align: right;\n",
       "    }\n",
       "</style>\n",
       "<table border=\"1\" class=\"dataframe\">\n",
       "  <thead>\n",
       "    <tr style=\"text-align: right;\">\n",
       "      <th></th>\n",
       "      <th>trans_date_trans_time</th>\n",
       "      <th>merchant</th>\n",
       "      <th>category</th>\n",
       "      <th>amt</th>\n",
       "      <th>city</th>\n",
       "      <th>state</th>\n",
       "      <th>lat</th>\n",
       "      <th>long</th>\n",
       "      <th>city_pop</th>\n",
       "      <th>job</th>\n",
       "      <th>dob</th>\n",
       "      <th>trans_num</th>\n",
       "      <th>merch_lat</th>\n",
       "      <th>merch_long</th>\n",
       "      <th>is_fraud</th>\n",
       "    </tr>\n",
       "  </thead>\n",
       "  <tbody>\n",
       "    <tr>\n",
       "      <th>14436</th>\n",
       "      <td>22-01-2019 00:18</td>\n",
       "      <td>\"Connelly, Reichert and Fritsch\"</td>\n",
       "      <td>gas_transport</td>\n",
       "      <td>93.23</td>\n",
       "      <td>Unionville</td>\n",
       "      <td>MO</td>\n",
       "      <td>40.4815</td>\n",
       "      <td>-92.9951</td>\n",
       "      <td>3805</td>\n",
       "      <td>\"Investment banker, corporate\"</td>\n",
       "      <td>15-09-1950</td>\n",
       "      <td>58d980b2db4f0581aaa3e62967072efa</td>\n",
       "      <td>40.527285</td>\n",
       "      <td>-93.859674</td>\n",
       "      <td>0</td>\n",
       "    </tr>\n",
       "    <tr>\n",
       "      <th>14437</th>\n",
       "      <td>22-01-2019 00:19</td>\n",
       "      <td>\"Kuhic, Bins and Pfeffe\"</td>\n",
       "      <td>shopping_net</td>\n",
       "      <td>4.65</td>\n",
       "      <td>Eugene</td>\n",
       "      <td>OR</td>\n",
       "      <td>44.0385</td>\n",
       "      <td>-123.0614</td>\n",
       "      <td>191096</td>\n",
       "      <td>\"Scientist, physiological\"</td>\n",
       "      <td>06-04-1964</td>\n",
       "      <td>6f552aa7397e6e1c012c25ecfc0cc9b7</td>\n",
       "      <td>43.821635</td>\n",
       "      <td>-122.497236</td>\n",
       "      <td>0</td>\n",
       "    </tr>\n",
       "    <tr>\n",
       "      <th>14438</th>\n",
       "      <td>22-01-2019 00:23</td>\n",
       "      <td>Sporer Inc</td>\n",
       "      <td>gas_transport</td>\n",
       "      <td>51.57</td>\n",
       "      <td>Carlotta</td>\n",
       "      <td>CA</td>\n",
       "      <td>40.5070</td>\n",
       "      <td>-123.9743</td>\n",
       "      <td>1139</td>\n",
       "      <td>\"Therapist, occupational\"</td>\n",
       "      <td>15-01-1951</td>\n",
       "      <td>c10ca0af6656b71e6da577da9db6c8c3</td>\n",
       "      <td>40.556556</td>\n",
       "      <td>-124.887658</td>\n",
       "      <td>0</td>\n",
       "    </tr>\n",
       "    <tr>\n",
       "      <th>14439</th>\n",
       "      <td>22-01-2019 00:32</td>\n",
       "      <td>\"Willms, Kris and Bergnaum\"</td>\n",
       "      <td>shopping_pos</td>\n",
       "      <td>145.60</td>\n",
       "      <td>Athena</td>\n",
       "      <td>OR</td>\n",
       "      <td>45.8289</td>\n",
       "      <td>-118.4971</td>\n",
       "      <td>1302</td>\n",
       "      <td>Dealer</td>\n",
       "      <td>18-10-1976</td>\n",
       "      <td>c206b545e52a142e1009fb0bd3e3f2ac</td>\n",
       "      <td>46.592719</td>\n",
       "      <td>-118.002289</td>\n",
       "      <td>0</td>\n",
       "    </tr>\n",
       "    <tr>\n",
       "      <th>14440</th>\n",
       "      <td>22-01-2019 00:37</td>\n",
       "      <td>Wiza LLC</td>\n",
       "      <td>misc_pos</td>\n",
       "      <td>37.92</td>\n",
       "      <td>Syracuse</td>\n",
       "      <td>MO</td>\n",
       "      <td>38.6547</td>\n",
       "      <td>-92.8929</td>\n",
       "      <td>628</td>\n",
       "      <td>\"Radiographer, diagnostic\"</td>\n",
       "      <td>18-12-1961</td>\n",
       "      <td>a98a9e2ca6a7c605c34a4298be3ad606</td>\n",
       "      <td>39.245730</td>\n",
       "      <td>-92.441388</td>\n",
       "      <td>0</td>\n",
       "    </tr>\n",
       "    <tr>\n",
       "      <th>14441</th>\n",
       "      <td>22-01-2019 00:37</td>\n",
       "      <td>Hudson-Grady</td>\n",
       "      <td>shopping_pos</td>\n",
       "      <td>122.00</td>\n",
       "      <td>Athena</td>\n",
       "      <td>OR</td>\n",
       "      <td>45.8289</td>\n",
       "      <td>-118.4971</td>\n",
       "      <td>1302</td>\n",
       "      <td>Dealer</td>\n",
       "      <td>18-10-1976</td>\n",
       "      <td>699a4c06b22711bf3e0d8ef91232d356</td>\n",
       "      <td>46.442439</td>\n",
       "      <td>-118.524214</td>\n",
       "      <td>0</td>\n",
       "    </tr>\n",
       "    <tr>\n",
       "      <th>14442</th>\n",
       "      <td>22-01-2019 00:41</td>\n",
       "      <td>\"Nienow, Ankunding and Collie\"</td>\n",
       "      <td>misc_pos</td>\n",
       "      <td>9.07</td>\n",
       "      <td>Gardiner</td>\n",
       "      <td>OR</td>\n",
       "      <td>43.7857</td>\n",
       "      <td>-124.1437</td>\n",
       "      <td>260</td>\n",
       "      <td>\"Engineer, maintenance\"</td>\n",
       "      <td>01-09-1956</td>\n",
       "      <td>080d620d24815c7d6c637cf0b71dde8e</td>\n",
       "      <td>42.901265</td>\n",
       "      <td>-124.995317</td>\n",
       "      <td>0</td>\n",
       "    </tr>\n",
       "    <tr>\n",
       "      <th>14443</th>\n",
       "      <td>22-01-2019 00:42</td>\n",
       "      <td>Pacocha-O'Reilly</td>\n",
       "      <td>grocery_pos</td>\n",
       "      <td>104.84</td>\n",
       "      <td>Alva</td>\n",
       "      <td>WY</td>\n",
       "      <td>44.6873</td>\n",
       "      <td>-104.4414</td>\n",
       "      <td>110</td>\n",
       "      <td>\"Administrator, local government\"</td>\n",
       "      <td>16-05-1973</td>\n",
       "      <td>3c346c8cd627c5fe3ed57430db2e9ae7</td>\n",
       "      <td>45.538062</td>\n",
       "      <td>-104.542117</td>\n",
       "      <td>0</td>\n",
       "    </tr>\n",
       "    <tr>\n",
       "      <th>14444</th>\n",
       "      <td>22-01-2019 00:48</td>\n",
       "      <td>\"Bins, Balistreri and Beatty\"</td>\n",
       "      <td>shopping_pos</td>\n",
       "      <td>268.16</td>\n",
       "      <td>Wales</td>\n",
       "      <td>AK</td>\n",
       "      <td>64.7556</td>\n",
       "      <td>-165.6723</td>\n",
       "      <td>145</td>\n",
       "      <td>\"Administrator, education\"</td>\n",
       "      <td>09-11-1939</td>\n",
       "      <td>e66ffcc95ba7fc490486242af1205d04</td>\n",
       "      <td>64.081462</td>\n",
       "      <td>-165.898698</td>\n",
       "      <td>0</td>\n",
       "    </tr>\n",
       "    <tr>\n",
       "      <th>14445</th>\n",
       "      <td>22-01-2019 00:55</td>\n",
       "      <td>Daugherty-Thompson</td>\n",
       "      <td>food_dining</td>\n",
       "      <td>50.09</td>\n",
       "      <td>Unionville</td>\n",
       "      <td>MO</td>\n",
       "      <td>40.4815</td>\n",
       "      <td>-92.9951</td>\n",
       "      <td>3805</td>\n",
       "      <td>\"Investment banker, corporate\"</td>\n",
       "      <td>15-09-1950</td>\n",
       "      <td>65e7370f473f9b9d75796c8033a7c929</td>\n",
       "      <td>40.387243</td>\n",
       "      <td>-92.224871</td>\n",
       "      <td>0</td>\n",
       "    </tr>\n",
       "  </tbody>\n",
       "</table>\n",
       "</div>"
      ],
      "text/plain": [
       "      trans_date_trans_time                          merchant       category  \\\n",
       "14436      22-01-2019 00:18  \"Connelly, Reichert and Fritsch\"  gas_transport   \n",
       "14437      22-01-2019 00:19          \"Kuhic, Bins and Pfeffe\"   shopping_net   \n",
       "14438      22-01-2019 00:23                        Sporer Inc  gas_transport   \n",
       "14439      22-01-2019 00:32       \"Willms, Kris and Bergnaum\"   shopping_pos   \n",
       "14440      22-01-2019 00:37                          Wiza LLC       misc_pos   \n",
       "14441      22-01-2019 00:37                      Hudson-Grady   shopping_pos   \n",
       "14442      22-01-2019 00:41    \"Nienow, Ankunding and Collie\"       misc_pos   \n",
       "14443      22-01-2019 00:42                  Pacocha-O'Reilly    grocery_pos   \n",
       "14444      22-01-2019 00:48     \"Bins, Balistreri and Beatty\"   shopping_pos   \n",
       "14445      22-01-2019 00:55                Daugherty-Thompson    food_dining   \n",
       "\n",
       "          amt        city state      lat      long  city_pop  \\\n",
       "14436   93.23  Unionville    MO  40.4815  -92.9951      3805   \n",
       "14437    4.65      Eugene    OR  44.0385 -123.0614    191096   \n",
       "14438   51.57    Carlotta    CA  40.5070 -123.9743      1139   \n",
       "14439  145.60      Athena    OR  45.8289 -118.4971      1302   \n",
       "14440   37.92    Syracuse    MO  38.6547  -92.8929       628   \n",
       "14441  122.00      Athena    OR  45.8289 -118.4971      1302   \n",
       "14442    9.07    Gardiner    OR  43.7857 -124.1437       260   \n",
       "14443  104.84        Alva    WY  44.6873 -104.4414       110   \n",
       "14444  268.16       Wales    AK  64.7556 -165.6723       145   \n",
       "14445   50.09  Unionville    MO  40.4815  -92.9951      3805   \n",
       "\n",
       "                                     job         dob  \\\n",
       "14436     \"Investment banker, corporate\"  15-09-1950   \n",
       "14437         \"Scientist, physiological\"  06-04-1964   \n",
       "14438          \"Therapist, occupational\"  15-01-1951   \n",
       "14439                             Dealer  18-10-1976   \n",
       "14440         \"Radiographer, diagnostic\"  18-12-1961   \n",
       "14441                             Dealer  18-10-1976   \n",
       "14442            \"Engineer, maintenance\"  01-09-1956   \n",
       "14443  \"Administrator, local government\"  16-05-1973   \n",
       "14444         \"Administrator, education\"  09-11-1939   \n",
       "14445     \"Investment banker, corporate\"  15-09-1950   \n",
       "\n",
       "                              trans_num  merch_lat  merch_long is_fraud  \n",
       "14436  58d980b2db4f0581aaa3e62967072efa  40.527285  -93.859674        0  \n",
       "14437  6f552aa7397e6e1c012c25ecfc0cc9b7  43.821635 -122.497236        0  \n",
       "14438  c10ca0af6656b71e6da577da9db6c8c3  40.556556 -124.887658        0  \n",
       "14439  c206b545e52a142e1009fb0bd3e3f2ac  46.592719 -118.002289        0  \n",
       "14440  a98a9e2ca6a7c605c34a4298be3ad606  39.245730  -92.441388        0  \n",
       "14441  699a4c06b22711bf3e0d8ef91232d356  46.442439 -118.524214        0  \n",
       "14442  080d620d24815c7d6c637cf0b71dde8e  42.901265 -124.995317        0  \n",
       "14443  3c346c8cd627c5fe3ed57430db2e9ae7  45.538062 -104.542117        0  \n",
       "14444  e66ffcc95ba7fc490486242af1205d04  64.081462 -165.898698        0  \n",
       "14445  65e7370f473f9b9d75796c8033a7c929  40.387243  -92.224871        0  "
      ]
     },
     "execution_count": 4,
     "metadata": {},
     "output_type": "execute_result"
    }
   ],
   "source": [
    "# Examining last 10 columns of the dataframe\n",
    "\n",
    "fraud_df.tail(10)"
   ]
  },
  {
   "cell_type": "code",
   "execution_count": 5,
   "metadata": {},
   "outputs": [
    {
     "name": "stdout",
     "output_type": "stream",
     "text": [
      "<class 'pandas.core.frame.DataFrame'>\n",
      "RangeIndex: 14446 entries, 0 to 14445\n",
      "Data columns (total 15 columns):\n",
      " #   Column                 Non-Null Count  Dtype  \n",
      "---  ------                 --------------  -----  \n",
      " 0   trans_date_trans_time  14446 non-null  object \n",
      " 1   merchant               14446 non-null  object \n",
      " 2   category               14446 non-null  object \n",
      " 3   amt                    14446 non-null  float64\n",
      " 4   city                   14446 non-null  object \n",
      " 5   state                  14446 non-null  object \n",
      " 6   lat                    14446 non-null  float64\n",
      " 7   long                   14446 non-null  float64\n",
      " 8   city_pop               14446 non-null  int64  \n",
      " 9   job                    14446 non-null  object \n",
      " 10  dob                    14446 non-null  object \n",
      " 11  trans_num              14446 non-null  object \n",
      " 12  merch_lat              14446 non-null  float64\n",
      " 13  merch_long             14446 non-null  float64\n",
      " 14  is_fraud               14446 non-null  object \n",
      "dtypes: float64(5), int64(1), object(9)\n",
      "memory usage: 1.7+ MB\n"
     ]
    }
   ],
   "source": [
    "# Examining the dataframe\n",
    "\n",
    "fraud_df.info()"
   ]
  },
  {
   "cell_type": "markdown",
   "metadata": {},
   "source": [
    "I created a Pandas Dataframe.  The Dataframe contains 14,446 rows of data.  The Dataframe contains 15 columns, which are the following:\n",
    "    \n",
    "1. Transaction Date and Time\n",
    "2. Merchant Name \n",
    "3. Category of Merchant \n",
    "4. Amount of Transaction\n",
    "5. City of Credit Card Holder \n",
    "6. State of Credit Card Holder \n",
    "7. Latitute Location of Purchase\n",
    "8. Longitude Location of Purchase\n",
    "9. Credit Card Holder's City Population\n",
    "10. Job of Credit Card Holder \n",
    "11. Date of Bright of Credit Card Holder\n",
    "12. Transaction Number \n",
    "13. Latitude of Location of Merchant\n",
    "14. Longitude Location of Merchant\n",
    "15. Whether Transaction is Fraud or Not    "
   ]
  },
  {
   "cell_type": "markdown",
   "metadata": {},
   "source": [
    "## Missing Data"
   ]
  },
  {
   "cell_type": "code",
   "execution_count": 6,
   "metadata": {},
   "outputs": [
    {
     "data": {
      "text/plain": [
       "trans_date_trans_time    0\n",
       "merchant                 0\n",
       "category                 0\n",
       "amt                      0\n",
       "city                     0\n",
       "state                    0\n",
       "lat                      0\n",
       "long                     0\n",
       "city_pop                 0\n",
       "job                      0\n",
       "dob                      0\n",
       "trans_num                0\n",
       "merch_lat                0\n",
       "merch_long               0\n",
       "is_fraud                 0\n",
       "dtype: int64"
      ]
     },
     "execution_count": 6,
     "metadata": {},
     "output_type": "execute_result"
    }
   ],
   "source": [
    "# Examining missing values in each column\n",
    "\n",
    "fraud_df.isna().sum()"
   ]
  },
  {
   "cell_type": "markdown",
   "metadata": {},
   "source": [
    "I utilized the following code - *fraud_df.isna().sum()* - to check for missing values in each column.  There are no missing values in any of the columns."
   ]
  },
  {
   "cell_type": "markdown",
   "metadata": {},
   "source": [
    "## Duplicate Data"
   ]
  },
  {
   "cell_type": "code",
   "execution_count": 7,
   "metadata": {},
   "outputs": [
    {
     "data": {
      "text/plain": [
       "63"
      ]
     },
     "execution_count": 7,
     "metadata": {},
     "output_type": "execute_result"
    }
   ],
   "source": [
    "# Examining dataframe for duplicate data\n",
    "\n",
    "fraud_df.duplicated().sum()"
   ]
  },
  {
   "cell_type": "code",
   "execution_count": 8,
   "metadata": {},
   "outputs": [],
   "source": [
    "# Creating a dataframe for duplicates\n",
    "\n",
    "duplicates_all = fraud_df[fraud_df.duplicated(keep=False)]"
   ]
  },
  {
   "cell_type": "code",
   "execution_count": 9,
   "metadata": {},
   "outputs": [
    {
     "data": {
      "text/html": [
       "<div>\n",
       "<style scoped>\n",
       "    .dataframe tbody tr th:only-of-type {\n",
       "        vertical-align: middle;\n",
       "    }\n",
       "\n",
       "    .dataframe tbody tr th {\n",
       "        vertical-align: top;\n",
       "    }\n",
       "\n",
       "    .dataframe thead th {\n",
       "        text-align: right;\n",
       "    }\n",
       "</style>\n",
       "<table border=\"1\" class=\"dataframe\">\n",
       "  <thead>\n",
       "    <tr style=\"text-align: right;\">\n",
       "      <th></th>\n",
       "      <th>trans_date_trans_time</th>\n",
       "      <th>merchant</th>\n",
       "      <th>category</th>\n",
       "      <th>amt</th>\n",
       "      <th>city</th>\n",
       "      <th>state</th>\n",
       "      <th>lat</th>\n",
       "      <th>long</th>\n",
       "      <th>city_pop</th>\n",
       "      <th>job</th>\n",
       "      <th>dob</th>\n",
       "      <th>trans_num</th>\n",
       "      <th>merch_lat</th>\n",
       "      <th>merch_long</th>\n",
       "      <th>is_fraud</th>\n",
       "    </tr>\n",
       "  </thead>\n",
       "  <tbody>\n",
       "    <tr>\n",
       "      <th>0</th>\n",
       "      <td>04-01-2019 00:58</td>\n",
       "      <td>\"Stokes, Christiansen and Sipes\"</td>\n",
       "      <td>grocery_net</td>\n",
       "      <td>14.37</td>\n",
       "      <td>Wales</td>\n",
       "      <td>AK</td>\n",
       "      <td>64.7556</td>\n",
       "      <td>-165.6723</td>\n",
       "      <td>145</td>\n",
       "      <td>\"Administrator, education\"</td>\n",
       "      <td>09-11-1939</td>\n",
       "      <td>a3806e984cec6ac0096d8184c64ad3a1</td>\n",
       "      <td>65.654142</td>\n",
       "      <td>-164.722603</td>\n",
       "      <td>1</td>\n",
       "    </tr>\n",
       "    <tr>\n",
       "      <th>1</th>\n",
       "      <td>04-01-2019 15:06</td>\n",
       "      <td>Predovic Inc</td>\n",
       "      <td>shopping_net</td>\n",
       "      <td>966.11</td>\n",
       "      <td>Wales</td>\n",
       "      <td>AK</td>\n",
       "      <td>64.7556</td>\n",
       "      <td>-165.6723</td>\n",
       "      <td>145</td>\n",
       "      <td>\"Administrator, education\"</td>\n",
       "      <td>09-11-1939</td>\n",
       "      <td>a59185fe1b9ccf21323f581d7477573f</td>\n",
       "      <td>65.468863</td>\n",
       "      <td>-165.473127</td>\n",
       "      <td>1</td>\n",
       "    </tr>\n",
       "    <tr>\n",
       "      <th>2</th>\n",
       "      <td>04-01-2019 22:37</td>\n",
       "      <td>Wisozk and Sons</td>\n",
       "      <td>misc_pos</td>\n",
       "      <td>49.61</td>\n",
       "      <td>Wales</td>\n",
       "      <td>AK</td>\n",
       "      <td>64.7556</td>\n",
       "      <td>-165.6723</td>\n",
       "      <td>145</td>\n",
       "      <td>\"Administrator, education\"</td>\n",
       "      <td>09-11-1939</td>\n",
       "      <td>86ba3a888b42cd3925881fa34177b4e0</td>\n",
       "      <td>65.347667</td>\n",
       "      <td>-165.914542</td>\n",
       "      <td>1</td>\n",
       "    </tr>\n",
       "    <tr>\n",
       "      <th>3</th>\n",
       "      <td>04-01-2019 23:06</td>\n",
       "      <td>Murray-Smitham</td>\n",
       "      <td>grocery_pos</td>\n",
       "      <td>295.26</td>\n",
       "      <td>Wales</td>\n",
       "      <td>AK</td>\n",
       "      <td>64.7556</td>\n",
       "      <td>-165.6723</td>\n",
       "      <td>145</td>\n",
       "      <td>\"Administrator, education\"</td>\n",
       "      <td>09-11-1939</td>\n",
       "      <td>3a068fe1d856f0ecedbed33e4b5f4496</td>\n",
       "      <td>64.445035</td>\n",
       "      <td>-166.080207</td>\n",
       "      <td>1</td>\n",
       "    </tr>\n",
       "    <tr>\n",
       "      <th>4</th>\n",
       "      <td>04-01-2019 23:59</td>\n",
       "      <td>Friesen Lt</td>\n",
       "      <td>health_fitness</td>\n",
       "      <td>18.17</td>\n",
       "      <td>Wales</td>\n",
       "      <td>AK</td>\n",
       "      <td>64.7556</td>\n",
       "      <td>-165.6723</td>\n",
       "      <td>145</td>\n",
       "      <td>\"Administrator, education\"</td>\n",
       "      <td>09-11-1939</td>\n",
       "      <td>891cdd1191028759dc20dc224347a0ff</td>\n",
       "      <td>65.447094</td>\n",
       "      <td>-165.446843</td>\n",
       "      <td>1</td>\n",
       "    </tr>\n",
       "    <tr>\n",
       "      <th>5</th>\n",
       "      <td>05-01-2019 03:15</td>\n",
       "      <td>\"Raynor, Reinger and Hagenes\"</td>\n",
       "      <td>gas_transport</td>\n",
       "      <td>20.45</td>\n",
       "      <td>Wales</td>\n",
       "      <td>AK</td>\n",
       "      <td>64.7556</td>\n",
       "      <td>-165.6723</td>\n",
       "      <td>145</td>\n",
       "      <td>\"Administrator, education\"</td>\n",
       "      <td>09-11-1939</td>\n",
       "      <td>ef010a5f4f570d306a050a368ee2729d</td>\n",
       "      <td>64.088838</td>\n",
       "      <td>-165.104078</td>\n",
       "      <td>1</td>\n",
       "    </tr>\n",
       "    <tr>\n",
       "      <th>6</th>\n",
       "      <td>05-01-2019 03:21</td>\n",
       "      <td>Heller-Langosh</td>\n",
       "      <td>gas_transport</td>\n",
       "      <td>18.19</td>\n",
       "      <td>Wales</td>\n",
       "      <td>AK</td>\n",
       "      <td>64.7556</td>\n",
       "      <td>-165.6723</td>\n",
       "      <td>145</td>\n",
       "      <td>\"Administrator, education\"</td>\n",
       "      <td>09-11-1939</td>\n",
       "      <td>8e2d2fae5319d31c887dddbc70627ac4</td>\n",
       "      <td>63.917785</td>\n",
       "      <td>-165.827621</td>\n",
       "      <td>1</td>\n",
       "    </tr>\n",
       "    <tr>\n",
       "      <th>7</th>\n",
       "      <td>05-01-2019 11:31</td>\n",
       "      <td>Padberg-Welch</td>\n",
       "      <td>grocery_pos</td>\n",
       "      <td>367.29</td>\n",
       "      <td>Browning</td>\n",
       "      <td>MO</td>\n",
       "      <td>40.0290</td>\n",
       "      <td>-93.1607</td>\n",
       "      <td>602</td>\n",
       "      <td>Cytogeneticist</td>\n",
       "      <td>14-07-1954</td>\n",
       "      <td>5fbe827807ec9f557f6242bb48db0e51</td>\n",
       "      <td>39.167065</td>\n",
       "      <td>-93.705245</td>\n",
       "      <td>1</td>\n",
       "    </tr>\n",
       "    <tr>\n",
       "      <th>8</th>\n",
       "      <td>05-01-2019 18:03</td>\n",
       "      <td>McGlynn-Heathcote</td>\n",
       "      <td>misc_net</td>\n",
       "      <td>768.15</td>\n",
       "      <td>Wales</td>\n",
       "      <td>AK</td>\n",
       "      <td>64.7556</td>\n",
       "      <td>-165.6723</td>\n",
       "      <td>145</td>\n",
       "      <td>\"Administrator, education\"</td>\n",
       "      <td>09-11-1939</td>\n",
       "      <td>fba83e0a3adb530251295ab72a96b719</td>\n",
       "      <td>64.623325</td>\n",
       "      <td>-166.403973</td>\n",
       "      <td>1</td>\n",
       "    </tr>\n",
       "    <tr>\n",
       "      <th>9</th>\n",
       "      <td>05-01-2019 22:02</td>\n",
       "      <td>Dooley-Thompson</td>\n",
       "      <td>misc_net</td>\n",
       "      <td>849.49</td>\n",
       "      <td>Wales</td>\n",
       "      <td>AK</td>\n",
       "      <td>64.7556</td>\n",
       "      <td>-165.6723</td>\n",
       "      <td>145</td>\n",
       "      <td>\"Administrator, education\"</td>\n",
       "      <td>09-11-1939</td>\n",
       "      <td>b87c92d4824758e704da572891697fed</td>\n",
       "      <td>65.266065</td>\n",
       "      <td>-164.865352</td>\n",
       "      <td>1</td>\n",
       "    </tr>\n",
       "    <tr>\n",
       "      <th>10</th>\n",
       "      <td>05-01-2019 22:05</td>\n",
       "      <td>\"Gottlieb, Considine and Schultz\"</td>\n",
       "      <td>shopping_net</td>\n",
       "      <td>1177.79</td>\n",
       "      <td>Browning</td>\n",
       "      <td>MO</td>\n",
       "      <td>40.0290</td>\n",
       "      <td>-93.1607</td>\n",
       "      <td>602</td>\n",
       "      <td>Cytogeneticist</td>\n",
       "      <td>14-07-1954</td>\n",
       "      <td>f1c51701d8b5dd6ebfe7c1aebf0c4fe7</td>\n",
       "      <td>39.288305</td>\n",
       "      <td>-92.476947</td>\n",
       "      <td>1</td>\n",
       "    </tr>\n",
       "    <tr>\n",
       "      <th>11</th>\n",
       "      <td>05-01-2019 22:12</td>\n",
       "      <td>\"Moen, Reinger and Murphy\"</td>\n",
       "      <td>grocery_pos</td>\n",
       "      <td>307.09</td>\n",
       "      <td>Wales</td>\n",
       "      <td>AK</td>\n",
       "      <td>64.7556</td>\n",
       "      <td>-165.6723</td>\n",
       "      <td>145</td>\n",
       "      <td>\"Administrator, education\"</td>\n",
       "      <td>09-11-1939</td>\n",
       "      <td>755e4e8350ec4a3e9309727574c97726</td>\n",
       "      <td>64.909145</td>\n",
       "      <td>-164.712087</td>\n",
       "      <td>1</td>\n",
       "    </tr>\n",
       "    <tr>\n",
       "      <th>12</th>\n",
       "      <td>05-01-2019 22:18</td>\n",
       "      <td>\"Hauck, Dietrich and Funk\"</td>\n",
       "      <td>kids_pets</td>\n",
       "      <td>4.58</td>\n",
       "      <td>Wales</td>\n",
       "      <td>AK</td>\n",
       "      <td>64.7556</td>\n",
       "      <td>-165.6723</td>\n",
       "      <td>145</td>\n",
       "      <td>\"Administrator, education\"</td>\n",
       "      <td>09-11-1939</td>\n",
       "      <td>8fa7880cf01e6adc96e9654d69f3f035</td>\n",
       "      <td>65.052892</td>\n",
       "      <td>-166.067029</td>\n",
       "      <td>1</td>\n",
       "    </tr>\n",
       "    <tr>\n",
       "      <th>13</th>\n",
       "      <td>05-01-2019 22:32</td>\n",
       "      <td>Pouros-Haag</td>\n",
       "      <td>shopping_pos</td>\n",
       "      <td>730.78</td>\n",
       "      <td>Wales</td>\n",
       "      <td>AK</td>\n",
       "      <td>64.7556</td>\n",
       "      <td>-165.6723</td>\n",
       "      <td>145</td>\n",
       "      <td>\"Administrator, education\"</td>\n",
       "      <td>09-11-1939</td>\n",
       "      <td>2396a5b8e277a4ce1d4fa939d6e7b19b</td>\n",
       "      <td>65.233866</td>\n",
       "      <td>-166.550779</td>\n",
       "      <td>1</td>\n",
       "    </tr>\n",
       "    <tr>\n",
       "      <th>14</th>\n",
       "      <td>05-01-2019 22:33</td>\n",
       "      <td>Goyette Inc</td>\n",
       "      <td>shopping_net</td>\n",
       "      <td>1006.40</td>\n",
       "      <td>Wales</td>\n",
       "      <td>AK</td>\n",
       "      <td>64.7556</td>\n",
       "      <td>-165.6723</td>\n",
       "      <td>145</td>\n",
       "      <td>\"Administrator, education\"</td>\n",
       "      <td>09-11-1939</td>\n",
       "      <td>4d7e567247b6c4529ce4c32c03b2f040</td>\n",
       "      <td>65.220316</td>\n",
       "      <td>-165.005725</td>\n",
       "      <td>1</td>\n",
       "    </tr>\n",
       "    <tr>\n",
       "      <th>15</th>\n",
       "      <td>05-01-2019 22:38</td>\n",
       "      <td>\"Baumbach, Strosin and Nicolas\"</td>\n",
       "      <td>shopping_pos</td>\n",
       "      <td>830.72</td>\n",
       "      <td>Wales</td>\n",
       "      <td>AK</td>\n",
       "      <td>64.7556</td>\n",
       "      <td>-165.6723</td>\n",
       "      <td>145</td>\n",
       "      <td>\"Administrator, education\"</td>\n",
       "      <td>09-11-1939</td>\n",
       "      <td>773a3305db095657e1860a39dda24cf2</td>\n",
       "      <td>65.710538</td>\n",
       "      <td>-165.986117</td>\n",
       "      <td>1</td>\n",
       "    </tr>\n",
       "    <tr>\n",
       "      <th>16</th>\n",
       "      <td>05-01-2019 23:17</td>\n",
       "      <td>Pacocha-O'Reilly</td>\n",
       "      <td>grocery_pos</td>\n",
       "      <td>311.92</td>\n",
       "      <td>Wales</td>\n",
       "      <td>AK</td>\n",
       "      <td>64.7556</td>\n",
       "      <td>-165.6723</td>\n",
       "      <td>145</td>\n",
       "      <td>\"Administrator, education\"</td>\n",
       "      <td>09-11-1939</td>\n",
       "      <td>191b3dcec7a6a49438be93cfbeaea9c1</td>\n",
       "      <td>64.795010</td>\n",
       "      <td>-165.670735</td>\n",
       "      <td>1</td>\n",
       "    </tr>\n",
       "    <tr>\n",
       "      <th>17</th>\n",
       "      <td>05-01-2019 23:26</td>\n",
       "      <td>Barrows PLC</td>\n",
       "      <td>shopping_pos</td>\n",
       "      <td>762.93</td>\n",
       "      <td>Browning</td>\n",
       "      <td>MO</td>\n",
       "      <td>40.0290</td>\n",
       "      <td>-93.1607</td>\n",
       "      <td>602</td>\n",
       "      <td>Cytogeneticist</td>\n",
       "      <td>14-07-1954</td>\n",
       "      <td>19b126ecf4c79997e9edc6f260c09880</td>\n",
       "      <td>40.205262</td>\n",
       "      <td>-93.499211</td>\n",
       "      <td>1</td>\n",
       "    </tr>\n",
       "    <tr>\n",
       "      <th>18</th>\n",
       "      <td>06-01-2019 18:39</td>\n",
       "      <td>Fisher-Schowalte</td>\n",
       "      <td>shopping_net</td>\n",
       "      <td>855.88</td>\n",
       "      <td>Browning</td>\n",
       "      <td>MO</td>\n",
       "      <td>40.0290</td>\n",
       "      <td>-93.1607</td>\n",
       "      <td>602</td>\n",
       "      <td>Cytogeneticist</td>\n",
       "      <td>14-07-1954</td>\n",
       "      <td>bbae703c3794b7738d08739afbaef898</td>\n",
       "      <td>40.786018</td>\n",
       "      <td>-93.301092</td>\n",
       "      <td>1</td>\n",
       "    </tr>\n",
       "    <tr>\n",
       "      <th>19</th>\n",
       "      <td>06-01-2019 23:33</td>\n",
       "      <td>Gleason-Macejkovic</td>\n",
       "      <td>shopping_net</td>\n",
       "      <td>909.29</td>\n",
       "      <td>Browning</td>\n",
       "      <td>MO</td>\n",
       "      <td>40.0290</td>\n",
       "      <td>-93.1607</td>\n",
       "      <td>602</td>\n",
       "      <td>Cytogeneticist</td>\n",
       "      <td>14-07-1954</td>\n",
       "      <td>b98eb7183ee8a48e83539addc80ea9cc</td>\n",
       "      <td>40.977312</td>\n",
       "      <td>-93.550980</td>\n",
       "      <td>1</td>\n",
       "    </tr>\n",
       "  </tbody>\n",
       "</table>\n",
       "</div>"
      ],
      "text/plain": [
       "   trans_date_trans_time                           merchant        category  \\\n",
       "0       04-01-2019 00:58   \"Stokes, Christiansen and Sipes\"     grocery_net   \n",
       "1       04-01-2019 15:06                       Predovic Inc    shopping_net   \n",
       "2       04-01-2019 22:37                    Wisozk and Sons        misc_pos   \n",
       "3       04-01-2019 23:06                     Murray-Smitham     grocery_pos   \n",
       "4       04-01-2019 23:59                         Friesen Lt  health_fitness   \n",
       "5       05-01-2019 03:15      \"Raynor, Reinger and Hagenes\"   gas_transport   \n",
       "6       05-01-2019 03:21                     Heller-Langosh   gas_transport   \n",
       "7       05-01-2019 11:31                      Padberg-Welch     grocery_pos   \n",
       "8       05-01-2019 18:03                  McGlynn-Heathcote        misc_net   \n",
       "9       05-01-2019 22:02                    Dooley-Thompson        misc_net   \n",
       "10      05-01-2019 22:05  \"Gottlieb, Considine and Schultz\"    shopping_net   \n",
       "11      05-01-2019 22:12         \"Moen, Reinger and Murphy\"     grocery_pos   \n",
       "12      05-01-2019 22:18         \"Hauck, Dietrich and Funk\"       kids_pets   \n",
       "13      05-01-2019 22:32                        Pouros-Haag    shopping_pos   \n",
       "14      05-01-2019 22:33                        Goyette Inc    shopping_net   \n",
       "15      05-01-2019 22:38    \"Baumbach, Strosin and Nicolas\"    shopping_pos   \n",
       "16      05-01-2019 23:17                   Pacocha-O'Reilly     grocery_pos   \n",
       "17      05-01-2019 23:26                        Barrows PLC    shopping_pos   \n",
       "18      06-01-2019 18:39                   Fisher-Schowalte    shopping_net   \n",
       "19      06-01-2019 23:33                 Gleason-Macejkovic    shopping_net   \n",
       "\n",
       "        amt      city state      lat      long  city_pop  \\\n",
       "0     14.37     Wales    AK  64.7556 -165.6723       145   \n",
       "1    966.11     Wales    AK  64.7556 -165.6723       145   \n",
       "2     49.61     Wales    AK  64.7556 -165.6723       145   \n",
       "3    295.26     Wales    AK  64.7556 -165.6723       145   \n",
       "4     18.17     Wales    AK  64.7556 -165.6723       145   \n",
       "5     20.45     Wales    AK  64.7556 -165.6723       145   \n",
       "6     18.19     Wales    AK  64.7556 -165.6723       145   \n",
       "7    367.29  Browning    MO  40.0290  -93.1607       602   \n",
       "8    768.15     Wales    AK  64.7556 -165.6723       145   \n",
       "9    849.49     Wales    AK  64.7556 -165.6723       145   \n",
       "10  1177.79  Browning    MO  40.0290  -93.1607       602   \n",
       "11   307.09     Wales    AK  64.7556 -165.6723       145   \n",
       "12     4.58     Wales    AK  64.7556 -165.6723       145   \n",
       "13   730.78     Wales    AK  64.7556 -165.6723       145   \n",
       "14  1006.40     Wales    AK  64.7556 -165.6723       145   \n",
       "15   830.72     Wales    AK  64.7556 -165.6723       145   \n",
       "16   311.92     Wales    AK  64.7556 -165.6723       145   \n",
       "17   762.93  Browning    MO  40.0290  -93.1607       602   \n",
       "18   855.88  Browning    MO  40.0290  -93.1607       602   \n",
       "19   909.29  Browning    MO  40.0290  -93.1607       602   \n",
       "\n",
       "                           job         dob                         trans_num  \\\n",
       "0   \"Administrator, education\"  09-11-1939  a3806e984cec6ac0096d8184c64ad3a1   \n",
       "1   \"Administrator, education\"  09-11-1939  a59185fe1b9ccf21323f581d7477573f   \n",
       "2   \"Administrator, education\"  09-11-1939  86ba3a888b42cd3925881fa34177b4e0   \n",
       "3   \"Administrator, education\"  09-11-1939  3a068fe1d856f0ecedbed33e4b5f4496   \n",
       "4   \"Administrator, education\"  09-11-1939  891cdd1191028759dc20dc224347a0ff   \n",
       "5   \"Administrator, education\"  09-11-1939  ef010a5f4f570d306a050a368ee2729d   \n",
       "6   \"Administrator, education\"  09-11-1939  8e2d2fae5319d31c887dddbc70627ac4   \n",
       "7               Cytogeneticist  14-07-1954  5fbe827807ec9f557f6242bb48db0e51   \n",
       "8   \"Administrator, education\"  09-11-1939  fba83e0a3adb530251295ab72a96b719   \n",
       "9   \"Administrator, education\"  09-11-1939  b87c92d4824758e704da572891697fed   \n",
       "10              Cytogeneticist  14-07-1954  f1c51701d8b5dd6ebfe7c1aebf0c4fe7   \n",
       "11  \"Administrator, education\"  09-11-1939  755e4e8350ec4a3e9309727574c97726   \n",
       "12  \"Administrator, education\"  09-11-1939  8fa7880cf01e6adc96e9654d69f3f035   \n",
       "13  \"Administrator, education\"  09-11-1939  2396a5b8e277a4ce1d4fa939d6e7b19b   \n",
       "14  \"Administrator, education\"  09-11-1939  4d7e567247b6c4529ce4c32c03b2f040   \n",
       "15  \"Administrator, education\"  09-11-1939  773a3305db095657e1860a39dda24cf2   \n",
       "16  \"Administrator, education\"  09-11-1939  191b3dcec7a6a49438be93cfbeaea9c1   \n",
       "17              Cytogeneticist  14-07-1954  19b126ecf4c79997e9edc6f260c09880   \n",
       "18              Cytogeneticist  14-07-1954  bbae703c3794b7738d08739afbaef898   \n",
       "19              Cytogeneticist  14-07-1954  b98eb7183ee8a48e83539addc80ea9cc   \n",
       "\n",
       "    merch_lat  merch_long is_fraud  \n",
       "0   65.654142 -164.722603        1  \n",
       "1   65.468863 -165.473127        1  \n",
       "2   65.347667 -165.914542        1  \n",
       "3   64.445035 -166.080207        1  \n",
       "4   65.447094 -165.446843        1  \n",
       "5   64.088838 -165.104078        1  \n",
       "6   63.917785 -165.827621        1  \n",
       "7   39.167065  -93.705245        1  \n",
       "8   64.623325 -166.403973        1  \n",
       "9   65.266065 -164.865352        1  \n",
       "10  39.288305  -92.476947        1  \n",
       "11  64.909145 -164.712087        1  \n",
       "12  65.052892 -166.067029        1  \n",
       "13  65.233866 -166.550779        1  \n",
       "14  65.220316 -165.005725        1  \n",
       "15  65.710538 -165.986117        1  \n",
       "16  64.795010 -165.670735        1  \n",
       "17  40.205262  -93.499211        1  \n",
       "18  40.786018  -93.301092        1  \n",
       "19  40.977312  -93.550980        1  "
      ]
     },
     "execution_count": 9,
     "metadata": {},
     "output_type": "execute_result"
    }
   ],
   "source": [
    "# Examining the first 20 rows of the duplicates dataframe\n",
    "\n",
    "duplicates_all.head(20)"
   ]
  },
  {
   "cell_type": "code",
   "execution_count": 10,
   "metadata": {},
   "outputs": [
    {
     "data": {
      "text/html": [
       "<div>\n",
       "<style scoped>\n",
       "    .dataframe tbody tr th:only-of-type {\n",
       "        vertical-align: middle;\n",
       "    }\n",
       "\n",
       "    .dataframe tbody tr th {\n",
       "        vertical-align: top;\n",
       "    }\n",
       "\n",
       "    .dataframe thead th {\n",
       "        text-align: right;\n",
       "    }\n",
       "</style>\n",
       "<table border=\"1\" class=\"dataframe\">\n",
       "  <thead>\n",
       "    <tr style=\"text-align: right;\">\n",
       "      <th></th>\n",
       "      <th>trans_date_trans_time</th>\n",
       "      <th>merchant</th>\n",
       "      <th>category</th>\n",
       "      <th>amt</th>\n",
       "      <th>city</th>\n",
       "      <th>state</th>\n",
       "      <th>lat</th>\n",
       "      <th>long</th>\n",
       "      <th>city_pop</th>\n",
       "      <th>job</th>\n",
       "      <th>dob</th>\n",
       "      <th>trans_num</th>\n",
       "      <th>merch_lat</th>\n",
       "      <th>merch_long</th>\n",
       "      <th>is_fraud</th>\n",
       "    </tr>\n",
       "  </thead>\n",
       "  <tbody>\n",
       "    <tr>\n",
       "      <th>12092</th>\n",
       "      <td>14-01-2019 16:15</td>\n",
       "      <td>\"Baumbach, Hodkiewicz and Walsh\"</td>\n",
       "      <td>shopping_pos</td>\n",
       "      <td>839.35</td>\n",
       "      <td>Westerville</td>\n",
       "      <td>NE</td>\n",
       "      <td>41.4193</td>\n",
       "      <td>-99.3844</td>\n",
       "      <td>73</td>\n",
       "      <td>Product designer</td>\n",
       "      <td>10-02-1935</td>\n",
       "      <td>7f9497dfc82f973690fd20102c502210</td>\n",
       "      <td>42.337832</td>\n",
       "      <td>-99.342280</td>\n",
       "      <td>1</td>\n",
       "    </tr>\n",
       "    <tr>\n",
       "      <th>12222</th>\n",
       "      <td>14-01-2019 22:28</td>\n",
       "      <td>Beier-Hyatt</td>\n",
       "      <td>shopping_pos</td>\n",
       "      <td>969.64</td>\n",
       "      <td>San Jose</td>\n",
       "      <td>CA</td>\n",
       "      <td>37.3304</td>\n",
       "      <td>-121.7913</td>\n",
       "      <td>973849</td>\n",
       "      <td>Science writer</td>\n",
       "      <td>12-06-1955</td>\n",
       "      <td>163aa0609a5b81e3b3be72fb7bc31ed3</td>\n",
       "      <td>36.709536</td>\n",
       "      <td>-122.649175</td>\n",
       "      <td>1</td>\n",
       "    </tr>\n",
       "    <tr>\n",
       "      <th>12238</th>\n",
       "      <td>14-01-2019 23:17</td>\n",
       "      <td>\"Reichert, Huels and Hoppe\"</td>\n",
       "      <td>shopping_net</td>\n",
       "      <td>1034.21</td>\n",
       "      <td>Westerville</td>\n",
       "      <td>NE</td>\n",
       "      <td>41.4193</td>\n",
       "      <td>-99.3844</td>\n",
       "      <td>73</td>\n",
       "      <td>Product designer</td>\n",
       "      <td>10-02-1935</td>\n",
       "      <td>d861ecd9fb05ec1832e4168e31cda378</td>\n",
       "      <td>41.124870</td>\n",
       "      <td>-100.349332</td>\n",
       "      <td>1</td>\n",
       "    </tr>\n",
       "    <tr>\n",
       "      <th>12239</th>\n",
       "      <td>14-01-2019 23:18</td>\n",
       "      <td>\"Konopelski, Schneider and Hartmann\"</td>\n",
       "      <td>food_dining</td>\n",
       "      <td>121.62</td>\n",
       "      <td>Westerville</td>\n",
       "      <td>NE</td>\n",
       "      <td>41.4193</td>\n",
       "      <td>-99.3844</td>\n",
       "      <td>73</td>\n",
       "      <td>Product designer</td>\n",
       "      <td>10-02-1935</td>\n",
       "      <td>31001f18f1cc19cfde92209361884e06</td>\n",
       "      <td>40.544371</td>\n",
       "      <td>-98.726597</td>\n",
       "      <td>1</td>\n",
       "    </tr>\n",
       "    <tr>\n",
       "      <th>12274</th>\n",
       "      <td>15-01-2019 01:07</td>\n",
       "      <td>VonRueden Group</td>\n",
       "      <td>grocery_net</td>\n",
       "      <td>15.05</td>\n",
       "      <td>Westerville</td>\n",
       "      <td>NE</td>\n",
       "      <td>41.4193</td>\n",
       "      <td>-99.3844</td>\n",
       "      <td>73</td>\n",
       "      <td>Product designer</td>\n",
       "      <td>10-02-1935</td>\n",
       "      <td>f3d6f1020342e0aec86a1483d85a52d4</td>\n",
       "      <td>42.015822</td>\n",
       "      <td>-98.943391</td>\n",
       "      <td>1</td>\n",
       "    </tr>\n",
       "    <tr>\n",
       "      <th>12643</th>\n",
       "      <td>15-01-2019 22:50</td>\n",
       "      <td>Koelpin and Sons</td>\n",
       "      <td>misc_net</td>\n",
       "      <td>851.71</td>\n",
       "      <td>Westerville</td>\n",
       "      <td>NE</td>\n",
       "      <td>41.4193</td>\n",
       "      <td>-99.3844</td>\n",
       "      <td>73</td>\n",
       "      <td>Product designer</td>\n",
       "      <td>10-02-1935</td>\n",
       "      <td>22b7c01ff32367d1c58037196e9b6afb</td>\n",
       "      <td>40.461654</td>\n",
       "      <td>-98.987825</td>\n",
       "      <td>1</td>\n",
       "    </tr>\n",
       "    <tr>\n",
       "      <th>12647</th>\n",
       "      <td>15-01-2019 23:01</td>\n",
       "      <td>\"Little, Gutmann and Lynch\"</td>\n",
       "      <td>shopping_net</td>\n",
       "      <td>1124.01</td>\n",
       "      <td>Westerville</td>\n",
       "      <td>NE</td>\n",
       "      <td>41.4193</td>\n",
       "      <td>-99.3844</td>\n",
       "      <td>73</td>\n",
       "      <td>Product designer</td>\n",
       "      <td>10-02-1935</td>\n",
       "      <td>18754b81f40491fc7058342bf61eb82e</td>\n",
       "      <td>40.650720</td>\n",
       "      <td>-98.820629</td>\n",
       "      <td>1</td>\n",
       "    </tr>\n",
       "    <tr>\n",
       "      <th>12650</th>\n",
       "      <td>15-01-2019 23:12</td>\n",
       "      <td>\"Reichert, Shanahan and Hayes\"</td>\n",
       "      <td>shopping_net</td>\n",
       "      <td>1140.41</td>\n",
       "      <td>Westerville</td>\n",
       "      <td>NE</td>\n",
       "      <td>41.4193</td>\n",
       "      <td>-99.3844</td>\n",
       "      <td>73</td>\n",
       "      <td>Product designer</td>\n",
       "      <td>10-02-1935</td>\n",
       "      <td>7da32f9ad2d6aa478131b5f7fa51fee5</td>\n",
       "      <td>41.151133</td>\n",
       "      <td>-99.382380</td>\n",
       "      <td>1</td>\n",
       "    </tr>\n",
       "    <tr>\n",
       "      <th>12905</th>\n",
       "      <td>17-01-2019 01:30</td>\n",
       "      <td>\"Monahan, Bogisich and Ledne\"</td>\n",
       "      <td>misc_pos</td>\n",
       "      <td>795.59</td>\n",
       "      <td>Thompson</td>\n",
       "      <td>UT</td>\n",
       "      <td>38.9999</td>\n",
       "      <td>-109.6150</td>\n",
       "      <td>46</td>\n",
       "      <td>\"Surveyor, minerals\"</td>\n",
       "      <td>23-04-1987</td>\n",
       "      <td>5d6931d4ac32d177b708ed9785d409ea</td>\n",
       "      <td>38.278335</td>\n",
       "      <td>-109.044284</td>\n",
       "      <td>1</td>\n",
       "    </tr>\n",
       "    <tr>\n",
       "      <th>12962</th>\n",
       "      <td>17-01-2019 08:59</td>\n",
       "      <td>Kutch LLC</td>\n",
       "      <td>gas_transport</td>\n",
       "      <td>9.79</td>\n",
       "      <td>Thompson</td>\n",
       "      <td>UT</td>\n",
       "      <td>38.9999</td>\n",
       "      <td>-109.6150</td>\n",
       "      <td>46</td>\n",
       "      <td>\"Surveyor, minerals\"</td>\n",
       "      <td>23-04-1987</td>\n",
       "      <td>73d976fc46f089af2c58c39273525b55</td>\n",
       "      <td>39.157345</td>\n",
       "      <td>-109.126592</td>\n",
       "      <td>1</td>\n",
       "    </tr>\n",
       "    <tr>\n",
       "      <th>13109</th>\n",
       "      <td>17-01-2019 22:26</td>\n",
       "      <td>Kutch-Wilderman</td>\n",
       "      <td>home</td>\n",
       "      <td>187.35</td>\n",
       "      <td>Thompson</td>\n",
       "      <td>UT</td>\n",
       "      <td>38.9999</td>\n",
       "      <td>-109.6150</td>\n",
       "      <td>46</td>\n",
       "      <td>\"Surveyor, minerals\"</td>\n",
       "      <td>23-04-1987</td>\n",
       "      <td>4f7bdd079103fb386ebe90b1fd22fd7b</td>\n",
       "      <td>39.422070</td>\n",
       "      <td>-109.555496</td>\n",
       "      <td>1</td>\n",
       "    </tr>\n",
       "    <tr>\n",
       "      <th>13115</th>\n",
       "      <td>17-01-2019 22:45</td>\n",
       "      <td>\"Nicolas, Hills and McGlynn\"</td>\n",
       "      <td>entertainment</td>\n",
       "      <td>564.34</td>\n",
       "      <td>Thompson</td>\n",
       "      <td>UT</td>\n",
       "      <td>38.9999</td>\n",
       "      <td>-109.6150</td>\n",
       "      <td>46</td>\n",
       "      <td>\"Surveyor, minerals\"</td>\n",
       "      <td>23-04-1987</td>\n",
       "      <td>b8b80b56dbdf53fbe417f0915fe1d3ee</td>\n",
       "      <td>38.435536</td>\n",
       "      <td>-109.844716</td>\n",
       "      <td>1</td>\n",
       "    </tr>\n",
       "    <tr>\n",
       "      <th>13133</th>\n",
       "      <td>18-01-2019 00:23</td>\n",
       "      <td>Boyer PLC</td>\n",
       "      <td>shopping_net</td>\n",
       "      <td>978.96</td>\n",
       "      <td>Thompson</td>\n",
       "      <td>UT</td>\n",
       "      <td>38.9999</td>\n",
       "      <td>-109.6150</td>\n",
       "      <td>46</td>\n",
       "      <td>\"Surveyor, minerals\"</td>\n",
       "      <td>23-04-1987</td>\n",
       "      <td>fbda3f1531d8d9186359a561e09077af</td>\n",
       "      <td>38.893999</td>\n",
       "      <td>-109.677707</td>\n",
       "      <td>1</td>\n",
       "    </tr>\n",
       "    <tr>\n",
       "      <th>13155</th>\n",
       "      <td>18-01-2019 03:36</td>\n",
       "      <td>Kerluke-Abshire</td>\n",
       "      <td>shopping_net</td>\n",
       "      <td>849.79</td>\n",
       "      <td>Thompson</td>\n",
       "      <td>UT</td>\n",
       "      <td>38.9999</td>\n",
       "      <td>-109.6150</td>\n",
       "      <td>46</td>\n",
       "      <td>\"Surveyor, minerals\"</td>\n",
       "      <td>23-04-1987</td>\n",
       "      <td>9047da1474aecee56ec498ca6c3456d8</td>\n",
       "      <td>38.376171</td>\n",
       "      <td>-110.362490</td>\n",
       "      <td>1</td>\n",
       "    </tr>\n",
       "    <tr>\n",
       "      <th>13158</th>\n",
       "      <td>18-01-2019 03:54</td>\n",
       "      <td>Rempel Inc</td>\n",
       "      <td>shopping_net</td>\n",
       "      <td>955.40</td>\n",
       "      <td>Thompson</td>\n",
       "      <td>UT</td>\n",
       "      <td>38.9999</td>\n",
       "      <td>-109.6150</td>\n",
       "      <td>46</td>\n",
       "      <td>\"Surveyor, minerals\"</td>\n",
       "      <td>23-04-1987</td>\n",
       "      <td>421094fceb39c5379bdb06f6a7e5cc0a</td>\n",
       "      <td>38.748484</td>\n",
       "      <td>-110.321810</td>\n",
       "      <td>1</td>\n",
       "    </tr>\n",
       "    <tr>\n",
       "      <th>13261</th>\n",
       "      <td>18-01-2019 14:38</td>\n",
       "      <td>Shanahan-Lehne</td>\n",
       "      <td>personal_care</td>\n",
       "      <td>21.54</td>\n",
       "      <td>Thompson</td>\n",
       "      <td>UT</td>\n",
       "      <td>38.9999</td>\n",
       "      <td>-109.6150</td>\n",
       "      <td>46</td>\n",
       "      <td>\"Surveyor, minerals\"</td>\n",
       "      <td>23-04-1987</td>\n",
       "      <td>ce3b2734ce646ef6a47b3484a8e043e5</td>\n",
       "      <td>38.211376</td>\n",
       "      <td>-109.986757</td>\n",
       "      <td>1</td>\n",
       "    </tr>\n",
       "    <tr>\n",
       "      <th>13372</th>\n",
       "      <td>18-01-2019 22:06</td>\n",
       "      <td>Beier LLC</td>\n",
       "      <td>entertainment</td>\n",
       "      <td>528.98</td>\n",
       "      <td>Thompson</td>\n",
       "      <td>UT</td>\n",
       "      <td>38.9999</td>\n",
       "      <td>-109.6150</td>\n",
       "      <td>46</td>\n",
       "      <td>\"Surveyor, minerals\"</td>\n",
       "      <td>23-04-1987</td>\n",
       "      <td>3417f366e2e1d5dd25a3a89a3aae9f3d</td>\n",
       "      <td>39.164469</td>\n",
       "      <td>-109.933543</td>\n",
       "      <td>1</td>\n",
       "    </tr>\n",
       "    <tr>\n",
       "      <th>13376</th>\n",
       "      <td>18-01-2019 22:12</td>\n",
       "      <td>Bartoletti and Sons</td>\n",
       "      <td>personal_care</td>\n",
       "      <td>21.23</td>\n",
       "      <td>Thompson</td>\n",
       "      <td>UT</td>\n",
       "      <td>38.9999</td>\n",
       "      <td>-109.6150</td>\n",
       "      <td>46</td>\n",
       "      <td>\"Surveyor, minerals\"</td>\n",
       "      <td>23-04-1987</td>\n",
       "      <td>2df9fa2d0e508ed2a83aa3ac6f4b5d5a</td>\n",
       "      <td>38.998205</td>\n",
       "      <td>-110.005615</td>\n",
       "      <td>1</td>\n",
       "    </tr>\n",
       "    <tr>\n",
       "      <th>13392</th>\n",
       "      <td>18-01-2019 23:16</td>\n",
       "      <td>Ankunding-Carroll</td>\n",
       "      <td>travel</td>\n",
       "      <td>9.33</td>\n",
       "      <td>Thompson</td>\n",
       "      <td>UT</td>\n",
       "      <td>38.9999</td>\n",
       "      <td>-109.6150</td>\n",
       "      <td>46</td>\n",
       "      <td>\"Surveyor, minerals\"</td>\n",
       "      <td>23-04-1987</td>\n",
       "      <td>a0ed41246d201717db7250fa2375c73b</td>\n",
       "      <td>39.230640</td>\n",
       "      <td>-108.990363</td>\n",
       "      <td>1</td>\n",
       "    </tr>\n",
       "    <tr>\n",
       "      <th>13396</th>\n",
       "      <td>18-01-2019 23:31</td>\n",
       "      <td>Wilkinson Lt</td>\n",
       "      <td>entertainment</td>\n",
       "      <td>386.91</td>\n",
       "      <td>Thompson</td>\n",
       "      <td>UT</td>\n",
       "      <td>38.9999</td>\n",
       "      <td>-109.6150</td>\n",
       "      <td>46</td>\n",
       "      <td>\"Surveyor, minerals\"</td>\n",
       "      <td>23-04-1987</td>\n",
       "      <td>48dcc21bdef98405171a831d70b463c8</td>\n",
       "      <td>39.262556</td>\n",
       "      <td>-109.656927</td>\n",
       "      <td>1</td>\n",
       "    </tr>\n",
       "  </tbody>\n",
       "</table>\n",
       "</div>"
      ],
      "text/plain": [
       "      trans_date_trans_time                              merchant  \\\n",
       "12092      14-01-2019 16:15      \"Baumbach, Hodkiewicz and Walsh\"   \n",
       "12222      14-01-2019 22:28                           Beier-Hyatt   \n",
       "12238      14-01-2019 23:17           \"Reichert, Huels and Hoppe\"   \n",
       "12239      14-01-2019 23:18  \"Konopelski, Schneider and Hartmann\"   \n",
       "12274      15-01-2019 01:07                       VonRueden Group   \n",
       "12643      15-01-2019 22:50                      Koelpin and Sons   \n",
       "12647      15-01-2019 23:01           \"Little, Gutmann and Lynch\"   \n",
       "12650      15-01-2019 23:12        \"Reichert, Shanahan and Hayes\"   \n",
       "12905      17-01-2019 01:30         \"Monahan, Bogisich and Ledne\"   \n",
       "12962      17-01-2019 08:59                             Kutch LLC   \n",
       "13109      17-01-2019 22:26                       Kutch-Wilderman   \n",
       "13115      17-01-2019 22:45          \"Nicolas, Hills and McGlynn\"   \n",
       "13133      18-01-2019 00:23                             Boyer PLC   \n",
       "13155      18-01-2019 03:36                       Kerluke-Abshire   \n",
       "13158      18-01-2019 03:54                            Rempel Inc   \n",
       "13261      18-01-2019 14:38                        Shanahan-Lehne   \n",
       "13372      18-01-2019 22:06                             Beier LLC   \n",
       "13376      18-01-2019 22:12                   Bartoletti and Sons   \n",
       "13392      18-01-2019 23:16                     Ankunding-Carroll   \n",
       "13396      18-01-2019 23:31                          Wilkinson Lt   \n",
       "\n",
       "            category      amt         city state      lat      long  city_pop  \\\n",
       "12092   shopping_pos   839.35  Westerville    NE  41.4193  -99.3844        73   \n",
       "12222   shopping_pos   969.64     San Jose    CA  37.3304 -121.7913    973849   \n",
       "12238   shopping_net  1034.21  Westerville    NE  41.4193  -99.3844        73   \n",
       "12239    food_dining   121.62  Westerville    NE  41.4193  -99.3844        73   \n",
       "12274    grocery_net    15.05  Westerville    NE  41.4193  -99.3844        73   \n",
       "12643       misc_net   851.71  Westerville    NE  41.4193  -99.3844        73   \n",
       "12647   shopping_net  1124.01  Westerville    NE  41.4193  -99.3844        73   \n",
       "12650   shopping_net  1140.41  Westerville    NE  41.4193  -99.3844        73   \n",
       "12905       misc_pos   795.59     Thompson    UT  38.9999 -109.6150        46   \n",
       "12962  gas_transport     9.79     Thompson    UT  38.9999 -109.6150        46   \n",
       "13109           home   187.35     Thompson    UT  38.9999 -109.6150        46   \n",
       "13115  entertainment   564.34     Thompson    UT  38.9999 -109.6150        46   \n",
       "13133   shopping_net   978.96     Thompson    UT  38.9999 -109.6150        46   \n",
       "13155   shopping_net   849.79     Thompson    UT  38.9999 -109.6150        46   \n",
       "13158   shopping_net   955.40     Thompson    UT  38.9999 -109.6150        46   \n",
       "13261  personal_care    21.54     Thompson    UT  38.9999 -109.6150        46   \n",
       "13372  entertainment   528.98     Thompson    UT  38.9999 -109.6150        46   \n",
       "13376  personal_care    21.23     Thompson    UT  38.9999 -109.6150        46   \n",
       "13392         travel     9.33     Thompson    UT  38.9999 -109.6150        46   \n",
       "13396  entertainment   386.91     Thompson    UT  38.9999 -109.6150        46   \n",
       "\n",
       "                        job         dob                         trans_num  \\\n",
       "12092      Product designer  10-02-1935  7f9497dfc82f973690fd20102c502210   \n",
       "12222        Science writer  12-06-1955  163aa0609a5b81e3b3be72fb7bc31ed3   \n",
       "12238      Product designer  10-02-1935  d861ecd9fb05ec1832e4168e31cda378   \n",
       "12239      Product designer  10-02-1935  31001f18f1cc19cfde92209361884e06   \n",
       "12274      Product designer  10-02-1935  f3d6f1020342e0aec86a1483d85a52d4   \n",
       "12643      Product designer  10-02-1935  22b7c01ff32367d1c58037196e9b6afb   \n",
       "12647      Product designer  10-02-1935  18754b81f40491fc7058342bf61eb82e   \n",
       "12650      Product designer  10-02-1935  7da32f9ad2d6aa478131b5f7fa51fee5   \n",
       "12905  \"Surveyor, minerals\"  23-04-1987  5d6931d4ac32d177b708ed9785d409ea   \n",
       "12962  \"Surveyor, minerals\"  23-04-1987  73d976fc46f089af2c58c39273525b55   \n",
       "13109  \"Surveyor, minerals\"  23-04-1987  4f7bdd079103fb386ebe90b1fd22fd7b   \n",
       "13115  \"Surveyor, minerals\"  23-04-1987  b8b80b56dbdf53fbe417f0915fe1d3ee   \n",
       "13133  \"Surveyor, minerals\"  23-04-1987  fbda3f1531d8d9186359a561e09077af   \n",
       "13155  \"Surveyor, minerals\"  23-04-1987  9047da1474aecee56ec498ca6c3456d8   \n",
       "13158  \"Surveyor, minerals\"  23-04-1987  421094fceb39c5379bdb06f6a7e5cc0a   \n",
       "13261  \"Surveyor, minerals\"  23-04-1987  ce3b2734ce646ef6a47b3484a8e043e5   \n",
       "13372  \"Surveyor, minerals\"  23-04-1987  3417f366e2e1d5dd25a3a89a3aae9f3d   \n",
       "13376  \"Surveyor, minerals\"  23-04-1987  2df9fa2d0e508ed2a83aa3ac6f4b5d5a   \n",
       "13392  \"Surveyor, minerals\"  23-04-1987  a0ed41246d201717db7250fa2375c73b   \n",
       "13396  \"Surveyor, minerals\"  23-04-1987  48dcc21bdef98405171a831d70b463c8   \n",
       "\n",
       "       merch_lat  merch_long is_fraud  \n",
       "12092  42.337832  -99.342280        1  \n",
       "12222  36.709536 -122.649175        1  \n",
       "12238  41.124870 -100.349332        1  \n",
       "12239  40.544371  -98.726597        1  \n",
       "12274  42.015822  -98.943391        1  \n",
       "12643  40.461654  -98.987825        1  \n",
       "12647  40.650720  -98.820629        1  \n",
       "12650  41.151133  -99.382380        1  \n",
       "12905  38.278335 -109.044284        1  \n",
       "12962  39.157345 -109.126592        1  \n",
       "13109  39.422070 -109.555496        1  \n",
       "13115  38.435536 -109.844716        1  \n",
       "13133  38.893999 -109.677707        1  \n",
       "13155  38.376171 -110.362490        1  \n",
       "13158  38.748484 -110.321810        1  \n",
       "13261  38.211376 -109.986757        1  \n",
       "13372  39.164469 -109.933543        1  \n",
       "13376  38.998205 -110.005615        1  \n",
       "13392  39.230640 -108.990363        1  \n",
       "13396  39.262556 -109.656927        1  "
      ]
     },
     "execution_count": 10,
     "metadata": {},
     "output_type": "execute_result"
    }
   ],
   "source": [
    "# Examining the last 20 rows of the duplicates dataframe\n",
    "\n",
    "duplicates_all.tail(20)"
   ]
  },
  {
   "cell_type": "markdown",
   "metadata": {},
   "source": [
    "I utilized the following code - *fraud_df.duplicated().sum()* - to understand how many duplicated rows are in the dataframe.  There is a total of 63 duplicate rows."
   ]
  },
  {
   "cell_type": "markdown",
   "metadata": {},
   "source": [
    "## Examining Columns"
   ]
  },
  {
   "cell_type": "markdown",
   "metadata": {},
   "source": [
    "I am going to conduct additional exploratory analysis for the following columns:\n",
    "    \n",
    "- Whether Transaction is Fraud or Not\n",
    "- Merchant Name\n",
    "- Category of Merchant\n",
    "- City of Credit Card Holder\n",
    "- State of Credit Card Holder\n",
    "- Job of Credit Card Holder\n",
    "- Date of Birth of Credit Card Holder\n",
    "- Transaction Number\n",
    "\n",
    "The following column - Whether Transaction is Fraud or Not - is the target.  This is the column that captures the non-fradulent and fradulent transactions.\n",
    "\n",
    "The remaining columns are categorical.  I want to examine the distribution of the data within each column."
   ]
  },
  {
   "cell_type": "markdown",
   "metadata": {},
   "source": [
    "### Whether Transaction is Fraud or Not"
   ]
  },
  {
   "cell_type": "code",
   "execution_count": 11,
   "metadata": {},
   "outputs": [
    {
     "data": {
      "text/plain": [
       "0                         12600\n",
       "1                          1844\n",
       "0\"2019-01-01 00:00:44\"        1\n",
       "1\"2020-12-24 16:56:24\"        1\n",
       "Name: is_fraud, dtype: int64"
      ]
     },
     "execution_count": 11,
     "metadata": {},
     "output_type": "execute_result"
    }
   ],
   "source": [
    "# Examining how many values of fraud are in the following column: 'is_fraud'\n",
    "\n",
    "fraud_df['is_fraud'].value_counts()"
   ]
  },
  {
   "cell_type": "markdown",
   "metadata": {},
   "source": [
    "**Observations | Whether Transaction is Fraud or Not**    "
   ]
  },
  {
   "cell_type": "markdown",
   "metadata": {},
   "source": [
    "I utilized the following code - *fraud_df['is_fraud'].value_counts()* - to understand how many cases of fraud exist within the dataframe.\n",
    "\n",
    "There 12,600 cases of no fraud.  There are 1,844 cases of fraud.  As expected, there is a class imbalance of fraud within the dataset.\n",
    "\n",
    "I want to note there is a row with the following entry - *0\"2019-01-01 00:00:44\"*.  I am assuming this is a non-fradulent case in which the transaction date and time was incorporated.  I will remove the timestamp during the data cleaning phase.\n",
    "\n",
    "I also want to note there is a row with the following entry - *1\"2020-12-24 16:56:24\"*.  I am assuming this is a fradulent case in which the transaction date and time was incorporated.  I will remove the timestamp during the data cleaning phase.\n",
    "\n",
    "A bar chart that breaks down the non-fradulent and fradulent cases is below."
   ]
  },
  {
   "cell_type": "code",
   "execution_count": 12,
   "metadata": {},
   "outputs": [
    {
     "data": {
      "text/plain": [
       "Text(0.5, 1.0, 'Breakdown of Fraud Cases')"
      ]
     },
     "execution_count": 12,
     "metadata": {},
     "output_type": "execute_result"
    },
    {
     "data": {
      "image/png": "[encoded data removed]",
      "text/plain": [
       "<Figure size 432x288 with 1 Axes>"
      ]
     },
     "metadata": {
      "needs_background": "light"
     },
     "output_type": "display_data"
    }
   ],
   "source": [
    "# Create a bar chart for Value Counts of the 'is_fraud' column\n",
    "\n",
    "ax = sns.countplot(x='is_fraud', data=fraud_df)\n",
    "\n",
    "for p in ax.patches:\n",
    "    height = p.get_height()\n",
    "    ax.annotate(f'{height}', \n",
    "                (p.get_x() + p.get_width() / 2., height), \n",
    "                ha='center', va='bottom')  # Center text horizontally and place above the bar\n",
    "\n",
    "plt.title(\"Breakdown of Fraud Cases\")"
   ]
  },
  {
   "cell_type": "markdown",
   "metadata": {},
   "source": [
    "### Merchant Name"
   ]
  },
  {
   "cell_type": "code",
   "execution_count": 13,
   "metadata": {},
   "outputs": [
    {
     "data": {
      "text/plain": [
       "693"
      ]
     },
     "execution_count": 13,
     "metadata": {},
     "output_type": "execute_result"
    }
   ],
   "source": [
    "# Examining the number of unique categories in the 'merchant' column\n",
    "\n",
    "fraud_df['merchant'].nunique()"
   ]
  },
  {
   "cell_type": "code",
   "execution_count": 14,
   "metadata": {},
   "outputs": [
    {
     "data": {
      "text/plain": [
       "Kilback LLC          58\n",
       "Cormier LLC          48\n",
       "Kutch and Sons       46\n",
       "Rau and Sons         44\n",
       "Kiehn-Emmerich       42\n",
       "                     ..\n",
       "Emmerich-Luettgen     4\n",
       "Jerde-Hermann         4\n",
       "Collier Inc           4\n",
       "Wiegand-Lowe          4\n",
       "Kovacek Lt            3\n",
       "Name: merchant, Length: 693, dtype: int64"
      ]
     },
     "execution_count": 14,
     "metadata": {},
     "output_type": "execute_result"
    }
   ],
   "source": [
    "# Examining the value counts for each unique category in the 'merchant' column\n",
    "\n",
    "fraud_df['merchant'].value_counts()"
   ]
  },
  {
   "cell_type": "code",
   "execution_count": 15,
   "metadata": {},
   "outputs": [
    {
     "data": {
      "text/plain": [
       "Kilback LLC                               58\n",
       "Cormier LLC                               48\n",
       "Kutch and Sons                            46\n",
       "Rau and Sons                              44\n",
       "Kiehn-Emmerich                            42\n",
       "McDermott-Weimann                         42\n",
       "Boyer PLC                                 41\n",
       "Emard Inc                                 40\n",
       "Murray-Smitham                            39\n",
       "Kuhn LLC                                  39\n",
       "Kutch-Wilderman                           39\n",
       "Hudson-Grady                              38\n",
       "Gerhold LLC                               38\n",
       "\"Osinski, Ledner and Leuschke\"            38\n",
       "Stark-Koss                                38\n",
       "Dickinson Lt                              38\n",
       "Doyle Lt                                  37\n",
       "Torp-Labadie                              37\n",
       "\"Romaguera, Cruickshank and Greenholt\"    37\n",
       "Hudson-Ratke                              37\n",
       "Padberg-Welch                             37\n",
       "\"Baumbach, Strosin and Nicolas\"           37\n",
       "Boyer-Reichert                            37\n",
       "\"Bahringer, Schoen and Corkery\"           36\n",
       "\"Schoen, Kuphal and Nitzsche\"             36\n",
       "Cummerata-Jones                           36\n",
       "\"Kovacek, Dibbert and Ondrick\"            36\n",
       "\"Mosciski, Gislason and Mertz\"            36\n",
       "\"Robel, Cummerata and Prosacco\"           36\n",
       "Koepp-Witting                             36\n",
       "Name: merchant, dtype: int64"
      ]
     },
     "execution_count": 15,
     "metadata": {},
     "output_type": "execute_result"
    }
   ],
   "source": [
    "# Examining the value counts for the top 30 categories in the 'merchant' column\n",
    "\n",
    "fraud_df['merchant'].value_counts()[0:30]"
   ]
  },
  {
   "cell_type": "markdown",
   "metadata": {},
   "source": [
    "**Observations | Merchant Name**    "
   ]
  },
  {
   "cell_type": "markdown",
   "metadata": {},
   "source": [
    "I utilized the following code - *fraud_df['merchant'].nunique()* - to identify the number of unique categories in the Merchant column.  There are 693 different categories in the Merchant column.  \n",
    "\n",
    "I utilized the following code - fraud_df['merchant'].value_counts() - to understand the distribution of the categories within the Merchant column.  The top 5 categories with their respective value counts are the following:\n",
    "    \n",
    "- Kilback LLC - 58\n",
    "- Cormier LLC - 48\n",
    "- Kutch and Sons - 46\n",
    "- Rau and Sons - 44\n",
    "- Kiehn-Emmerich - 42\n",
    "    \n",
    "Based on the observations, there is a high degree of cardinality, or many unique categories, within the Merchant column.\n",
    "    \n",
    "I utilized the following code - *fraud_df['merchant'].value_counts().plot()* - to provide a visualization of the high cardinality, which is below."
   ]
  },
  {
   "cell_type": "code",
   "execution_count": 16,
   "metadata": {},
   "outputs": [
    {
     "data": {
      "text/plain": [
       "<AxesSubplot:>"
      ]
     },
     "execution_count": 16,
     "metadata": {},
     "output_type": "execute_result"
    },
    {
     "data": {
      "image/png": "[encoded data removed]",
      "text/plain": [
       "<Figure size 432x288 with 1 Axes>"
      ]
     },
     "metadata": {
      "needs_background": "light"
     },
     "output_type": "display_data"
    }
   ],
   "source": [
    "# Visualization of the cardinality of the 'Merchant' column\n",
    "\n",
    "fraud_df['merchant'].value_counts().plot()"
   ]
  },
  {
   "cell_type": "markdown",
   "metadata": {},
   "source": [
    "### Category (of Merchant)"
   ]
  },
  {
   "cell_type": "code",
   "execution_count": 17,
   "metadata": {},
   "outputs": [
    {
     "data": {
      "text/plain": [
       "14"
      ]
     },
     "execution_count": 17,
     "metadata": {},
     "output_type": "execute_result"
    }
   ],
   "source": [
    "# Examining the number of unique categories in the 'category' column\n",
    "\n",
    "fraud_df['category'].nunique()"
   ]
  },
  {
   "cell_type": "code",
   "execution_count": 18,
   "metadata": {},
   "outputs": [
    {
     "data": {
      "text/plain": [
       "grocery_pos       1602\n",
       "gas_transport     1430\n",
       "shopping_net      1408\n",
       "shopping_pos      1354\n",
       "home              1304\n",
       "kids_pets         1141\n",
       "personal_care      990\n",
       "entertainment      953\n",
       "health_fitness     891\n",
       "food_dining        870\n",
       "misc_pos           823\n",
       "misc_net           821\n",
       "grocery_net        474\n",
       "travel             385\n",
       "Name: category, dtype: int64"
      ]
     },
     "execution_count": 18,
     "metadata": {},
     "output_type": "execute_result"
    }
   ],
   "source": [
    "# Examining the value counts for each unique category in the 'category' column\n",
    "\n",
    "fraud_df['category'].value_counts()"
   ]
  },
  {
   "cell_type": "markdown",
   "metadata": {},
   "source": [
    "**Observations | Category (of Merchant)** "
   ]
  },
  {
   "cell_type": "markdown",
   "metadata": {},
   "source": [
    "I utilized the following code - *fraud_df['category'].nunique()* - to identify the number of unique categories in the Category column.  There are 14 different categories in the Category column.  \n",
    "\n",
    "I utilized the following code - fraud_df['category'].value_counts() - to understand the distribution of the categories within the Category column.  The top 5 categories with their respective value counts are the following:\n",
    "    \n",
    "- *grocery_pos* - 1602\n",
    "- *gas_transport* - 1430\n",
    "- *shopping_net* - 1408\n",
    "- *shopping_pos* - 1354\n",
    "- *home* - 1304\n",
    "    \n",
    "Based on the observations, there is a low degree of cardinality, or few unique categories, within the Category column.\n",
    "    \n",
    "I utilized the following code - *fraud_df['category'].value_counts().plot()* - to provide a visualization of the low cardinality, which is below."
   ]
  },
  {
   "cell_type": "code",
   "execution_count": 19,
   "metadata": {},
   "outputs": [
    {
     "data": {
      "text/plain": [
       "<AxesSubplot:>"
      ]
     },
     "execution_count": 19,
     "metadata": {},
     "output_type": "execute_result"
    },
    {
     "data": {
      "image/png": "[encoded data removed]",
      "text/plain": [
       "<Figure size 432x288 with 1 Axes>"
      ]
     },
     "metadata": {
      "needs_background": "light"
     },
     "output_type": "display_data"
    }
   ],
   "source": [
    "# Visualization of the cardinality of the 'Category' column\n",
    "\n",
    "fraud_df['category'].value_counts().plot()"
   ]
  },
  {
   "cell_type": "code",
   "execution_count": 20,
   "metadata": {},
   "outputs": [],
   "source": [
    "# Creating a dataframe that only has the fradulent transactions\n",
    "\n",
    "all_fraud_cases = fraud_df[fraud_df['is_fraud'] == '1']"
   ]
  },
  {
   "cell_type": "code",
   "execution_count": 21,
   "metadata": {},
   "outputs": [
    {
     "data": {
      "text/plain": [
       "grocery_pos       444\n",
       "shopping_net      396\n",
       "misc_net          223\n",
       "shopping_pos      194\n",
       "gas_transport     159\n",
       "misc_pos           64\n",
       "entertainment      59\n",
       "personal_care      57\n",
       "kids_pets          56\n",
       "home               51\n",
       "food_dining        39\n",
       "health_fitness     36\n",
       "travel             34\n",
       "grocery_net        32\n",
       "Name: category, dtype: int64"
      ]
     },
     "execution_count": 21,
     "metadata": {},
     "output_type": "execute_result"
    }
   ],
   "source": [
    "# Examining the values counts of the Category column within the new dataframe - 'all_fraud_cases'\n",
    "\n",
    "all_fraud_cases['category'].value_counts()"
   ]
  },
  {
   "cell_type": "markdown",
   "metadata": {},
   "source": [
    "I created a dataframe that only has the fradulent credit card transactions.  The top five merchant categories that have fradulent transactionss are the following:\n",
    "\n",
    "- *grocery_pos* - 444\n",
    "- *shopping_net* - 396\n",
    "- *misc_net* - 223\n",
    "- *shopping_pos* - 194\n",
    "- *gas_transport* - 159\n",
    "\n",
    "Upon observing the data, I see there are opportunities to group some of the merchant categories together.  For example, *food_dining* category can become part of the *entertainment* category.\n",
    "\n",
    "I also created a bar chart to represent which merchant categories have the most fradulent cases.  The bar chart is below."
   ]
  },
  {
   "cell_type": "code",
   "execution_count": 22,
   "metadata": {},
   "outputs": [
    {
     "data": {
      "text/plain": [
       "Text(0.5, 1.0, 'Breakdown of Merchant Category for Fraud Cases')"
      ]
     },
     "execution_count": 22,
     "metadata": {},
     "output_type": "execute_result"
    },
    {
     "data": {
      "image/png": "[encoded data removed]",
      "text/plain": [
       "<Figure size 432x288 with 1 Axes>"
      ]
     },
     "metadata": {
      "needs_background": "light"
     },
     "output_type": "display_data"
    }
   ],
   "source": [
    "# Get the sorted index of categories based on their counts\n",
    "sorted_categories = all_fraud_cases['category'].value_counts().index\n",
    "\n",
    "# Creating the bar chart\n",
    "ax = sns.countplot(y='category', data=all_fraud_cases, order=sorted_categories)\n",
    "\n",
    "for p in ax.patches:\n",
    "    width = p.get_width()\n",
    "    ax.annotate(f'{width}', \n",
    "                (width, p.get_y() + p.get_height() / 2), \n",
    "                ha='left', va='center')  # Align text to the left of the bar and center vertically\n",
    "\n",
    "plt.title(\"Breakdown of Merchant Category for Fraud Cases\")"
   ]
  },
  {
   "cell_type": "markdown",
   "metadata": {},
   "source": [
    "### City of Credit Card Holder"
   ]
  },
  {
   "cell_type": "code",
   "execution_count": 23,
   "metadata": {},
   "outputs": [
    {
     "data": {
      "text/plain": [
       "176"
      ]
     },
     "execution_count": 23,
     "metadata": {},
     "output_type": "execute_result"
    }
   ],
   "source": [
    "# Examining the number of unique categories in the 'city' column\n",
    "\n",
    "fraud_df['city'].nunique()"
   ]
  },
  {
   "cell_type": "code",
   "execution_count": 24,
   "metadata": {},
   "outputs": [
    {
     "data": {
      "text/plain": [
       "Phoenix          297\n",
       "Centerview       197\n",
       "Orient           192\n",
       "Fort Washakie    187\n",
       "Sutherland       187\n",
       "                ... \n",
       "Angwin            10\n",
       "Buellton           8\n",
       "Wappapello         8\n",
       "Pleasant Hill      8\n",
       "Vacaville          7\n",
       "Name: city, Length: 176, dtype: int64"
      ]
     },
     "execution_count": 24,
     "metadata": {},
     "output_type": "execute_result"
    }
   ],
   "source": [
    "# Examining the value counts for each unique category in the 'city' column\n",
    "\n",
    "fraud_df['city'].value_counts()"
   ]
  },
  {
   "cell_type": "markdown",
   "metadata": {},
   "source": [
    "**Observations | City of Credit Card Holder** "
   ]
  },
  {
   "cell_type": "markdown",
   "metadata": {},
   "source": [
    "I utilized the following code - *fraud_df['city'].nunique()* - to identify the number of unique categories in the City column.  There are 176 different categories in the City column.  \n",
    "\n",
    "I utilized the following code - fraud_df['city'].value_counts() - to understand the distribution of the categories within the City column.  The top 5 categories with their respective value counts are the following:\n",
    "    \n",
    "- Phoenix - 297\n",
    "- Centerview - 197\n",
    "- Orient - 192\n",
    "- Sutherland - 187\n",
    "- Fort Washakie - 187\n",
    "    \n",
    "Based on the observations, there is a high degree of cardinality, or many unique categories, within the City column.\n",
    "    \n",
    "I utilized the following code - *fraud_df['city'].value_counts().plot()* - to provide a visualization of the high cardinality, which is below."
   ]
  },
  {
   "cell_type": "code",
   "execution_count": 25,
   "metadata": {},
   "outputs": [
    {
     "data": {
      "text/plain": [
       "<AxesSubplot:>"
      ]
     },
     "execution_count": 25,
     "metadata": {},
     "output_type": "execute_result"
    },
    {
     "data": {
      "image/png": "[encoded data removed]",
      "text/plain": [
       "<Figure size 432x288 with 1 Axes>"
      ]
     },
     "metadata": {
      "needs_background": "light"
     },
     "output_type": "display_data"
    }
   ],
   "source": [
    "# Visualization of the cardinality of the 'City' column\n",
    "\n",
    "fraud_df['city'].value_counts().plot()"
   ]
  },
  {
   "cell_type": "markdown",
   "metadata": {},
   "source": [
    "### State of Credit Card Holder"
   ]
  },
  {
   "cell_type": "code",
   "execution_count": 26,
   "metadata": {},
   "outputs": [
    {
     "data": {
      "text/plain": [
       "13"
      ]
     },
     "execution_count": 26,
     "metadata": {},
     "output_type": "execute_result"
    }
   ],
   "source": [
    "# Examining the number of unique categories in the 'state' column\n",
    "\n",
    "fraud_df['state'].nunique()"
   ]
  },
  {
   "cell_type": "code",
   "execution_count": 27,
   "metadata": {},
   "outputs": [
    {
     "data": {
      "text/plain": [
       "CA    3375\n",
       "MO    2329\n",
       "NE    1460\n",
       "OR    1211\n",
       "WA    1150\n",
       "WY    1100\n",
       "NM    1003\n",
       "CO     856\n",
       "AZ     673\n",
       "UT     597\n",
       "ID     347\n",
       "AK     173\n",
       "HI     172\n",
       "Name: state, dtype: int64"
      ]
     },
     "execution_count": 27,
     "metadata": {},
     "output_type": "execute_result"
    }
   ],
   "source": [
    "# Examining the value counts for each unique category in the 'state' column\n",
    "\n",
    "fraud_df['state'].value_counts()"
   ]
  },
  {
   "cell_type": "markdown",
   "metadata": {},
   "source": [
    "**Observations | State of Credit Card Holder** "
   ]
  },
  {
   "cell_type": "markdown",
   "metadata": {},
   "source": [
    "I utilized the following code - *fraud_df['state'].nunique()* - to identify the number of unique categories in the State column.  There are 13 different categories in the State column.  \n",
    "\n",
    "I utilized the following code - fraud_df['state'].value_counts() - to understand the distribution of the categories within the State column.  The top 5 categories with their respective value counts are the following:\n",
    "    \n",
    "- CA - 3375\n",
    "- MO - 2329\n",
    "- NE - 1460\n",
    "- OR - 1211\n",
    "- WA - 1150\n",
    "    \n",
    "Based on the observations, there is a low degree of cardinality, or few unique categories, within the State column.\n",
    "    \n",
    "I utilized the following code - *fraud_df['state'].value_counts().plot()* - to provide a visualization of the low cardinality, which is below."
   ]
  },
  {
   "cell_type": "code",
   "execution_count": 28,
   "metadata": {},
   "outputs": [
    {
     "data": {
      "text/plain": [
       "<AxesSubplot:>"
      ]
     },
     "execution_count": 28,
     "metadata": {},
     "output_type": "execute_result"
    },
    {
     "data": {
      "image/png": "[encoded data removed]",
      "text/plain": [
       "<Figure size 432x288 with 1 Axes>"
      ]
     },
     "metadata": {
      "needs_background": "light"
     },
     "output_type": "display_data"
    }
   ],
   "source": [
    "# Visualization of the cardinality of the 'State' column\n",
    "\n",
    "fraud_df['state'].value_counts().plot()"
   ]
  },
  {
   "cell_type": "code",
   "execution_count": 29,
   "metadata": {},
   "outputs": [
    {
     "data": {
      "text/plain": [
       "CA    410\n",
       "MO    267\n",
       "NE    238\n",
       "OR    197\n",
       "WA    126\n",
       "NM    121\n",
       "WY    119\n",
       "CO    115\n",
       "UT     73\n",
       "AK     65\n",
       "AZ     64\n",
       "ID     33\n",
       "HI     16\n",
       "Name: state, dtype: int64"
      ]
     },
     "execution_count": 29,
     "metadata": {},
     "output_type": "execute_result"
    }
   ],
   "source": [
    "# Examining the values counts of the State column within the new dataframe - 'all_fraud_cases'\n",
    "\n",
    "all_fraud_cases['state'].value_counts()"
   ]
  },
  {
   "cell_type": "markdown",
   "metadata": {},
   "source": [
    "I leveraged the dataframe that only has the fradulent credit card transactions.  The top five states that have fradulent transactionss are the following:\n",
    "\n",
    "- CA - 410\n",
    "- MO - 267\n",
    "- NE - 238\n",
    "- OR - 197\n",
    "- WA - 126\n",
    "\n",
    "Upon observing the data, I see there are opportunities to group some of the states together.  For example, I can group the states into the following categories: West, Southwest, and Midwest.  However, I would be inclined to maintain California (CA), Alaska (AK), and HI (Hawaii) as standalone states.\n",
    "\n",
    "I also created a bar chart to represent which states have the most fradulent cases.  The bar chart is below."
   ]
  },
  {
   "cell_type": "code",
   "execution_count": 30,
   "metadata": {},
   "outputs": [
    {
     "data": {
      "text/plain": [
       "Text(0.5, 1.0, 'Breakdown of States for Fraud Cases')"
      ]
     },
     "execution_count": 30,
     "metadata": {},
     "output_type": "execute_result"
    },
    {
     "data": {
      "image/png": "[encoded data removed]",
      "text/plain": [
       "<Figure size 432x288 with 1 Axes>"
      ]
     },
     "metadata": {
      "needs_background": "light"
     },
     "output_type": "display_data"
    }
   ],
   "source": [
    "# Get the sorted index of states based on their counts\n",
    "sorted_states = all_fraud_cases['state'].value_counts().index\n",
    "\n",
    "# Creating the bar chart\n",
    "ax = sns.countplot(y='state', data=all_fraud_cases, order=sorted_states)\n",
    "\n",
    "for p in ax.patches:\n",
    "    width = p.get_width()\n",
    "    ax.annotate(f'{width}', \n",
    "                (width, p.get_y() + p.get_height() / 2), \n",
    "                ha='left', va='center')  # Align text to the left of the bar and center vertically\n",
    "\n",
    "plt.title(\"Breakdown of States for Fraud Cases\")"
   ]
  },
  {
   "cell_type": "markdown",
   "metadata": {},
   "source": [
    "### Job of Credit Card Holder"
   ]
  },
  {
   "cell_type": "code",
   "execution_count": 31,
   "metadata": {},
   "outputs": [
    {
     "data": {
      "text/plain": [
       "163"
      ]
     },
     "execution_count": 31,
     "metadata": {},
     "output_type": "execute_result"
    }
   ],
   "source": [
    "# Examining the number of unique categories in the 'job' column\n",
    "\n",
    "fraud_df['job'].nunique()"
   ]
  },
  {
   "cell_type": "code",
   "execution_count": 32,
   "metadata": {},
   "outputs": [
    {
     "data": {
      "text/plain": [
       "\"Surveyor, minerals\"            262\n",
       "\"Surveyor, land/geomatics\"      240\n",
       "Land/geomatics surveyor         225\n",
       "Insurance broker                209\n",
       "Electronics engineer            197\n",
       "                               ... \n",
       "Systems developer                 9\n",
       "Landscape architect               9\n",
       "Information officer               8\n",
       "Research scientist (medical)      8\n",
       "Clinical cytogeneticist           7\n",
       "Name: job, Length: 163, dtype: int64"
      ]
     },
     "execution_count": 32,
     "metadata": {},
     "output_type": "execute_result"
    }
   ],
   "source": [
    "# Examining the value counts for each unique category in the 'job' column\n",
    "\n",
    "fraud_df['job'].value_counts()"
   ]
  },
  {
   "cell_type": "markdown",
   "metadata": {},
   "source": [
    "**Observations | Job of Credit Card Holder** "
   ]
  },
  {
   "cell_type": "markdown",
   "metadata": {},
   "source": [
    "I utilized the following code - *fraud_df['job'].nunique()* - to identify the number of unique categories in the Job column.  There are 163 different categories in the Job column.  \n",
    "\n",
    "I utilized the following code - fraud_df['job'].value_counts() - to understand the distribution of the categories within the Job column.  The top 5 categories with their respective value counts are the following:\n",
    "    \n",
    "- Surveyor, minerals - 262\n",
    "- Surveyor, land/geomatics - 240\n",
    "- Land/geomatics surveyor - 225\n",
    "- Insurance broker - 209\n",
    "- Electronics engineer - 197\n",
    "    \n",
    "Based on the observations, there is a high degree of cardinality, or many unique categories, within the Job column.\n",
    "    \n",
    "I utilized the following code - *fraud_df['job'].value_counts().plot()* - to provide a visualization of the high cardinality, which is below."
   ]
  },
  {
   "cell_type": "code",
   "execution_count": 33,
   "metadata": {},
   "outputs": [
    {
     "data": {
      "text/plain": [
       "<AxesSubplot:>"
      ]
     },
     "execution_count": 33,
     "metadata": {},
     "output_type": "execute_result"
    },
    {
     "data": {
      "image/png": "[encoded data removed]",
      "text/plain": [
       "<Figure size 432x288 with 1 Axes>"
      ]
     },
     "metadata": {
      "needs_background": "light"
     },
     "output_type": "display_data"
    }
   ],
   "source": [
    "# Visualization of the cardinality of the 'Job' column\n",
    "\n",
    "fraud_df['job'].value_counts().plot()"
   ]
  },
  {
   "cell_type": "markdown",
   "metadata": {},
   "source": [
    "### Date of Birth of Credit Card Holder"
   ]
  },
  {
   "cell_type": "code",
   "execution_count": 34,
   "metadata": {},
   "outputs": [
    {
     "data": {
      "text/plain": [
       "187"
      ]
     },
     "execution_count": 34,
     "metadata": {},
     "output_type": "execute_result"
    }
   ],
   "source": [
    "# Examining the number of unique categories in the 'dob' column\n",
    "\n",
    "fraud_df['dob'].nunique()"
   ]
  },
  {
   "cell_type": "code",
   "execution_count": 35,
   "metadata": {},
   "outputs": [
    {
     "data": {
      "text/plain": [
       "17-07-1989    197\n",
       "21-06-1978    192\n",
       "24-10-1981    190\n",
       "11-02-1982    187\n",
       "28-10-1987    183\n",
       "             ... \n",
       "23-12-1936      9\n",
       "28-05-1946      8\n",
       "27-07-1957      8\n",
       "10-08-1932      8\n",
       "25-06-1970      7\n",
       "Name: dob, Length: 187, dtype: int64"
      ]
     },
     "execution_count": 35,
     "metadata": {},
     "output_type": "execute_result"
    }
   ],
   "source": [
    "# Examining the value counts for each unique category in the 'dob' column\n",
    "\n",
    "fraud_df['dob'].value_counts()"
   ]
  },
  {
   "cell_type": "markdown",
   "metadata": {},
   "source": [
    "I utilized the following code - *fraud_df['dob'].nunique()* - to identify the number of unique categories in the Date of Birth column.  There are 187 different categories in the Date of Birth column.  \n",
    "\n",
    "I utilized the following code - fraud_df['dob'].value_counts() - to understand the distribution of the categories within the Date of Birth column.  The top 5 categories with their respective value counts are the following:\n",
    "    \n",
    "- July 17th, 1989 - 197\n",
    "- June 21st, 1978 - 192\n",
    "- October 24th, 1981 - 190\n",
    "- February 11th, 1982 - 187\n",
    "- October 28th, 1987 - 183\n",
    "    \n",
    "Based on the observations, there is a high degree of cardinality, or many unique categories, within the Date of Birth column.\n",
    "    \n",
    "I utilized the following code - *fraud_df['dob'].value_counts().plot()* - to provide a visualization of the high cardinality, which is below."
   ]
  },
  {
   "cell_type": "code",
   "execution_count": 36,
   "metadata": {},
   "outputs": [
    {
     "data": {
      "text/plain": [
       "<AxesSubplot:>"
      ]
     },
     "execution_count": 36,
     "metadata": {},
     "output_type": "execute_result"
    },
    {
     "data": {
      "image/png": "[encoded data removed]",
      "text/plain": [
       "<Figure size 432x288 with 1 Axes>"
      ]
     },
     "metadata": {
      "needs_background": "light"
     },
     "output_type": "display_data"
    }
   ],
   "source": [
    "fraud_df['dob'].value_counts().plot()"
   ]
  },
  {
   "cell_type": "code",
   "execution_count": null,
   "metadata": {},
   "outputs": [],
   "source": []
  },
  {
   "cell_type": "markdown",
   "metadata": {},
   "source": [
    "### Transaction Number"
   ]
  },
  {
   "cell_type": "code",
   "execution_count": 37,
   "metadata": {},
   "outputs": [
    {
     "data": {
      "text/plain": [
       "14383"
      ]
     },
     "execution_count": 37,
     "metadata": {},
     "output_type": "execute_result"
    }
   ],
   "source": [
    "# Examining the number of unique categories in the 'transaction number' column\n",
    "\n",
    "fraud_df['trans_num'].nunique()"
   ]
  },
  {
   "cell_type": "code",
   "execution_count": 38,
   "metadata": {},
   "outputs": [
    {
     "data": {
      "text/plain": [
       "73d976fc46f089af2c58c39273525b55    2\n",
       "b87c92d4824758e704da572891697fed    2\n",
       "7d7d61dc3b301c78ca3c0cf73e8ed72e    2\n",
       "755e4e8350ec4a3e9309727574c97726    2\n",
       "186c2aeb244b826107f83b307233fb08    2\n",
       "                                   ..\n",
       "2253cbdcea56d3cc39fad91d8664ffc0    1\n",
       "042dc16bea28df83718a1dca045993ae    1\n",
       "f60766cc552fae802121c1fe844956ed    1\n",
       "e5f8dcc796bd702eecbbf2c964b3a9e5    1\n",
       "e20381819a3d5da2e566f8ee3148a253    1\n",
       "Name: trans_num, Length: 14383, dtype: int64"
      ]
     },
     "execution_count": 38,
     "metadata": {},
     "output_type": "execute_result"
    }
   ],
   "source": [
    "# Examining the value counts for each unique category in the 'transaction number' column\n",
    "\n",
    "fraud_df['trans_num'].value_counts()"
   ]
  },
  {
   "cell_type": "markdown",
   "metadata": {},
   "source": [
    "**Observations | Transaction Number** "
   ]
  },
  {
   "cell_type": "markdown",
   "metadata": {},
   "source": [
    "I utilized the following code - *fraud_df['trans_num'].nunique()* - to identify the number of unique categories in the Transaction Number column.  There are 14383 different categories in the Transaction Number column.  \n",
    "\n",
    "I utilized the following code - *fraud_df['trans_num'].value_counts()* - to understand the distribution of the categories within the Job column.\n",
    "    \n",
    "Based on the observations, this column has the highest degree of cardinality in comparison to all of the other columns in the dataset.  This is expected.  A transaction number is a unique identifier that is specific for a singular transaction.  \n",
    "    \n",
    "I utilized the following code - *fraud_df['trans_num'].value_counts().plot()* - to provide a visualization of the high cardinality, which is below."
   ]
  },
  {
   "cell_type": "code",
   "execution_count": 39,
   "metadata": {},
   "outputs": [
    {
     "data": {
      "text/plain": [
       "<AxesSubplot:>"
      ]
     },
     "execution_count": 39,
     "metadata": {},
     "output_type": "execute_result"
    },
    {
     "data": {
      "image/png": "[encoded data removed]",
      "text/plain": [
       "<Figure size 432x288 with 1 Axes>"
      ]
     },
     "metadata": {
      "needs_background": "light"
     },
     "output_type": "display_data"
    }
   ],
   "source": [
    "fraud_df['trans_num'].value_counts().plot()"
   ]
  },
  {
   "cell_type": "markdown",
   "metadata": {},
   "source": [
    "# Data Preparation"
   ]
  },
  {
   "cell_type": "markdown",
   "metadata": {},
   "source": [
    "I have completed the Data Understanding stage.  I will transition to preparing the data for modeling via the following stages:\n",
    "\n",
    "**Duplicate Data**\n",
    "- Remove Duplicates\n",
    "\n",
    "**Columns to Drop**\n",
    "- Remove the Merchant column, or *fraud_df['merchant']*\n",
    "- Remove the City of Credit Card Holder column, or *fraud_df['city']*\n",
    "- Remove the Job of Credit Card Holder column, or *fraud_df['job']*\n",
    "- Remove the Date of Birth column, or *fraud_df['dob']*\n",
    "- Remove the Transaction Number column, or *fraud_df['trans_num']*\n",
    "\n",
    "**Reclassify Data Entries in the Category (of Merchant) column**\n",
    "- For the rows in which there is an entry of *food_dining*, reclassify to *entertainment*\n",
    "\n",
    "**Reclassify Data Entries in the 'Whether Transaction is Fraud or Not' Column**\n",
    "- For the row in which there is an entry of *0\"2019-01-01 00:00:44\"*, reclassify it to 0\n",
    "- For the row in which there is an entry of *1\"2020-12-24 16:56:24\"*, reclassify it to 1\n",
    "- For the rows in which there is an entry of 0, reclassify to *Not Fraud*\n",
    "- For the rows in which there is an entry of 1, reclassify to *Fraud*\n",
    "\n",
    "**State of Credit Card Holder**\n",
    "- For the rows in which CA is listed, reclassify to California\n",
    "- Reclassify others states into US regions (i.e. - West, Southwest, and Midwest)\n",
    "- Rename state column as region\n",
    "\n",
    "**Transaction Date | Transaction Time Column**\n",
    "- Create a hour column based on the Transaction Date | Transaction Time Column\n",
    "- Create a month column based on the Transaction Date | Transaction Time Column\n",
    "- Create a year column based on the Transaction Date | Transaction Time Column"
   ]
  },
  {
   "cell_type": "markdown",
   "metadata": {},
   "source": [
    "## Duplicate Data"
   ]
  },
  {
   "cell_type": "code",
   "execution_count": 40,
   "metadata": {},
   "outputs": [
    {
     "name": "stdout",
     "output_type": "stream",
     "text": [
      "<class 'pandas.core.frame.DataFrame'>\n",
      "RangeIndex: 14446 entries, 0 to 14445\n",
      "Data columns (total 15 columns):\n",
      " #   Column                 Non-Null Count  Dtype  \n",
      "---  ------                 --------------  -----  \n",
      " 0   trans_date_trans_time  14446 non-null  object \n",
      " 1   merchant               14446 non-null  object \n",
      " 2   category               14446 non-null  object \n",
      " 3   amt                    14446 non-null  float64\n",
      " 4   city                   14446 non-null  object \n",
      " 5   state                  14446 non-null  object \n",
      " 6   lat                    14446 non-null  float64\n",
      " 7   long                   14446 non-null  float64\n",
      " 8   city_pop               14446 non-null  int64  \n",
      " 9   job                    14446 non-null  object \n",
      " 10  dob                    14446 non-null  object \n",
      " 11  trans_num              14446 non-null  object \n",
      " 12  merch_lat              14446 non-null  float64\n",
      " 13  merch_long             14446 non-null  float64\n",
      " 14  is_fraud               14446 non-null  object \n",
      "dtypes: float64(5), int64(1), object(9)\n",
      "memory usage: 1.7+ MB\n"
     ]
    }
   ],
   "source": [
    "# Checking the amount of rows in the 'fraud_df' dataframe\n",
    "\n",
    "fraud_df.info()"
   ]
  },
  {
   "cell_type": "code",
   "execution_count": 41,
   "metadata": {},
   "outputs": [],
   "source": [
    "# Dropping Duplicate Columns from the 'fraud_df' dataframe\n",
    "\n",
    "fraud_df.drop_duplicates(inplace=True)"
   ]
  },
  {
   "cell_type": "code",
   "execution_count": 42,
   "metadata": {},
   "outputs": [
    {
     "name": "stdout",
     "output_type": "stream",
     "text": [
      "<class 'pandas.core.frame.DataFrame'>\n",
      "Int64Index: 14383 entries, 0 to 14445\n",
      "Data columns (total 15 columns):\n",
      " #   Column                 Non-Null Count  Dtype  \n",
      "---  ------                 --------------  -----  \n",
      " 0   trans_date_trans_time  14383 non-null  object \n",
      " 1   merchant               14383 non-null  object \n",
      " 2   category               14383 non-null  object \n",
      " 3   amt                    14383 non-null  float64\n",
      " 4   city                   14383 non-null  object \n",
      " 5   state                  14383 non-null  object \n",
      " 6   lat                    14383 non-null  float64\n",
      " 7   long                   14383 non-null  float64\n",
      " 8   city_pop               14383 non-null  int64  \n",
      " 9   job                    14383 non-null  object \n",
      " 10  dob                    14383 non-null  object \n",
      " 11  trans_num              14383 non-null  object \n",
      " 12  merch_lat              14383 non-null  float64\n",
      " 13  merch_long             14383 non-null  float64\n",
      " 14  is_fraud               14383 non-null  object \n",
      "dtypes: float64(5), int64(1), object(9)\n",
      "memory usage: 1.8+ MB\n"
     ]
    }
   ],
   "source": [
    "# Checking the amount of rows in the 'fraud_df' dataframe\n",
    "\n",
    "fraud_df.info()"
   ]
  },
  {
   "cell_type": "markdown",
   "metadata": {},
   "source": [
    "I utilized the following code - *fraud_df.drop_duplicates(inplace=True)* - to remove the duplicates from the *fraud_df* dataframe.  There were originally 14,446 rows of data.  There are currently 14,383 rows of data."
   ]
  },
  {
   "cell_type": "markdown",
   "metadata": {},
   "source": [
    "## Columns to Drop"
   ]
  },
  {
   "cell_type": "code",
   "execution_count": 43,
   "metadata": {},
   "outputs": [],
   "source": [
    "# Dropping the following columns - fraud_df['merchant'], fraud_df['city'], fraud_df['job'], and fraud_df['trans_num'] \n",
    "\n",
    "fraud_df.drop(columns=['merchant', 'city', 'job', 'dob', 'trans_num'], inplace=True)"
   ]
  },
  {
   "cell_type": "code",
   "execution_count": 44,
   "metadata": {},
   "outputs": [
    {
     "name": "stdout",
     "output_type": "stream",
     "text": [
      "<class 'pandas.core.frame.DataFrame'>\n",
      "Int64Index: 14383 entries, 0 to 14445\n",
      "Data columns (total 10 columns):\n",
      " #   Column                 Non-Null Count  Dtype  \n",
      "---  ------                 --------------  -----  \n",
      " 0   trans_date_trans_time  14383 non-null  object \n",
      " 1   category               14383 non-null  object \n",
      " 2   amt                    14383 non-null  float64\n",
      " 3   state                  14383 non-null  object \n",
      " 4   lat                    14383 non-null  float64\n",
      " 5   long                   14383 non-null  float64\n",
      " 6   city_pop               14383 non-null  int64  \n",
      " 7   merch_lat              14383 non-null  float64\n",
      " 8   merch_long             14383 non-null  float64\n",
      " 9   is_fraud               14383 non-null  object \n",
      "dtypes: float64(5), int64(1), object(4)\n",
      "memory usage: 1.2+ MB\n"
     ]
    }
   ],
   "source": [
    "# Checking whether or not the columns have been removed from the dataframe\n",
    "\n",
    "fraud_df.info()"
   ]
  },
  {
   "cell_type": "markdown",
   "metadata": {},
   "source": [
    "I utilized the following code - *fraud_df.drop(columns=['merchant', 'city', 'job', 'trans_num'], inplace=True)* to remove the following columns:\n",
    "\n",
    "- *fraud_df['merchant']*\n",
    "- *fraud_df['city']*\n",
    "- *fraud_df['job']*\n",
    "- *fraud_df['trans_num']* \n",
    "\n",
    "Due to high cardinality, I removed the aforementioned columns.  There were originally fifteen columns in the dataframe.  There are currently 11 columns in the dataframe."
   ]
  },
  {
   "cell_type": "markdown",
   "metadata": {},
   "source": [
    "## Category (of Merchant) Column"
   ]
  },
  {
   "cell_type": "code",
   "execution_count": 45,
   "metadata": {},
   "outputs": [
    {
     "data": {
      "text/plain": [
       "array(['grocery_net', 'shopping_net', 'misc_pos', 'grocery_pos',\n",
       "       'health_fitness', 'gas_transport', 'misc_net', 'kids_pets',\n",
       "       'shopping_pos', 'entertainment', 'food_dining', 'home',\n",
       "       'personal_care', 'travel'], dtype=object)"
      ]
     },
     "execution_count": 45,
     "metadata": {},
     "output_type": "execute_result"
    }
   ],
   "source": [
    "# Checking the different categories in the 'fraud_df['category']' column\n",
    "\n",
    "fraud_df['category'].unique()"
   ]
  },
  {
   "cell_type": "code",
   "execution_count": 46,
   "metadata": {},
   "outputs": [
    {
     "data": {
      "text/plain": [
       "grocery_pos       1591\n",
       "gas_transport     1424\n",
       "shopping_net      1393\n",
       "shopping_pos      1347\n",
       "home              1303\n",
       "kids_pets         1140\n",
       "personal_care      988\n",
       "entertainment      949\n",
       "health_fitness     890\n",
       "food_dining        869\n",
       "misc_pos           821\n",
       "misc_net           815\n",
       "grocery_net        469\n",
       "travel             384\n",
       "Name: category, dtype: int64"
      ]
     },
     "execution_count": 46,
     "metadata": {},
     "output_type": "execute_result"
    }
   ],
   "source": [
    "# Checking the different categories in the 'fraud_df['category']' column\n",
    "\n",
    "fraud_df['category'].value_counts()"
   ]
  },
  {
   "cell_type": "code",
   "execution_count": 47,
   "metadata": {},
   "outputs": [],
   "source": [
    "# Categorizing the 'food_dining' values into 'entertainment'\n",
    "\n",
    "fraud_df['category'] = fraud_df['category'].str.replace('food_dining', 'entertainment')"
   ]
  },
  {
   "cell_type": "code",
   "execution_count": 48,
   "metadata": {},
   "outputs": [
    {
     "data": {
      "text/plain": [
       "entertainment     1818\n",
       "grocery_pos       1591\n",
       "gas_transport     1424\n",
       "shopping_net      1393\n",
       "shopping_pos      1347\n",
       "home              1303\n",
       "kids_pets         1140\n",
       "personal_care      988\n",
       "health_fitness     890\n",
       "misc_pos           821\n",
       "misc_net           815\n",
       "grocery_net        469\n",
       "travel             384\n",
       "Name: category, dtype: int64"
      ]
     },
     "execution_count": 48,
     "metadata": {},
     "output_type": "execute_result"
    }
   ],
   "source": [
    "# Checking whether or not the categorization of 'food_dining' values into 'entertainment' is complete\n",
    "\n",
    "fraud_df['category'].value_counts()"
   ]
  },
  {
   "cell_type": "markdown",
   "metadata": {},
   "source": [
    "I utilized the following code to reclassify the 'food_dining' values into 'entertainment'.  There were originally 949 credit card transactions for entertainment.  There are currently 1,818 credit card transaction values for entertainment.  Bar chart is below to display the breakdown."
   ]
  },
  {
   "cell_type": "code",
   "execution_count": 49,
   "metadata": {},
   "outputs": [
    {
     "data": {
      "text/plain": [
       "Text(0.5, 1.0, 'Breakdown of Merchant Category')"
      ]
     },
     "execution_count": 49,
     "metadata": {},
     "output_type": "execute_result"
    },
    {
     "data": {
      "image/png": "[encoded data removed]",
      "text/plain": [
       "<Figure size 432x288 with 1 Axes>"
      ]
     },
     "metadata": {
      "needs_background": "light"
     },
     "output_type": "display_data"
    }
   ],
   "source": [
    "# Get the sorted index of categories based on their counts\n",
    "sorted_categories_fraud_df = fraud_df['category'].value_counts().index\n",
    "\n",
    "# Creating the bar chart\n",
    "ax = sns.countplot(y='category', data=fraud_df, order=sorted_categories_fraud_df)\n",
    "\n",
    "for p in ax.patches:\n",
    "    width = p.get_width()\n",
    "    ax.annotate(f'{width}', \n",
    "                (width, p.get_y() + p.get_height() / 2), \n",
    "                ha='left', va='center')  # Align text to the left of the bar and center vertically\n",
    "\n",
    "plt.title(\"Breakdown of Merchant Category\")"
   ]
  },
  {
   "cell_type": "markdown",
   "metadata": {},
   "source": [
    "## Whether Transaction is Fraud or Not Column"
   ]
  },
  {
   "cell_type": "code",
   "execution_count": 50,
   "metadata": {},
   "outputs": [
    {
     "data": {
      "text/plain": [
       "0                         12600\n",
       "1                          1781\n",
       "0\"2019-01-01 00:00:44\"        1\n",
       "1\"2020-12-24 16:56:24\"        1\n",
       "Name: is_fraud, dtype: int64"
      ]
     },
     "execution_count": 50,
     "metadata": {},
     "output_type": "execute_result"
    }
   ],
   "source": [
    "# Checking the different categories in the 'fraud_df['is_fraud']' column\n",
    "\n",
    "fraud_df['is_fraud'].value_counts()"
   ]
  },
  {
   "cell_type": "code",
   "execution_count": 51,
   "metadata": {},
   "outputs": [],
   "source": [
    "# Reclassifying the entry of '1\"2020-12-24 16:56:24\"'' to '1'\n",
    "\n",
    "# Reclassifying the entry of '0\"2019-01-01 00:00:44\" to '0'\n",
    "\n",
    "fraud_df['is_fraud'] = fraud_df['is_fraud'].str.replace('1\"2020-12-24 16:56:24\"', '1').str.replace('0\"2019-01-01 00:00:44\"', '0')"
   ]
  },
  {
   "cell_type": "code",
   "execution_count": 52,
   "metadata": {},
   "outputs": [
    {
     "data": {
      "text/plain": [
       "0    12601\n",
       "1     1782\n",
       "Name: is_fraud, dtype: int64"
      ]
     },
     "execution_count": 52,
     "metadata": {},
     "output_type": "execute_result"
    }
   ],
   "source": [
    "# Checking the different categories in the 'fraud_df['is_fraud']' column\n",
    "\n",
    "fraud_df['is_fraud'].value_counts()"
   ]
  },
  {
   "cell_type": "code",
   "execution_count": 53,
   "metadata": {},
   "outputs": [],
   "source": [
    "# Reclassifying the entries of '0' to 'Not Fraud'\n",
    "\n",
    "# Reclassifying the entries of '1' to 'Fraud'\n",
    "\n",
    "fraud_df['is_fraud'] = fraud_df['is_fraud'].str.replace('0','Not Fraud').str.replace('1','Fraud')"
   ]
  },
  {
   "cell_type": "code",
   "execution_count": 54,
   "metadata": {},
   "outputs": [
    {
     "data": {
      "text/plain": [
       "Not Fraud    12601\n",
       "Fraud         1782\n",
       "Name: is_fraud, dtype: int64"
      ]
     },
     "execution_count": 54,
     "metadata": {},
     "output_type": "execute_result"
    }
   ],
   "source": [
    "# Checking the different categories in the 'fraud_df['is_fraud']' column\n",
    "\n",
    "fraud_df['is_fraud'].value_counts()"
   ]
  },
  {
   "cell_type": "markdown",
   "metadata": {},
   "source": [
    "The data cleaning and preparation for the Fraud column is complete.  There are currently 12,601 cases of no fraud, and 1,782 cases of Fraud.  A breakdown is shown via bar chart below."
   ]
  },
  {
   "cell_type": "code",
   "execution_count": 55,
   "metadata": {},
   "outputs": [
    {
     "data": {
      "text/plain": [
       "Text(0.5, 1.0, 'Breakdown of Fraud Cases')"
      ]
     },
     "execution_count": 55,
     "metadata": {},
     "output_type": "execute_result"
    },
    {
     "data": {
      "image/png": "[encoded data removed]",
      "text/plain": [
       "<Figure size 432x288 with 1 Axes>"
      ]
     },
     "metadata": {
      "needs_background": "light"
     },
     "output_type": "display_data"
    }
   ],
   "source": [
    "# Create a bar chart for Value Counts of the 'is_fraud' column\n",
    "\n",
    "ax = sns.countplot(x='is_fraud', data=fraud_df)\n",
    "\n",
    "for p in ax.patches:\n",
    "    height = p.get_height()\n",
    "    ax.annotate(f'{height}', \n",
    "                (p.get_x() + p.get_width() / 2., height), \n",
    "                ha='center', va='bottom')  # Center text horizontally and place above the bar\n",
    "\n",
    "plt.title(\"Breakdown of Fraud Cases\")"
   ]
  },
  {
   "cell_type": "markdown",
   "metadata": {},
   "source": [
    "## State of Credit Card Holder"
   ]
  },
  {
   "cell_type": "code",
   "execution_count": 56,
   "metadata": {},
   "outputs": [
    {
     "data": {
      "text/plain": [
       "CA    3366\n",
       "MO    2324\n",
       "NE    1438\n",
       "OR    1211\n",
       "WA    1150\n",
       "WY    1100\n",
       "NM    1003\n",
       "CO     856\n",
       "AZ     673\n",
       "UT     585\n",
       "ID     347\n",
       "HI     172\n",
       "AK     158\n",
       "Name: state, dtype: int64"
      ]
     },
     "execution_count": 56,
     "metadata": {},
     "output_type": "execute_result"
    }
   ],
   "source": [
    "# Checking the different categories in the 'fraud_df['state']' column\n",
    "\n",
    "fraud_df['state'].value_counts()"
   ]
  },
  {
   "cell_type": "code",
   "execution_count": 57,
   "metadata": {},
   "outputs": [],
   "source": [
    "state_mapping_table = {\n",
    "                        'CA': 'California',\n",
    "                        'MO': 'Midwest',\n",
    "                        'NE': 'Midwest',\n",
    "                        'OR': 'West',\n",
    "                        'WA': 'West',\n",
    "                        'WY': 'West',\n",
    "                        'CO': 'West',\n",
    "                        'UT': 'West',\n",
    "                        'ID': 'West',\n",
    "                        'HI': 'West',\n",
    "                        'AK': 'West',\n",
    "                        'NM': 'Southwest',\n",
    "                        'AZ': 'Southwest'\n",
    "                            }"
   ]
  },
  {
   "cell_type": "code",
   "execution_count": 58,
   "metadata": {},
   "outputs": [],
   "source": [
    "# Mapping the 'state_mapping_table' to the 'State' column\n",
    "\n",
    "fraud_df['state'] = fraud_df['state'].map(state_mapping_table)"
   ]
  },
  {
   "cell_type": "code",
   "execution_count": 59,
   "metadata": {},
   "outputs": [
    {
     "data": {
      "text/plain": [
       "West          5579\n",
       "Midwest       3762\n",
       "California    3366\n",
       "Southwest     1676\n",
       "Name: state, dtype: int64"
      ]
     },
     "execution_count": 59,
     "metadata": {},
     "output_type": "execute_result"
    }
   ],
   "source": [
    "# Checking the different categories in the 'fraud_df['state']' column\n",
    "\n",
    "fraud_df['state'].value_counts()"
   ]
  },
  {
   "cell_type": "code",
   "execution_count": 60,
   "metadata": {},
   "outputs": [],
   "source": [
    "fraud_df.rename(columns = {'state':'region'}, inplace=True)"
   ]
  },
  {
   "cell_type": "code",
   "execution_count": 61,
   "metadata": {},
   "outputs": [
    {
     "name": "stdout",
     "output_type": "stream",
     "text": [
      "<class 'pandas.core.frame.DataFrame'>\n",
      "Int64Index: 14383 entries, 0 to 14445\n",
      "Data columns (total 10 columns):\n",
      " #   Column                 Non-Null Count  Dtype  \n",
      "---  ------                 --------------  -----  \n",
      " 0   trans_date_trans_time  14383 non-null  object \n",
      " 1   category               14383 non-null  object \n",
      " 2   amt                    14383 non-null  float64\n",
      " 3   region                 14383 non-null  object \n",
      " 4   lat                    14383 non-null  float64\n",
      " 5   long                   14383 non-null  float64\n",
      " 6   city_pop               14383 non-null  int64  \n",
      " 7   merch_lat              14383 non-null  float64\n",
      " 8   merch_long             14383 non-null  float64\n",
      " 9   is_fraud               14383 non-null  object \n",
      "dtypes: float64(5), int64(1), object(4)\n",
      "memory usage: 1.8+ MB\n"
     ]
    }
   ],
   "source": [
    "# Verifying whether or not the 'State' column has been renamed to 'Region'\n",
    "\n",
    "fraud_df.info()"
   ]
  },
  {
   "cell_type": "markdown",
   "metadata": {},
   "source": [
    "I have completed grouping the states into regions based on the following source: [National Geographic United States Regions](https://education.nationalgeographic.org/resource/united-states-regions/).  I decided to maintain California as its own since it is the state with the most credit card transactions.\n",
    "\n",
    "I also renamed the state column as region.  The bar chart below provides a breakdown of credit card transactions by region."
   ]
  },
  {
   "cell_type": "code",
   "execution_count": 62,
   "metadata": {},
   "outputs": [
    {
     "data": {
      "text/plain": [
       "Text(0.5, 1.0, 'Breakdown of Credit Card Transactions by Region')"
      ]
     },
     "execution_count": 62,
     "metadata": {},
     "output_type": "execute_result"
    },
    {
     "data": {
      "image/png": "[encoded data removed]",
      "text/plain": [
       "<Figure size 432x288 with 1 Axes>"
      ]
     },
     "metadata": {
      "needs_background": "light"
     },
     "output_type": "display_data"
    }
   ],
   "source": [
    "# Create a bar chart for Value Counts of the 'Region' column\n",
    "\n",
    "ax = sns.countplot(x='region', data=fraud_df)\n",
    "\n",
    "for p in ax.patches:\n",
    "    height = p.get_height()\n",
    "    ax.annotate(f'{height}', \n",
    "                (p.get_x() + p.get_width() / 2., height), \n",
    "                ha='center', va='bottom')  # Center text horizontally and place above the bar\n",
    "\n",
    "plt.title(\"Breakdown of Credit Card Transactions by Region\")"
   ]
  },
  {
   "cell_type": "markdown",
   "metadata": {},
   "source": [
    "## Transaction Date | Transaction Time Column"
   ]
  },
  {
   "cell_type": "code",
   "execution_count": 63,
   "metadata": {},
   "outputs": [
    {
     "name": "stdout",
     "output_type": "stream",
     "text": [
      "<class 'pandas.core.frame.DataFrame'>\n",
      "Int64Index: 14383 entries, 0 to 14445\n",
      "Data columns (total 10 columns):\n",
      " #   Column                 Non-Null Count  Dtype  \n",
      "---  ------                 --------------  -----  \n",
      " 0   trans_date_trans_time  14383 non-null  object \n",
      " 1   category               14383 non-null  object \n",
      " 2   amt                    14383 non-null  float64\n",
      " 3   region                 14383 non-null  object \n",
      " 4   lat                    14383 non-null  float64\n",
      " 5   long                   14383 non-null  float64\n",
      " 6   city_pop               14383 non-null  int64  \n",
      " 7   merch_lat              14383 non-null  float64\n",
      " 8   merch_long             14383 non-null  float64\n",
      " 9   is_fraud               14383 non-null  object \n",
      "dtypes: float64(5), int64(1), object(4)\n",
      "memory usage: 1.8+ MB\n"
     ]
    }
   ],
   "source": [
    "# Examining the Data Type of the 'Transaction Date / Transaction Time' column\n",
    "\n",
    "fraud_df.info()"
   ]
  },
  {
   "cell_type": "code",
   "execution_count": 64,
   "metadata": {},
   "outputs": [],
   "source": [
    "# Converting data type of the 'Transaction Date / Transaction Time' column to datetime\n",
    "\n",
    "fraud_df['trans_date_trans_time'] = pd.to_datetime(fraud_df['trans_date_trans_time'])"
   ]
  },
  {
   "cell_type": "code",
   "execution_count": 65,
   "metadata": {},
   "outputs": [
    {
     "name": "stdout",
     "output_type": "stream",
     "text": [
      "<class 'pandas.core.frame.DataFrame'>\n",
      "Int64Index: 14383 entries, 0 to 14445\n",
      "Data columns (total 10 columns):\n",
      " #   Column                 Non-Null Count  Dtype         \n",
      "---  ------                 --------------  -----         \n",
      " 0   trans_date_trans_time  14383 non-null  datetime64[ns]\n",
      " 1   category               14383 non-null  object        \n",
      " 2   amt                    14383 non-null  float64       \n",
      " 3   region                 14383 non-null  object        \n",
      " 4   lat                    14383 non-null  float64       \n",
      " 5   long                   14383 non-null  float64       \n",
      " 6   city_pop               14383 non-null  int64         \n",
      " 7   merch_lat              14383 non-null  float64       \n",
      " 8   merch_long             14383 non-null  float64       \n",
      " 9   is_fraud               14383 non-null  object        \n",
      "dtypes: datetime64[ns](1), float64(5), int64(1), object(3)\n",
      "memory usage: 1.8+ MB\n"
     ]
    }
   ],
   "source": [
    "# Verifying whether or not the data type of the 'Transaction Date / Transaction Time' column has been converted to datetime\n",
    "\n",
    "fraud_df.info()"
   ]
  },
  {
   "cell_type": "markdown",
   "metadata": {},
   "source": [
    "### Creating Hour Column"
   ]
  },
  {
   "cell_type": "code",
   "execution_count": 66,
   "metadata": {},
   "outputs": [],
   "source": [
    "# Creating the 'Hour' column by extrapolating the hour from the 'Transaction Date / Transaction Time' column \n",
    "\n",
    "fraud_df['hour'] = fraud_df['trans_date_trans_time'].dt.hour"
   ]
  },
  {
   "cell_type": "code",
   "execution_count": 67,
   "metadata": {},
   "outputs": [
    {
     "name": "stdout",
     "output_type": "stream",
     "text": [
      "<class 'pandas.core.frame.DataFrame'>\n",
      "Int64Index: 14383 entries, 0 to 14445\n",
      "Data columns (total 11 columns):\n",
      " #   Column                 Non-Null Count  Dtype         \n",
      "---  ------                 --------------  -----         \n",
      " 0   trans_date_trans_time  14383 non-null  datetime64[ns]\n",
      " 1   category               14383 non-null  object        \n",
      " 2   amt                    14383 non-null  float64       \n",
      " 3   region                 14383 non-null  object        \n",
      " 4   lat                    14383 non-null  float64       \n",
      " 5   long                   14383 non-null  float64       \n",
      " 6   city_pop               14383 non-null  int64         \n",
      " 7   merch_lat              14383 non-null  float64       \n",
      " 8   merch_long             14383 non-null  float64       \n",
      " 9   is_fraud               14383 non-null  object        \n",
      " 10  hour                   14383 non-null  int64         \n",
      "dtypes: datetime64[ns](1), float64(5), int64(2), object(3)\n",
      "memory usage: 1.9+ MB\n"
     ]
    }
   ],
   "source": [
    "# Checking whether or not the 'Hour' column has been created\n",
    "\n",
    "fraud_df.info()"
   ]
  },
  {
   "cell_type": "code",
   "execution_count": 68,
   "metadata": {},
   "outputs": [
    {
     "data": {
      "text/plain": [
       "0     0\n",
       "1    15\n",
       "2    22\n",
       "3    23\n",
       "4    23\n",
       "5     3\n",
       "6     3\n",
       "7    11\n",
       "8    18\n",
       "9    22\n",
       "Name: hour, dtype: int64"
      ]
     },
     "execution_count": 68,
     "metadata": {},
     "output_type": "execute_result"
    }
   ],
   "source": [
    "# Examining the contents of the 'Hour' column\n",
    "\n",
    "fraud_df['hour'].head(10)"
   ]
  },
  {
   "cell_type": "code",
   "execution_count": 69,
   "metadata": {},
   "outputs": [
    {
     "data": {
      "text/plain": [
       "23    1109\n",
       "22    1104\n",
       "20     702\n",
       "21     691\n",
       "15     669\n",
       "19     667\n",
       "17     666\n",
       "18     662\n",
       "16     652\n",
       "13     638\n",
       "14     629\n",
       "12     624\n",
       "1      607\n",
       "0      581\n",
       "3      560\n",
       "2      519\n",
       "7      438\n",
       "10     418\n",
       "8      416\n",
       "6      415\n",
       "4      413\n",
       "5      406\n",
       "11     401\n",
       "9      396\n",
       "Name: hour, dtype: int64"
      ]
     },
     "execution_count": 69,
     "metadata": {},
     "output_type": "execute_result"
    }
   ],
   "source": [
    "# Examining the value counts for each hour in the 'Hour' column\n",
    "\n",
    "fraud_df['hour'].value_counts()"
   ]
  },
  {
   "cell_type": "markdown",
   "metadata": {},
   "source": [
    "I have created a new column titled *fraud_df['hour']*.  An interesting observation is that the number of credit card transactions increase as midnight approaches.  The bar chart below reflects the breakdown of credit card transactions by the hour."
   ]
  },
  {
   "cell_type": "code",
   "execution_count": 70,
   "metadata": {},
   "outputs": [
    {
     "data": {
      "text/plain": [
       "Text(0.5, 1.0, 'Breakdown of Top 10 Credit Card Transactions by Hour')"
      ]
     },
     "execution_count": 70,
     "metadata": {},
     "output_type": "execute_result"
    },
    {
     "data": {
      "image/png": "[encoded data removed]",
      "text/plain": [
       "<Figure size 432x288 with 1 Axes>"
      ]
     },
     "metadata": {
      "needs_background": "light"
     },
     "output_type": "display_data"
    }
   ],
   "source": [
    "# Get the top 10 hours with the most transactions\n",
    "top_10_hours = fraud_df['hour'].value_counts().nlargest(10).index\n",
    "\n",
    "# Filter the DataFrame to include only the top 10 hours\n",
    "filtered_fraud_df = fraud_df[fraud_df['hour'].isin(top_10_hours)]\n",
    "\n",
    "# Creating the bar chart with only the top 10 hours\n",
    "ax = sns.countplot(x='hour', data=filtered_fraud_df, order=top_10_hours)\n",
    "\n",
    "for p in ax.patches:\n",
    "    height = p.get_height()\n",
    "    ax.annotate(f'{height}', \n",
    "                (p.get_x() + p.get_width() / 2., height), \n",
    "                ha='center', va='bottom')  # Center text horizontally and place above the bar\n",
    "\n",
    "plt.title(\"Breakdown of Top 10 Credit Card Transactions by Hour\")"
   ]
  },
  {
   "cell_type": "code",
   "execution_count": 71,
   "metadata": {},
   "outputs": [
    {
     "name": "stdout",
     "output_type": "stream",
     "text": [
      "<class 'pandas.core.frame.DataFrame'>\n",
      "Int64Index: 1844 entries, 0 to 13396\n",
      "Data columns (total 15 columns):\n",
      " #   Column                 Non-Null Count  Dtype  \n",
      "---  ------                 --------------  -----  \n",
      " 0   trans_date_trans_time  1844 non-null   object \n",
      " 1   merchant               1844 non-null   object \n",
      " 2   category               1844 non-null   object \n",
      " 3   amt                    1844 non-null   float64\n",
      " 4   city                   1844 non-null   object \n",
      " 5   state                  1844 non-null   object \n",
      " 6   lat                    1844 non-null   float64\n",
      " 7   long                   1844 non-null   float64\n",
      " 8   city_pop               1844 non-null   int64  \n",
      " 9   job                    1844 non-null   object \n",
      " 10  dob                    1844 non-null   object \n",
      " 11  trans_num              1844 non-null   object \n",
      " 12  merch_lat              1844 non-null   float64\n",
      " 13  merch_long             1844 non-null   float64\n",
      " 14  is_fraud               1844 non-null   object \n",
      "dtypes: float64(5), int64(1), object(9)\n",
      "memory usage: 310.5+ KB\n"
     ]
    }
   ],
   "source": [
    "# Examining the 'all_fraud_cases' dataframe\n",
    "\n",
    "all_fraud_cases.info()"
   ]
  },
  {
   "cell_type": "code",
   "execution_count": 72,
   "metadata": {},
   "outputs": [],
   "source": [
    "# Converting data type of the 'Transaction Date / Transaction Time' column to datetime via \"all_fraud_cases\" dataframe\n",
    "\n",
    "all_fraud_cases['trans_date_trans_time'] = pd.to_datetime(all_fraud_cases['trans_date_trans_time'])"
   ]
  },
  {
   "cell_type": "code",
   "execution_count": 73,
   "metadata": {},
   "outputs": [
    {
     "name": "stdout",
     "output_type": "stream",
     "text": [
      "<class 'pandas.core.frame.DataFrame'>\n",
      "Int64Index: 1844 entries, 0 to 13396\n",
      "Data columns (total 15 columns):\n",
      " #   Column                 Non-Null Count  Dtype         \n",
      "---  ------                 --------------  -----         \n",
      " 0   trans_date_trans_time  1844 non-null   datetime64[ns]\n",
      " 1   merchant               1844 non-null   object        \n",
      " 2   category               1844 non-null   object        \n",
      " 3   amt                    1844 non-null   float64       \n",
      " 4   city                   1844 non-null   object        \n",
      " 5   state                  1844 non-null   object        \n",
      " 6   lat                    1844 non-null   float64       \n",
      " 7   long                   1844 non-null   float64       \n",
      " 8   city_pop               1844 non-null   int64         \n",
      " 9   job                    1844 non-null   object        \n",
      " 10  dob                    1844 non-null   object        \n",
      " 11  trans_num              1844 non-null   object        \n",
      " 12  merch_lat              1844 non-null   float64       \n",
      " 13  merch_long             1844 non-null   float64       \n",
      " 14  is_fraud               1844 non-null   object        \n",
      "dtypes: datetime64[ns](1), float64(5), int64(1), object(8)\n",
      "memory usage: 310.5+ KB\n"
     ]
    }
   ],
   "source": [
    "# Verifying whether or not the data type of the 'Transaction Date / Transaction Time' column has been converted to datetime via \"all_fraud_cases\" dataframe\n",
    "\n",
    "all_fraud_cases.info()"
   ]
  },
  {
   "cell_type": "code",
   "execution_count": 74,
   "metadata": {},
   "outputs": [],
   "source": [
    "# Creating the 'Hour' column by extrapolating the hour from the 'Transaction Date / Transaction Time' column via \"all_fraud_cases\" dataframe\n",
    "\n",
    "all_fraud_cases['hour'] = all_fraud_cases['trans_date_trans_time'].dt.hour"
   ]
  },
  {
   "cell_type": "code",
   "execution_count": 75,
   "metadata": {},
   "outputs": [
    {
     "name": "stdout",
     "output_type": "stream",
     "text": [
      "<class 'pandas.core.frame.DataFrame'>\n",
      "Int64Index: 1844 entries, 0 to 13396\n",
      "Data columns (total 16 columns):\n",
      " #   Column                 Non-Null Count  Dtype         \n",
      "---  ------                 --------------  -----         \n",
      " 0   trans_date_trans_time  1844 non-null   datetime64[ns]\n",
      " 1   merchant               1844 non-null   object        \n",
      " 2   category               1844 non-null   object        \n",
      " 3   amt                    1844 non-null   float64       \n",
      " 4   city                   1844 non-null   object        \n",
      " 5   state                  1844 non-null   object        \n",
      " 6   lat                    1844 non-null   float64       \n",
      " 7   long                   1844 non-null   float64       \n",
      " 8   city_pop               1844 non-null   int64         \n",
      " 9   job                    1844 non-null   object        \n",
      " 10  dob                    1844 non-null   object        \n",
      " 11  trans_num              1844 non-null   object        \n",
      " 12  merch_lat              1844 non-null   float64       \n",
      " 13  merch_long             1844 non-null   float64       \n",
      " 14  is_fraud               1844 non-null   object        \n",
      " 15  hour                   1844 non-null   int64         \n",
      "dtypes: datetime64[ns](1), float64(5), int64(2), object(8)\n",
      "memory usage: 324.9+ KB\n"
     ]
    }
   ],
   "source": [
    "# Checking whether or not the 'Hour' column has been created via \"all_fraud_cases\" dataframe\n",
    "\n",
    "all_fraud_cases.info()"
   ]
  },
  {
   "cell_type": "code",
   "execution_count": 76,
   "metadata": {},
   "outputs": [
    {
     "data": {
      "text/plain": [
       "0     0\n",
       "1    15\n",
       "2    22\n",
       "3    23\n",
       "4    23\n",
       "5     3\n",
       "6     3\n",
       "7    11\n",
       "8    18\n",
       "9    22\n",
       "Name: hour, dtype: int64"
      ]
     },
     "execution_count": 76,
     "metadata": {},
     "output_type": "execute_result"
    }
   ],
   "source": [
    "# Examining the contents of the 'Hour' column via \"all_fraud_cases\" dataframe\n",
    "\n",
    "all_fraud_cases['hour'].head(10)"
   ]
  },
  {
   "cell_type": "code",
   "execution_count": 77,
   "metadata": {},
   "outputs": [
    {
     "data": {
      "text/plain": [
       "23    476\n",
       "22    468\n",
       "1     174\n",
       "0     174\n",
       "3     147\n",
       "2     142\n",
       "16     24\n",
       "15     24\n",
       "20     23\n",
       "17     20\n",
       "18     20\n",
       "21     18\n",
       "12     17\n",
       "14     16\n",
       "13     14\n",
       "8      14\n",
       "9      12\n",
       "19     11\n",
       "5      10\n",
       "10     10\n",
       "7       9\n",
       "4       7\n",
       "6       7\n",
       "11      7\n",
       "Name: hour, dtype: int64"
      ]
     },
     "execution_count": 77,
     "metadata": {},
     "output_type": "execute_result"
    }
   ],
   "source": [
    "# Examining the value counts for each hour in the 'Hour' column \"all_fraud_cases\" dataframe\n",
    "\n",
    "all_fraud_cases['hour'].value_counts()"
   ]
  },
  {
   "cell_type": "markdown",
   "metadata": {},
   "source": [
    "Based on the aforementioned bar chart - *Breakdown of Top 10 Credit Card Transactions by Hour* - I assumed that most of the fraud cases took place as midnight approached.\n",
    "\n",
    "To investigate this, I utilized the dataframe I created that only contained the fraud cases.  Based on the following bar chart - *Breakdown of Top 10 Fraud Cases by Hour* - it seems my assumption is true.  As midnight approaches, the number of fraud cases increase."
   ]
  },
  {
   "cell_type": "code",
   "execution_count": 78,
   "metadata": {},
   "outputs": [
    {
     "data": {
      "text/plain": [
       "Text(0.5, 1.0, 'Breakdown of Top 10 Fraud Cases by Hour')"
      ]
     },
     "execution_count": 78,
     "metadata": {},
     "output_type": "execute_result"
    },
    {
     "data": {
      "image/png": "[encoded data removed]",
      "text/plain": [
       "<Figure size 432x288 with 1 Axes>"
      ]
     },
     "metadata": {
      "needs_background": "light"
     },
     "output_type": "display_data"
    }
   ],
   "source": [
    "# Get the top 10 hours with the most fraud cases\n",
    "top_10_hours_fraud_cases = all_fraud_cases['hour'].value_counts().nlargest(10).index\n",
    "\n",
    "# Filter the DataFrame to include only the top 10 hours in respect to fraud cases\n",
    "filtered_fraud_cases_df = all_fraud_cases[all_fraud_cases['hour'].isin(top_10_hours_fraud_cases)]\n",
    "\n",
    "# Creating the bar chart with only the top 10 hours in respect to fraud cases\n",
    "ax = sns.countplot(x='hour', data=filtered_fraud_cases_df, order=top_10_hours_fraud_cases)\n",
    "\n",
    "for p in ax.patches:\n",
    "    height = p.get_height()\n",
    "    ax.annotate(f'{height}', \n",
    "                (p.get_x() + p.get_width() / 2., height), \n",
    "                ha='center', va='bottom')  # Center text horizontally and place above the bar\n",
    "\n",
    "plt.title(\"Breakdown of Top 10 Fraud Cases by Hour\")"
   ]
  },
  {
   "cell_type": "markdown",
   "metadata": {},
   "source": [
    "### Creating Month Column"
   ]
  },
  {
   "cell_type": "code",
   "execution_count": 79,
   "metadata": {},
   "outputs": [],
   "source": [
    "# Creating a 'Month' column\n",
    "\n",
    "fraud_df['month'] = fraud_df['trans_date_trans_time'].dt.month"
   ]
  },
  {
   "cell_type": "code",
   "execution_count": 80,
   "metadata": {},
   "outputs": [
    {
     "name": "stdout",
     "output_type": "stream",
     "text": [
      "<class 'pandas.core.frame.DataFrame'>\n",
      "Int64Index: 14383 entries, 0 to 14445\n",
      "Data columns (total 12 columns):\n",
      " #   Column                 Non-Null Count  Dtype         \n",
      "---  ------                 --------------  -----         \n",
      " 0   trans_date_trans_time  14383 non-null  datetime64[ns]\n",
      " 1   category               14383 non-null  object        \n",
      " 2   amt                    14383 non-null  float64       \n",
      " 3   region                 14383 non-null  object        \n",
      " 4   lat                    14383 non-null  float64       \n",
      " 5   long                   14383 non-null  float64       \n",
      " 6   city_pop               14383 non-null  int64         \n",
      " 7   merch_lat              14383 non-null  float64       \n",
      " 8   merch_long             14383 non-null  float64       \n",
      " 9   is_fraud               14383 non-null  object        \n",
      " 10  hour                   14383 non-null  int64         \n",
      " 11  month                  14383 non-null  int64         \n",
      "dtypes: datetime64[ns](1), float64(5), int64(3), object(3)\n",
      "memory usage: 2.1+ MB\n"
     ]
    }
   ],
   "source": [
    "# Verifying the 'Month' column is created\n",
    "\n",
    "fraud_df.info()"
   ]
  },
  {
   "cell_type": "code",
   "execution_count": 81,
   "metadata": {},
   "outputs": [
    {
     "data": {
      "text/plain": [
       "12    6387\n",
       "1     3587\n",
       "8      573\n",
       "7      552\n",
       "5      448\n",
       "6      444\n",
       "3      440\n",
       "11     406\n",
       "10     405\n",
       "4      403\n",
       "2      375\n",
       "9      363\n",
       "Name: month, dtype: int64"
      ]
     },
     "execution_count": 81,
     "metadata": {},
     "output_type": "execute_result"
    }
   ],
   "source": [
    "# Examining the contents of the 'Month' column\n",
    "\n",
    "fraud_df['month'].value_counts()"
   ]
  },
  {
   "cell_type": "code",
   "execution_count": 82,
   "metadata": {},
   "outputs": [],
   "source": [
    "# Converting the 'Month' column to string\n",
    "\n",
    "fraud_df['month'] = fraud_df['month'].apply(lambda x: str(x))"
   ]
  },
  {
   "cell_type": "code",
   "execution_count": 83,
   "metadata": {},
   "outputs": [
    {
     "name": "stdout",
     "output_type": "stream",
     "text": [
      "<class 'pandas.core.frame.DataFrame'>\n",
      "Int64Index: 14383 entries, 0 to 14445\n",
      "Data columns (total 12 columns):\n",
      " #   Column                 Non-Null Count  Dtype         \n",
      "---  ------                 --------------  -----         \n",
      " 0   trans_date_trans_time  14383 non-null  datetime64[ns]\n",
      " 1   category               14383 non-null  object        \n",
      " 2   amt                    14383 non-null  float64       \n",
      " 3   region                 14383 non-null  object        \n",
      " 4   lat                    14383 non-null  float64       \n",
      " 5   long                   14383 non-null  float64       \n",
      " 6   city_pop               14383 non-null  int64         \n",
      " 7   merch_lat              14383 non-null  float64       \n",
      " 8   merch_long             14383 non-null  float64       \n",
      " 9   is_fraud               14383 non-null  object        \n",
      " 10  hour                   14383 non-null  int64         \n",
      " 11  month                  14383 non-null  object        \n",
      "dtypes: datetime64[ns](1), float64(5), int64(2), object(4)\n",
      "memory usage: 2.1+ MB\n"
     ]
    }
   ],
   "source": [
    "# Verifying whether or not the 'Month' column has been converted to string\n",
    "\n",
    "fraud_df.info()"
   ]
  },
  {
   "cell_type": "code",
   "execution_count": 84,
   "metadata": {},
   "outputs": [
    {
     "data": {
      "text/plain": [
       "12    6387\n",
       "1     3587\n",
       "8      573\n",
       "7      552\n",
       "5      448\n",
       "6      444\n",
       "3      440\n",
       "11     406\n",
       "10     405\n",
       "4      403\n",
       "2      375\n",
       "9      363\n",
       "Name: month, dtype: int64"
      ]
     },
     "execution_count": 84,
     "metadata": {},
     "output_type": "execute_result"
    }
   ],
   "source": [
    "fraud_df['month'].value_counts()"
   ]
  },
  {
   "cell_type": "code",
   "execution_count": 85,
   "metadata": {},
   "outputs": [],
   "source": [
    "# Creating a mapping table to convert the numerical values in the 'Month' column to months of the year\n",
    "\n",
    "month_mapping = {\n",
    "                \"1\" : \"January\",\n",
    "                \"2\" : \"February\",\n",
    "                \"3\" : \"March\",\n",
    "                \"4\" : \"April\", \n",
    "                \"5\" : \"May\",\n",
    "                \"6\" : \"June\",\n",
    "                \"7\" : \"July\",\n",
    "                \"8\" : \"August\",\n",
    "                \"9\" : \"September\",\n",
    "                \"10\": \"October\",\n",
    "                \"11\": \"November\",\n",
    "                \"12\": \"December\",\n",
    "                                }"
   ]
  },
  {
   "cell_type": "code",
   "execution_count": 86,
   "metadata": {},
   "outputs": [],
   "source": [
    "# Applying the mapping table to the 'Month' column\n",
    "\n",
    "fraud_df['month'] = fraud_df['month'].map(month_mapping)"
   ]
  },
  {
   "cell_type": "code",
   "execution_count": 87,
   "metadata": {},
   "outputs": [
    {
     "data": {
      "text/plain": [
       "December     6387\n",
       "January      3587\n",
       "August        573\n",
       "July          552\n",
       "May           448\n",
       "June          444\n",
       "March         440\n",
       "November      406\n",
       "October       405\n",
       "April         403\n",
       "February      375\n",
       "September     363\n",
       "Name: month, dtype: int64"
      ]
     },
     "execution_count": 87,
     "metadata": {},
     "output_type": "execute_result"
    }
   ],
   "source": [
    "# Examining the value counts within the 'Month' column\n",
    "\n",
    "fraud_df['month'].value_counts()"
   ]
  },
  {
   "cell_type": "markdown",
   "metadata": {},
   "source": [
    "I have created a new column titled *fraud_df['month']*.  An interesting observation is that the number of credit card transactions increase around the months of December and January.  This time of the year is associated with the holidays (i.e. - Christmas).  \n",
    "\n",
    "The bar chart below reflects the breakdown of credit card transactions by months of the year."
   ]
  },
  {
   "cell_type": "code",
   "execution_count": 88,
   "metadata": {},
   "outputs": [
    {
     "data": {
      "text/plain": [
       "Text(0.5, 1.0, 'Breakdown of Credit Card Transactions by Month')"
      ]
     },
     "execution_count": 88,
     "metadata": {},
     "output_type": "execute_result"
    },
    {
     "data": {
      "image/png": "[encoded data removed]",
      "text/plain": [
       "<Figure size 432x288 with 1 Axes>"
      ]
     },
     "metadata": {
      "needs_background": "light"
     },
     "output_type": "display_data"
    }
   ],
   "source": [
    "# Get the sorted index of categories based on their counts\n",
    "sorted_categories_fraud_df_months = fraud_df['month'].value_counts().index\n",
    "\n",
    "# Creating the bar chart\n",
    "ax = sns.countplot(y='month', data=fraud_df, order=sorted_categories_fraud_df_months)\n",
    "\n",
    "for p in ax.patches:\n",
    "    width = p.get_width()\n",
    "    ax.annotate(f'{width}', \n",
    "                (width, p.get_y() + p.get_height() / 2), \n",
    "                ha='left', va='center')  # Align text to the left of the bar and center vertically\n",
    "\n",
    "plt.title(\"Breakdown of Credit Card Transactions by Month\")"
   ]
  },
  {
   "cell_type": "code",
   "execution_count": 89,
   "metadata": {},
   "outputs": [],
   "source": [
    "# Creating a mapping table to convert the months of the year back to numerical values\n",
    "\n",
    "month_mapping_reverse = {\n",
    "                 \"January\" : \"1\",\n",
    "                 \"February\" : \"2\",\n",
    "                 \"March\" : \"3\",\n",
    "                 \"April\" : \"4\", \n",
    "                 \"May\" : \"5\",\n",
    "                 \"June\" : \"6\",\n",
    "                 \"July\" : \"7\",\n",
    "                 \"August\" : \"8\",\n",
    "                 \"September\" : \"9\",\n",
    "                 \"October\" : \"10\",\n",
    "                 \"November\" : \"11\",\n",
    "                 \"December\" : \"12\",\n",
    "                                }"
   ]
  },
  {
   "cell_type": "code",
   "execution_count": 90,
   "metadata": {},
   "outputs": [],
   "source": [
    "# Applying the mapping table to the 'Month' column in order to convert the months back to numerical values\n",
    "\n",
    "fraud_df['month'] = fraud_df['month'].map(month_mapping_reverse)"
   ]
  },
  {
   "cell_type": "code",
   "execution_count": 91,
   "metadata": {},
   "outputs": [],
   "source": [
    "# Converting the 'Month' column to integer\n",
    "\n",
    "fraud_df['month'] = fraud_df['month'].apply(lambda x: int(x))"
   ]
  },
  {
   "cell_type": "code",
   "execution_count": 92,
   "metadata": {},
   "outputs": [
    {
     "name": "stdout",
     "output_type": "stream",
     "text": [
      "<class 'pandas.core.frame.DataFrame'>\n",
      "Int64Index: 14383 entries, 0 to 14445\n",
      "Data columns (total 12 columns):\n",
      " #   Column                 Non-Null Count  Dtype         \n",
      "---  ------                 --------------  -----         \n",
      " 0   trans_date_trans_time  14383 non-null  datetime64[ns]\n",
      " 1   category               14383 non-null  object        \n",
      " 2   amt                    14383 non-null  float64       \n",
      " 3   region                 14383 non-null  object        \n",
      " 4   lat                    14383 non-null  float64       \n",
      " 5   long                   14383 non-null  float64       \n",
      " 6   city_pop               14383 non-null  int64         \n",
      " 7   merch_lat              14383 non-null  float64       \n",
      " 8   merch_long             14383 non-null  float64       \n",
      " 9   is_fraud               14383 non-null  object        \n",
      " 10  hour                   14383 non-null  int64         \n",
      " 11  month                  14383 non-null  int64         \n",
      "dtypes: datetime64[ns](1), float64(5), int64(3), object(3)\n",
      "memory usage: 2.1+ MB\n"
     ]
    }
   ],
   "source": [
    "# Examining the data type of the 'Month' column\n",
    "\n",
    "fraud_df.info()"
   ]
  },
  {
   "cell_type": "code",
   "execution_count": 93,
   "metadata": {},
   "outputs": [],
   "source": [
    "# Creating the 'Month' column by extrapolating the hour from the 'Transaction Date / Transaction Time' column via \"all_fraud_cases\" dataframe\n",
    "\n",
    "all_fraud_cases['month'] = all_fraud_cases['trans_date_trans_time'].dt.month"
   ]
  },
  {
   "cell_type": "code",
   "execution_count": 94,
   "metadata": {},
   "outputs": [
    {
     "name": "stdout",
     "output_type": "stream",
     "text": [
      "<class 'pandas.core.frame.DataFrame'>\n",
      "Int64Index: 1844 entries, 0 to 13396\n",
      "Data columns (total 17 columns):\n",
      " #   Column                 Non-Null Count  Dtype         \n",
      "---  ------                 --------------  -----         \n",
      " 0   trans_date_trans_time  1844 non-null   datetime64[ns]\n",
      " 1   merchant               1844 non-null   object        \n",
      " 2   category               1844 non-null   object        \n",
      " 3   amt                    1844 non-null   float64       \n",
      " 4   city                   1844 non-null   object        \n",
      " 5   state                  1844 non-null   object        \n",
      " 6   lat                    1844 non-null   float64       \n",
      " 7   long                   1844 non-null   float64       \n",
      " 8   city_pop               1844 non-null   int64         \n",
      " 9   job                    1844 non-null   object        \n",
      " 10  dob                    1844 non-null   object        \n",
      " 11  trans_num              1844 non-null   object        \n",
      " 12  merch_lat              1844 non-null   float64       \n",
      " 13  merch_long             1844 non-null   float64       \n",
      " 14  is_fraud               1844 non-null   object        \n",
      " 15  hour                   1844 non-null   int64         \n",
      " 16  month                  1844 non-null   int64         \n",
      "dtypes: datetime64[ns](1), float64(5), int64(3), object(8)\n",
      "memory usage: 339.3+ KB\n"
     ]
    }
   ],
   "source": [
    "# Checking whether or not the 'Month' column has been created via \"all_fraud_cases\" dataframe\n",
    "\n",
    "all_fraud_cases.info()"
   ]
  },
  {
   "cell_type": "code",
   "execution_count": 95,
   "metadata": {},
   "outputs": [],
   "source": [
    "# Converting the 'Month' column to string\n",
    "\n",
    "all_fraud_cases['month'] = all_fraud_cases['month'].apply(lambda x: str(x))"
   ]
  },
  {
   "cell_type": "code",
   "execution_count": 96,
   "metadata": {},
   "outputs": [],
   "source": [
    "# Applying the mapping table to the 'Month' column via \"all_fraud_cases\" dataframe\n",
    "\n",
    "all_fraud_cases['month'] = all_fraud_cases['month'].map(month_mapping)"
   ]
  },
  {
   "cell_type": "code",
   "execution_count": 97,
   "metadata": {},
   "outputs": [
    {
     "data": {
      "text/plain": [
       "January      223\n",
       "March        190\n",
       "May          178\n",
       "October      157\n",
       "August       156\n",
       "February     155\n",
       "September    150\n",
       "April        147\n",
       "July         141\n",
       "December     138\n",
       "November     130\n",
       "June          79\n",
       "Name: month, dtype: int64"
      ]
     },
     "execution_count": 97,
     "metadata": {},
     "output_type": "execute_result"
    }
   ],
   "source": [
    "# Examining the value counts for each hour in the 'Month' column \"all_fraud_cases\" dataframe\n",
    "\n",
    "all_fraud_cases['month'].value_counts()"
   ]
  },
  {
   "cell_type": "code",
   "execution_count": 98,
   "metadata": {},
   "outputs": [
    {
     "data": {
      "text/plain": [
       "Text(0.5, 1.0, 'Breakdown of Fraud Cases by Month')"
      ]
     },
     "execution_count": 98,
     "metadata": {},
     "output_type": "execute_result"
    },
    {
     "data": {
      "image/png": "[encoded data removed]",
      "text/plain": [
       "<Figure size 432x288 with 1 Axes>"
      ]
     },
     "metadata": {
      "needs_background": "light"
     },
     "output_type": "display_data"
    }
   ],
   "source": [
    "# Get the sorted index of categories based on their counts\n",
    "sorted_categories_all_fraud_cases_months = all_fraud_cases['month'].value_counts().index\n",
    "\n",
    "# Creating the bar chart\n",
    "ax = sns.countplot(y='month', data=all_fraud_cases, order=sorted_categories_all_fraud_cases_months)\n",
    "\n",
    "for p in ax.patches:\n",
    "    width = p.get_width()\n",
    "    ax.annotate(f'{width}', \n",
    "                (width, p.get_y() + p.get_height() / 2), \n",
    "                ha='left', va='center')  # Align text to the left of the bar and center vertically\n",
    "\n",
    "plt.title(\"Breakdown of Fraud Cases by Month\")"
   ]
  },
  {
   "cell_type": "markdown",
   "metadata": {},
   "source": [
    "### Creating Year Column"
   ]
  },
  {
   "cell_type": "code",
   "execution_count": 99,
   "metadata": {},
   "outputs": [],
   "source": [
    "# Creating a 'Year' column\n",
    "\n",
    "fraud_df['year'] = fraud_df['trans_date_trans_time'].dt.year"
   ]
  },
  {
   "cell_type": "code",
   "execution_count": 100,
   "metadata": {},
   "outputs": [
    {
     "name": "stdout",
     "output_type": "stream",
     "text": [
      "<class 'pandas.core.frame.DataFrame'>\n",
      "Int64Index: 14383 entries, 0 to 14445\n",
      "Data columns (total 13 columns):\n",
      " #   Column                 Non-Null Count  Dtype         \n",
      "---  ------                 --------------  -----         \n",
      " 0   trans_date_trans_time  14383 non-null  datetime64[ns]\n",
      " 1   category               14383 non-null  object        \n",
      " 2   amt                    14383 non-null  float64       \n",
      " 3   region                 14383 non-null  object        \n",
      " 4   lat                    14383 non-null  float64       \n",
      " 5   long                   14383 non-null  float64       \n",
      " 6   city_pop               14383 non-null  int64         \n",
      " 7   merch_lat              14383 non-null  float64       \n",
      " 8   merch_long             14383 non-null  float64       \n",
      " 9   is_fraud               14383 non-null  object        \n",
      " 10  hour                   14383 non-null  int64         \n",
      " 11  month                  14383 non-null  int64         \n",
      " 12  year                   14383 non-null  int64         \n",
      "dtypes: datetime64[ns](1), float64(5), int64(4), object(3)\n",
      "memory usage: 2.2+ MB\n"
     ]
    }
   ],
   "source": [
    "# Verifying the 'Year' column is created\n",
    "\n",
    "fraud_df.info()"
   ]
  },
  {
   "cell_type": "code",
   "execution_count": 101,
   "metadata": {},
   "outputs": [
    {
     "data": {
      "text/plain": [
       "2019    7580\n",
       "2020    6803\n",
       "Name: year, dtype: int64"
      ]
     },
     "execution_count": 101,
     "metadata": {},
     "output_type": "execute_result"
    }
   ],
   "source": [
    "# Examining the contents of the 'Year' column\n",
    "\n",
    "fraud_df['year'].value_counts()"
   ]
  },
  {
   "cell_type": "markdown",
   "metadata": {},
   "source": [
    "In respect to year, the credit card transactions are only broken down by two years - 2019 and 2020.  My expectation was that that credit card transactions took place over multiple years.  I will drop the column from the dataframe.  Interim, there is a bar chart below that provides a breakdown of credit card transactions by year."
   ]
  },
  {
   "cell_type": "code",
   "execution_count": 102,
   "metadata": {},
   "outputs": [
    {
     "data": {
      "text/plain": [
       "Text(0.5, 1.0, 'Breakdown of Credit Card Transactions by Year')"
      ]
     },
     "execution_count": 102,
     "metadata": {},
     "output_type": "execute_result"
    },
    {
     "data": {
      "image/png": "[encoded data removed]",
      "text/plain": [
       "<Figure size 432x288 with 1 Axes>"
      ]
     },
     "metadata": {
      "needs_background": "light"
     },
     "output_type": "display_data"
    }
   ],
   "source": [
    "# Create a bar chart for Value Counts of the 'Year' column\n",
    "\n",
    "ax = sns.countplot(x='year', data=fraud_df)\n",
    "\n",
    "for p in ax.patches:\n",
    "    height = p.get_height()\n",
    "    ax.annotate(f'{height}', \n",
    "                (p.get_x() + p.get_width() / 2., height), \n",
    "                ha='center', va='bottom')  # Center text horizontally and place above the bar\n",
    "\n",
    "plt.title(\"Breakdown of Credit Card Transactions by Year\")"
   ]
  },
  {
   "cell_type": "code",
   "execution_count": 103,
   "metadata": {},
   "outputs": [],
   "source": [
    "# Dropping the 'Year' column from the dataframe\n",
    "\n",
    "fraud_df.drop(columns='year', inplace=True)"
   ]
  },
  {
   "cell_type": "code",
   "execution_count": 104,
   "metadata": {},
   "outputs": [
    {
     "name": "stdout",
     "output_type": "stream",
     "text": [
      "<class 'pandas.core.frame.DataFrame'>\n",
      "Int64Index: 14383 entries, 0 to 14445\n",
      "Data columns (total 12 columns):\n",
      " #   Column                 Non-Null Count  Dtype         \n",
      "---  ------                 --------------  -----         \n",
      " 0   trans_date_trans_time  14383 non-null  datetime64[ns]\n",
      " 1   category               14383 non-null  object        \n",
      " 2   amt                    14383 non-null  float64       \n",
      " 3   region                 14383 non-null  object        \n",
      " 4   lat                    14383 non-null  float64       \n",
      " 5   long                   14383 non-null  float64       \n",
      " 6   city_pop               14383 non-null  int64         \n",
      " 7   merch_lat              14383 non-null  float64       \n",
      " 8   merch_long             14383 non-null  float64       \n",
      " 9   is_fraud               14383 non-null  object        \n",
      " 10  hour                   14383 non-null  int64         \n",
      " 11  month                  14383 non-null  int64         \n",
      "dtypes: datetime64[ns](1), float64(5), int64(3), object(3)\n",
      "memory usage: 2.1+ MB\n"
     ]
    }
   ],
   "source": [
    "# Examining whether or not the 'year' column has been removed from the dataframe\n",
    "\n",
    "fraud_df.info()"
   ]
  },
  {
   "cell_type": "markdown",
   "metadata": {},
   "source": [
    "### Dropping the Transaction Date | Transaction Time Column"
   ]
  },
  {
   "cell_type": "code",
   "execution_count": 105,
   "metadata": {},
   "outputs": [],
   "source": [
    "# Dropping the 'Transaction Date | Transaction Time' column from the dataframe\n",
    "\n",
    "fraud_df.drop(columns='trans_date_trans_time', inplace=True)"
   ]
  },
  {
   "cell_type": "code",
   "execution_count": 106,
   "metadata": {},
   "outputs": [
    {
     "name": "stdout",
     "output_type": "stream",
     "text": [
      "<class 'pandas.core.frame.DataFrame'>\n",
      "Int64Index: 14383 entries, 0 to 14445\n",
      "Data columns (total 11 columns):\n",
      " #   Column      Non-Null Count  Dtype  \n",
      "---  ------      --------------  -----  \n",
      " 0   category    14383 non-null  object \n",
      " 1   amt         14383 non-null  float64\n",
      " 2   region      14383 non-null  object \n",
      " 3   lat         14383 non-null  float64\n",
      " 4   long        14383 non-null  float64\n",
      " 5   city_pop    14383 non-null  int64  \n",
      " 6   merch_lat   14383 non-null  float64\n",
      " 7   merch_long  14383 non-null  float64\n",
      " 8   is_fraud    14383 non-null  object \n",
      " 9   hour        14383 non-null  int64  \n",
      " 10  month       14383 non-null  int64  \n",
      "dtypes: float64(5), int64(3), object(3)\n",
      "memory usage: 1.9+ MB\n"
     ]
    }
   ],
   "source": [
    "# Examining whether or not the 'Transaction Date | Transaction Time' column has been removed from the dataframe\n",
    "\n",
    "fraud_df.info()"
   ]
  },
  {
   "cell_type": "markdown",
   "metadata": {},
   "source": [
    "# Modeling"
   ]
  },
  {
   "cell_type": "markdown",
   "metadata": {},
   "source": [
    "I have completed the Data Preparation stage.  I will use three sets of models for detecting credit card fraud.  The algorithms are listed below:\n",
    "\n",
    "- Decision Tree\n",
    "- Random Forest\n",
    "- Gradient Boosting"
   ]
  },
  {
   "cell_type": "code",
   "execution_count": 107,
   "metadata": {},
   "outputs": [],
   "source": [
    "# Identifying Target Variable\n",
    "\n",
    "X = fraud_df.drop('is_fraud', axis=1)\n",
    "y = fraud_df['is_fraud']"
   ]
  },
  {
   "cell_type": "code",
   "execution_count": 108,
   "metadata": {},
   "outputs": [
    {
     "name": "stdout",
     "output_type": "stream",
     "text": [
      "<class 'pandas.core.frame.DataFrame'>\n",
      "Int64Index: 14383 entries, 0 to 14445\n",
      "Data columns (total 10 columns):\n",
      " #   Column      Non-Null Count  Dtype  \n",
      "---  ------      --------------  -----  \n",
      " 0   category    14383 non-null  object \n",
      " 1   amt         14383 non-null  float64\n",
      " 2   region      14383 non-null  object \n",
      " 3   lat         14383 non-null  float64\n",
      " 4   long        14383 non-null  float64\n",
      " 5   city_pop    14383 non-null  int64  \n",
      " 6   merch_lat   14383 non-null  float64\n",
      " 7   merch_long  14383 non-null  float64\n",
      " 8   hour        14383 non-null  int64  \n",
      " 9   month       14383 non-null  int64  \n",
      "dtypes: float64(5), int64(3), object(2)\n",
      "memory usage: 1.8+ MB\n"
     ]
    }
   ],
   "source": [
    "# Checking whether or not creating the dummy variables is complete\n",
    "\n",
    "X.info()"
   ]
  },
  {
   "cell_type": "code",
   "execution_count": 109,
   "metadata": {},
   "outputs": [],
   "source": [
    "# Creating dummy variables for the categorical variables in the X, or the Predictors\n",
    "\n",
    "X = pd.get_dummies(X, drop_first=True)"
   ]
  },
  {
   "cell_type": "markdown",
   "metadata": {},
   "source": [
    "There are a total of 24 columns in the X variable.  This is due to the Category of Merchant column containing 14 unique categories, which are the following:\n",
    "\n",
    "- *entertainment*     \n",
    "- *grocery_pos*       \n",
    "- *gas_transport*     \n",
    "- *shopping_net*      \n",
    "- *shopping_pos*      \n",
    "- *home*              \n",
    "- *kids_pets*        \n",
    "- *personal_care*      \n",
    "- *health_fitness*     \n",
    "- *misc_pos*           \n",
    "- *misc_net*           \n",
    "- *grocery_net*        \n",
    "- *travel*\n",
    "\n",
    "In addition, the Region column contains 5 different unique categories, which are the following:\n",
    "\n",
    "- California\n",
    "- Midwest\n",
    "- Southwest\n",
    "- West"
   ]
  },
  {
   "cell_type": "code",
   "execution_count": 110,
   "metadata": {},
   "outputs": [],
   "source": [
    "# Performing a train test split\n",
    "\n",
    "X_train, X_test, y_train, y_test = train_test_split(X, y, random_state=42, test_size=0.3)"
   ]
  },
  {
   "cell_type": "markdown",
   "metadata": {},
   "source": [
    "## Baseline Decision Tree Model"
   ]
  },
  {
   "cell_type": "code",
   "execution_count": 111,
   "metadata": {},
   "outputs": [
    {
     "data": {
      "text/html": [
       "<style>#sk-container-id-1 {color: black;background-color: white;}#sk-container-id-1 pre{padding: 0;}#sk-container-id-1 div.sk-toggleable {background-color: white;}#sk-container-id-1 label.sk-toggleable__label {cursor: pointer;display: block;width: 100%;margin-bottom: 0;padding: 0.3em;box-sizing: border-box;text-align: center;}#sk-container-id-1 label.sk-toggleable__label-arrow:before {content: \"▸\";float: left;margin-right: 0.25em;color: #696969;}#sk-container-id-1 label.sk-toggleable__label-arrow:hover:before {color: black;}#sk-container-id-1 div.sk-estimator:hover label.sk-toggleable__label-arrow:before {color: black;}#sk-container-id-1 div.sk-toggleable__content {max-height: 0;max-width: 0;overflow: hidden;text-align: left;background-color: #f0f8ff;}#sk-container-id-1 div.sk-toggleable__content pre {margin: 0.2em;color: black;border-radius: 0.25em;background-color: #f0f8ff;}#sk-container-id-1 input.sk-toggleable__control:checked~div.sk-toggleable__content {max-height: 200px;max-width: 100%;overflow: auto;}#sk-container-id-1 input.sk-toggleable__control:checked~label.sk-toggleable__label-arrow:before {content: \"▾\";}#sk-container-id-1 div.sk-estimator input.sk-toggleable__control:checked~label.sk-toggleable__label {background-color: #d4ebff;}#sk-container-id-1 div.sk-label input.sk-toggleable__control:checked~label.sk-toggleable__label {background-color: #d4ebff;}#sk-container-id-1 input.sk-hidden--visually {border: 0;clip: rect(1px 1px 1px 1px);clip: rect(1px, 1px, 1px, 1px);height: 1px;margin: -1px;overflow: hidden;padding: 0;position: absolute;width: 1px;}#sk-container-id-1 div.sk-estimator {font-family: monospace;background-color: #f0f8ff;border: 1px dotted black;border-radius: 0.25em;box-sizing: border-box;margin-bottom: 0.5em;}#sk-container-id-1 div.sk-estimator:hover {background-color: #d4ebff;}#sk-container-id-1 div.sk-parallel-item::after {content: \"\";width: 100%;border-bottom: 1px solid gray;flex-grow: 1;}#sk-container-id-1 div.sk-label:hover label.sk-toggleable__label {background-color: #d4ebff;}#sk-container-id-1 div.sk-serial::before {content: \"\";position: absolute;border-left: 1px solid gray;box-sizing: border-box;top: 0;bottom: 0;left: 50%;z-index: 0;}#sk-container-id-1 div.sk-serial {display: flex;flex-direction: column;align-items: center;background-color: white;padding-right: 0.2em;padding-left: 0.2em;position: relative;}#sk-container-id-1 div.sk-item {position: relative;z-index: 1;}#sk-container-id-1 div.sk-parallel {display: flex;align-items: stretch;justify-content: center;background-color: white;position: relative;}#sk-container-id-1 div.sk-item::before, #sk-container-id-1 div.sk-parallel-item::before {content: \"\";position: absolute;border-left: 1px solid gray;box-sizing: border-box;top: 0;bottom: 0;left: 50%;z-index: -1;}#sk-container-id-1 div.sk-parallel-item {display: flex;flex-direction: column;z-index: 1;position: relative;background-color: white;}#sk-container-id-1 div.sk-parallel-item:first-child::after {align-self: flex-end;width: 50%;}#sk-container-id-1 div.sk-parallel-item:last-child::after {align-self: flex-start;width: 50%;}#sk-container-id-1 div.sk-parallel-item:only-child::after {width: 0;}#sk-container-id-1 div.sk-dashed-wrapped {border: 1px dashed gray;margin: 0 0.4em 0.5em 0.4em;box-sizing: border-box;padding-bottom: 0.4em;background-color: white;}#sk-container-id-1 div.sk-label label {font-family: monospace;font-weight: bold;display: inline-block;line-height: 1.2em;}#sk-container-id-1 div.sk-label-container {text-align: center;}#sk-container-id-1 div.sk-container {/* jupyter's `normalize.less` sets `[hidden] { display: none; }` but bootstrap.min.css set `[hidden] { display: none !important; }` so we also need the `!important` here to be able to override the default hidden behavior on the sphinx rendered scikit-learn.org. See: https://github.com/scikit-learn/scikit-learn/issues/21755 */display: inline-block !important;position: relative;}#sk-container-id-1 div.sk-text-repr-fallback {display: none;}</style><div id=\"sk-container-id-1\" class=\"sk-top-container\"><div class=\"sk-text-repr-fallback\"><pre>DecisionTreeClassifier(criterion=&#x27;entropy&#x27;)</pre><b>In a Jupyter environment, please rerun this cell to show the HTML representation or trust the notebook. <br />On GitHub, the HTML representation is unable to render, please try loading this page with nbviewer.org.</b></div><div class=\"sk-container\" hidden><div class=\"sk-item\"><div class=\"sk-estimator sk-toggleable\"><input class=\"sk-toggleable__control sk-hidden--visually\" id=\"sk-estimator-id-1\" type=\"checkbox\" checked><label for=\"sk-estimator-id-1\" class=\"sk-toggleable__label sk-toggleable__label-arrow\">DecisionTreeClassifier</label><div class=\"sk-toggleable__content\"><pre>DecisionTreeClassifier(criterion=&#x27;entropy&#x27;)</pre></div></div></div></div></div>"
      ],
      "text/plain": [
       "DecisionTreeClassifier(criterion='entropy')"
      ]
     },
     "execution_count": 111,
     "metadata": {},
     "output_type": "execute_result"
    }
   ],
   "source": [
    "# Creating the Decision Tree classifier, and fitting it on the training data\n",
    "\n",
    "clf = DecisionTreeClassifier(criterion='entropy', random_state=42)\n",
    "\n",
    "clf.fit(X_train, y_train)"
   ]
  },
  {
   "cell_type": "code",
   "execution_count": 112,
   "metadata": {},
   "outputs": [],
   "source": [
    "# Making predictions with the training data via Baseline Decision Tree Classifier\n",
    "\n",
    "y_hat_train_clf = clf.predict(X_train)"
   ]
  },
  {
   "cell_type": "code",
   "execution_count": 113,
   "metadata": {},
   "outputs": [],
   "source": [
    "# Generating Predictions for X-Test, or test data, via Baseline Decision Tree Classifier\n",
    "\n",
    "y_hat_test_clf = clf.predict(X_test) "
   ]
  },
  {
   "cell_type": "code",
   "execution_count": 114,
   "metadata": {},
   "outputs": [],
   "source": [
    "# Creating an evaluation metrics function\n",
    "\n",
    "def evaluation_metrics(y_hat_train, y_train, y_hat_test, y_test, pos_label='Fraud'):\n",
    "    \n",
    "    # Calculate Metrics\n",
    "    \n",
    "    train_precision = precision_score(y_train, y_hat_train, pos_label=pos_label, average='binary', zero_division=0)\n",
    "    test_precision = precision_score(y_test, y_hat_test, pos_label=pos_label, average='binary', zero_division=0)\n",
    "\n",
    "    train_recall = recall_score(y_train, y_hat_train, pos_label=pos_label, average='binary', zero_division=0)\n",
    "    test_recall = recall_score(y_test, y_hat_test, pos_label=pos_label, average='binary', zero_division=0)\n",
    "\n",
    "    train_accuracy = accuracy_score(y_train, y_hat_train)\n",
    "    test_accuracy = accuracy_score(y_test, y_hat_test)\n",
    "\n",
    "    train_f1 = f1_score(y_train, y_hat_train, pos_label=pos_label, average='binary', zero_division=0)\n",
    "    test_f1 = f1_score(y_test, y_hat_test, pos_label=pos_label, average='binary', zero_division=0)\n",
    "\n",
    "    # Print metrics\n",
    "    \n",
    "    print('Training Precision:', train_precision)\n",
    "    print('Testing Precision: ', test_precision)\n",
    "    print('\\n\\n')\n",
    "    print('Training Recall: ', train_recall)\n",
    "    print('Testing Recall: ', test_recall)\n",
    "    print('\\n\\n')\n",
    "    print('Training Accuracy: ', train_accuracy)\n",
    "    print('Testing Accuracy: ', test_accuracy)\n",
    "    print('\\n\\n')\n",
    "    print('Training F1-Score: ', train_f1)\n",
    "    print('Testing F1-Score: ', test_f1)"
   ]
  },
  {
   "cell_type": "code",
   "execution_count": 115,
   "metadata": {},
   "outputs": [],
   "source": [
    "# Creating confusion matrix function\n",
    "\n",
    "def cnf_matrix_display(y_test, y_hat_test, title):\n",
    "    \n",
    "    # Defining labels for the confusion matrix\n",
    "    labels = ['Not Positive', 'Positive']\n",
    "\n",
    "    # Creating the confusion matrix\n",
    "    conf_matrix = confusion_matrix(y_test, y_hat_test)\n",
    "\n",
    "    print('Confusion Matrix:\\n', conf_matrix)\n",
    "\n",
    "    plt.figure(figsize=(8, 6))\n",
    "    sns.heatmap(conf_matrix, annot=True, fmt='d', cmap=\"RdBu_r\", xticklabels=labels, yticklabels=labels)\n",
    "    plt.xlabel('Predicted Label')\n",
    "    plt.ylabel('True Label')\n",
    "    plt.title(title)\n",
    "    plt.show()"
   ]
  },
  {
   "cell_type": "code",
   "execution_count": 116,
   "metadata": {},
   "outputs": [],
   "source": [
    "# Creating an ROC Curve function\n",
    "\n",
    "def roc_cuve(X_train, X_test, y_train, y_test, classifier, title):\n",
    "\n",
    "    y_score = classifier.predict_proba(X_test)[:,1]\n",
    "\n",
    "    fpr_baseline, tpr_baseline, thresholds = roc_curve(y_test, y_score, pos_label='Fraud')\n",
    "\n",
    "    # Seaborn's beautiful styling\n",
    "    sns.set_style('darkgrid', {'axes.facecolor': '0.9'})\n",
    "\n",
    "    print('AUC: {}'.format(auc(fpr_baseline, tpr_baseline)))\n",
    "    plt.figure(figsize=(10, 8))\n",
    "    lw = 2\n",
    "    plt.plot(fpr_baseline, tpr_baseline, color='darkorange',\n",
    "             lw=lw, label='ROC curve')\n",
    "    plt.plot([0, 1], [0, 1], color='navy', lw=lw, linestyle='--')\n",
    "    plt.xlim([0.0, 1.0])\n",
    "    plt.ylim([0.0, 1.05])\n",
    "    plt.yticks([i/20.0 for i in range(21)])\n",
    "    plt.xticks([i/20.0 for i in range(21)])\n",
    "    plt.xlabel('False Positive Rate')\n",
    "    plt.ylabel('True Positive Rate')\n",
    "    plt.title(title)\n",
    "    plt.legend(loc='lower right')\n",
    "    plt.show()"
   ]
  },
  {
   "cell_type": "code",
   "execution_count": 117,
   "metadata": {},
   "outputs": [],
   "source": [
    "# Creating a Precision-Recall Curve Function\n",
    "\n",
    "def plot_precision_recall_curve(X_train, X_test, y_train, y_test, classifier, title):\n",
    "    \n",
    "    y_scores = classifier.predict_proba(X_test)[:, 1]\n",
    "    precision, recall, thresholds = precision_recall_curve(y_test, y_scores, pos_label='Fraud')\n",
    "\n",
    "    plt.plot(recall, precision, marker='.')\n",
    "    plt.xlabel('Recall')\n",
    "    plt.ylabel('Precision')\n",
    "    plt.title(title)\n",
    "    plt.show()"
   ]
  },
  {
   "cell_type": "code",
   "execution_count": 118,
   "metadata": {},
   "outputs": [
    {
     "name": "stdout",
     "output_type": "stream",
     "text": [
      "Training Precision: 1.0\n",
      "Testing Precision:  0.9028776978417267\n",
      "\n",
      "\n",
      "\n",
      "Training Recall:  1.0\n",
      "Testing Recall:  0.9227941176470589\n",
      "\n",
      "\n",
      "\n",
      "Training Accuracy:  1.0\n",
      "Testing Accuracy:  0.9777520278099653\n",
      "\n",
      "\n",
      "\n",
      "Training F1-Score:  1.0\n",
      "Testing F1-Score:  0.9127272727272727\n"
     ]
    }
   ],
   "source": [
    "# Calculating Baseline Decision Tree Model Metrics\n",
    "\n",
    "evaluation_metrics(y_hat_train_clf, y_train, y_hat_test_clf, y_test, pos_label='Fraud')"
   ]
  },
  {
   "cell_type": "code",
   "execution_count": 119,
   "metadata": {},
   "outputs": [
    {
     "name": "stdout",
     "output_type": "stream",
     "text": [
      "Confusion Matrix:\n",
      " [[ 502   42]\n",
      " [  54 3717]]\n"
     ]
    },
    {
     "data": {
      "image/png": "[encoded data removed]",
      "text/plain": [
       "<Figure size 576x432 with 2 Axes>"
      ]
     },
     "metadata": {
      "needs_background": "light"
     },
     "output_type": "display_data"
    }
   ],
   "source": [
    "# Creating Confusion Matrix for the Baseline Decision Tree Model\n",
    "\n",
    "cnf_matrix_display(y_test, y_hat_test_clf, title='Baseline Decision Tree Model Confusion Matrix')"
   ]
  },
  {
   "cell_type": "code",
   "execution_count": 120,
   "metadata": {},
   "outputs": [
    {
     "name": "stdout",
     "output_type": "stream",
     "text": [
      "AUC: 0.04576284571107678\n"
     ]
    },
    {
     "data": {
      "image/png": "[encoded data removed]",
      "text/plain": [
       "<Figure size 720x576 with 1 Axes>"
      ]
     },
     "metadata": {},
     "output_type": "display_data"
    }
   ],
   "source": [
    "# Creating ROC curve for the Baseline Decision Tree Model\n",
    "\n",
    "roc_cuve(X_train, X_test, y_train, y_test, clf, title='Baseline Decision Tree Model Receiver operating characteristic (ROC) Curve')"
   ]
  },
  {
   "cell_type": "code",
   "execution_count": 121,
   "metadata": {},
   "outputs": [
    {
     "data": {
      "image/png": "[encoded data removed]",
      "text/plain": [
       "<Figure size 432x288 with 1 Axes>"
      ]
     },
     "metadata": {},
     "output_type": "display_data"
    }
   ],
   "source": [
    "# Creating a Precision Recall Curve for the Baseline Decision Tree Model\n",
    "\n",
    "plot_precision_recall_curve(X_train, X_test, y_train, y_test, clf, title='Baseline Decision Tree Model Precision Recall Curve')"
   ]
  },
  {
   "cell_type": "markdown",
   "metadata": {},
   "source": [
    "### Baseline Decision Tree Model | Conclusion"
   ]
  },
  {
   "cell_type": "markdown",
   "metadata": {},
   "source": [
    "I have concluded creating a Baseline Decision Tree model.\n",
    "\n",
    "When the baseline model utilizes the training data, the evaluation metrics are the following:\n",
    "\n",
    "- Precision: 100.0%\n",
    "- Recall: 100.0%\n",
    "- Accuracy: 100.0%\n",
    "- F1 Score: 100.0%\n",
    "    \n",
    "When the baseline model utilizes the test data, the evaluation metrics are the following:\n",
    "\n",
    "- Precision: 92.3%\n",
    "- Recall: 92.3%\n",
    "- Accuracy: 98.1%\n",
    "- F1 Score: 92.3%\n",
    "      \n",
    "This model has slight overfitting due to the discrepancies in the training and test metrics.\n",
    "\n",
    "I am going to proceed by tuning the decision tree classifier."
   ]
  },
  {
   "cell_type": "markdown",
   "metadata": {},
   "source": [
    "## Tuning the Baseline Decision Tree Model"
   ]
  },
  {
   "cell_type": "markdown",
   "metadata": {},
   "source": [
    "There are multiple variables in which I want to tune the decision tree classifier. I will currently focus on the following:\n",
    "\n",
    "- Maximum Tree Depth (*max_depth*) - depth of the decision tree, the maximum number of splits a decision tree can have before continue to grow\n",
    "- Minimum Sample Split (*min_samples_split*) - minimum number of samples required to split an internal node\n",
    "- Minimum Sample Leafs (*min_samples_leaf*) - minimum number of samples for a leaf node, or terminal node\n",
    "- Maximum Features (*max_features*) - maximum number of features considered for making a split at a tree node"
   ]
  },
  {
   "cell_type": "code",
   "execution_count": 185,
   "metadata": {},
   "outputs": [],
   "source": [
    "# Creating a function for identifying Maximum Tree Depth\n",
    "\n",
    "def identify_max_depth(X_train, X_test, y_train, y_test, classifier, pos_label='Fraud', **kwargs):\n",
    "    \n",
    "    max_depths = list(range(1, 30))\n",
    "    train_results = []\n",
    "    test_results = []\n",
    "    for max_depth in max_depths:\n",
    "        \n",
    "        # Initialize the classifier with max_depth and any additional kwargs\n",
    "        ct = classifier(max_depth=max_depth, random_state=42, **kwargs)\n",
    "        ct.fit(X_train, y_train)\n",
    "        y_hat_train_ct = ct.predict_proba(X_train)[:, 1]\n",
    "        fpr_ct, tpr_ct, thresholds_ct = roc_curve(y_train, y_hat_train_ct, pos_label=pos_label)\n",
    "        roc_auc_ct = auc(fpr_ct, tpr_ct)\n",
    "    \n",
    "        # Add auc score to previous train results\n",
    "        train_results.append(roc_auc_ct)\n",
    "        y_hat_test_ct = ct.predict_proba(X_test)[:, 1]\n",
    "        fpr_ct, tpr_ct, thresholds_ct = roc_curve(y_test, y_hat_test_ct, pos_label=pos_label)\n",
    "        roc_auc_ct = auc(fpr_ct, tpr_ct)\n",
    "    \n",
    "        # Add auc score to previous test results\n",
    "        test_results.append(roc_auc_ct)\n",
    "\n",
    "    plt.figure(figsize=(12,6))\n",
    "    plt.plot(max_depths, train_results, 'b', label='Train AUC')\n",
    "    plt.plot(max_depths, test_results, 'y', label='Test AUC')\n",
    "    plt.ylabel('AUC score')\n",
    "    plt.xlabel('Tree depth')\n",
    "    plt.legend()\n",
    "    plt.show()"
   ]
  },
  {
   "cell_type": "code",
   "execution_count": 187,
   "metadata": {},
   "outputs": [],
   "source": [
    "# Creating a function for identifying Minimum Sample Split\n",
    "\n",
    "def identify_min_samples_split(X_train, X_test, y_train, y_test, classifier, pos_label='Fraud', **kwargs):\n",
    "\n",
    "    min_samples_splits = np.linspace(0.1, 1.0, 10, endpoint=True)\n",
    "    train_results = []\n",
    "    test_results = []\n",
    "    for min_samples_split in min_samples_splits:\n",
    "        \n",
    "        # Initialize the classifier with min_samples_split and any additional kwargs\n",
    "        ct = classifier(min_samples_split=min_samples_split, random_state=42, **kwargs)\n",
    "        ct.fit(X_train, y_train)\n",
    "        y_hat_train_ct = ct.predict_proba(X_train)[:, 1]\n",
    "        fpr_ct, tpr_ct, thresholds_ct = roc_curve(y_train, y_hat_train_ct, pos_label=pos_label)\n",
    "        roc_auc_ct = auc(fpr_ct, tpr_ct)\n",
    "    \n",
    "        # Add auc score to previous train results\n",
    "        train_results.append(roc_auc_ct)\n",
    "        y_hat_test_ct = ct.predict_proba(X_test)[:, 1]\n",
    "        fpr_ct, tpr_ct, thresholds_ct = roc_curve(y_test, y_hat_test_ct, pos_label=pos_label)\n",
    "        roc_auc_ct = auc(fpr_ct, tpr_ct)\n",
    "    \n",
    "        # Add auc score to previous test results\n",
    "        test_results.append(roc_auc_ct)\n",
    "\n",
    "    plt.figure(figsize=(12,6))\n",
    "    plt.plot(min_samples_splits, train_results, 'b', label='Train AUC')\n",
    "    plt.plot(min_samples_splits, test_results, 'y', label='Test AUC')\n",
    "    plt.xlabel('Minimum Sample splits')\n",
    "    plt.legend()\n",
    "    plt.show()"
   ]
  },
  {
   "cell_type": "code",
   "execution_count": 188,
   "metadata": {},
   "outputs": [],
   "source": [
    "# Creating a function for identifying Minimum Sample Leaf\n",
    "\n",
    "def identify_min_samples_leaf(X_train, X_test, y_train, y_test, classifier, pos_label='Fraud', **kwargs):\n",
    "\n",
    "    min_samples_leafs = np.linspace(0.1, 0.5, 5, endpoint=True)\n",
    "    train_results = []\n",
    "    test_results = []\n",
    "    for min_samples_leaf in min_samples_leafs:\n",
    "        \n",
    "        # Initialize the classifier with min_samples_leaf and any additional kwargs\n",
    "        ct = classifier(min_samples_leaf=min_samples_leaf, random_state=42)\n",
    "        ct.fit(X_train, y_train)\n",
    "        y_hat_train_ct = ct.predict_proba(X_train)[:, 1]\n",
    "        fpr_ct, tpr_ct, thresholds_ct = roc_curve(y_train, y_hat_train_ct, pos_label=pos_label)\n",
    "        roc_auc_ct = auc(fpr_ct, tpr_ct)\n",
    "        \n",
    "        # Add auc score to previous train results\n",
    "        train_results.append(roc_auc_ct)\n",
    "        y_hat_test_ct = ct.predict_proba(X_test)[:, 1]\n",
    "        fpr_ct, tpr_ct, thresholds_ct = roc_curve(y_test, y_hat_test_ct, pos_label=pos_label)\n",
    "        roc_auc_ct = auc(fpr_ct, tpr_ct)\n",
    "        \n",
    "        # Add auc score to previous test results\n",
    "        test_results.append(roc_auc_ct)\n",
    "    \n",
    "    plt.figure(figsize=(12,6))    \n",
    "    plt.plot(min_samples_leafs, train_results, 'b', label='Train AUC')\n",
    "    plt.plot(min_samples_leafs, test_results, 'y', label='Test AUC')\n",
    "    plt.ylabel('AUC score')\n",
    "    plt.xlabel('Minimum Sample Leafs')\n",
    "    plt.legend()\n",
    "    plt.show()"
   ]
  },
  {
   "cell_type": "code",
   "execution_count": 189,
   "metadata": {},
   "outputs": [],
   "source": [
    "# Creating a function for identifying Maximum Features\n",
    "\n",
    "def identify_max_features(X_train, X_test, y_train, y_test, classifier, pos_label='Fraud', **kwargs):\n",
    "\n",
    "    max_features = list(range(1, X_train.shape[1]))\n",
    "    train_results = []\n",
    "    test_results = []\n",
    "    for max_feature in max_features:\n",
    "        \n",
    "        # Initialize the classifier with max_features and any additional kwargs\n",
    "        ct = classifier(max_features=max_feature, random_state=42)\n",
    "        ct.fit(X_train, y_train)\n",
    "        y_hat_train_ct = ct.predict_proba(X_train)[:, 1]\n",
    "        fpr_ct, tpr_ct, thresholds_ct = roc_curve(y_train, y_hat_train_ct, pos_label=pos_label)\n",
    "        roc_auc_ct = auc(fpr_ct, tpr_ct)\n",
    "        \n",
    "        # Add auc score to previous train results\n",
    "        train_results.append(roc_auc_ct)\n",
    "        y_hat_test_ct = ct.predict_proba(X_test)[:, 1]\n",
    "        fpr_ct, tpr_ct, thresholds_ct = roc_curve(y_test, y_hat_test_ct, pos_label=pos_label)\n",
    "        roc_auc_ct = auc(fpr_ct, tpr_ct)\n",
    "        \n",
    "        # Add auc score to previous test results\n",
    "        test_results.append(roc_auc_ct)\n",
    "\n",
    "    plt.figure(figsize=(12,6))\n",
    "    plt.plot(max_features, train_results, 'b', label='Train AUC')\n",
    "    plt.plot(max_features, test_results, 'y', label='Test AUC')\n",
    "    plt.ylabel('AUC score')\n",
    "    plt.xlabel('max features')\n",
    "    plt.legend()\n",
    "    plt.show()"
   ]
  },
  {
   "cell_type": "code",
   "execution_count": 186,
   "metadata": {},
   "outputs": [
    {
     "data": {
      "image/png": "[encoded data removed]",
      "text/plain": [
       "<Figure size 864x432 with 1 Axes>"
      ]
     },
     "metadata": {},
     "output_type": "display_data"
    }
   ],
   "source": [
    "# Identifying Maximum Tree Depth for the Decision Tree Model\n",
    "\n",
    "identify_max_depth(X_train, X_test, y_train, y_test, DecisionTreeClassifier, criterion='entropy')"
   ]
  },
  {
   "cell_type": "code",
   "execution_count": 190,
   "metadata": {},
   "outputs": [
    {
     "data": {
      "image/png": "[encoded data removed]",
      "text/plain": [
       "<Figure size 864x432 with 1 Axes>"
      ]
     },
     "metadata": {},
     "output_type": "display_data"
    }
   ],
   "source": [
    "# Identifying Minimum Sample Split for the Decision Tree Model\n",
    "\n",
    "identify_min_samples_split(X_train, X_test, y_train, y_test, DecisionTreeClassifier, criterion='entropy')"
   ]
  },
  {
   "cell_type": "code",
   "execution_count": 191,
   "metadata": {},
   "outputs": [
    {
     "data": {
      "image/png": "[encoded data removed]",
      "text/plain": [
       "<Figure size 864x432 with 1 Axes>"
      ]
     },
     "metadata": {},
     "output_type": "display_data"
    }
   ],
   "source": [
    "# Identifying Minimum Sample Leaf for the Decision Tree Model\n",
    "\n",
    "identify_min_samples_leaf(X_train, X_test, y_train, y_test, DecisionTreeClassifier, criterion='entropy')"
   ]
  },
  {
   "cell_type": "code",
   "execution_count": 192,
   "metadata": {},
   "outputs": [
    {
     "data": {
      "image/png": "[encoded data removed]",
      "text/plain": [
       "<Figure size 864x432 with 1 Axes>"
      ]
     },
     "metadata": {},
     "output_type": "display_data"
    }
   ],
   "source": [
    "# Identifying Maximum Features for the Decision Tree Model\n",
    "\n",
    "identify_max_features(X_train, X_test, y_train, y_test, DecisionTreeClassifier, criterion='entropy')"
   ]
  },
  {
   "cell_type": "markdown",
   "metadata": {},
   "source": [
    "# Overall Conclusion and Recommendations"
   ]
  },
  {
   "cell_type": "code",
   "execution_count": null,
   "metadata": {},
   "outputs": [],
   "source": []
  },
  {
   "cell_type": "markdown",
   "metadata": {},
   "source": [
    "## Overall Conclusion"
   ]
  },
  {
   "cell_type": "code",
   "execution_count": null,
   "metadata": {},
   "outputs": [],
   "source": []
  },
  {
   "cell_type": "markdown",
   "metadata": {},
   "source": [
    "## Recommendations"
   ]
  },
  {
   "cell_type": "code",
   "execution_count": null,
   "metadata": {},
   "outputs": [],
   "source": []
  }
 ],
 "metadata": {
  "kernelspec": {
   "display_name": "Python (learn-env)",
   "language": "python",
   "name": "learn-env"
  },
  "language_info": {
   "codemirror_mode": {
    "name": "ipython",
    "version": 3
   },
   "file_extension": ".py",
   "mimetype": "text/x-python",
   "name": "python",
   "nbconvert_exporter": "python",
   "pygments_lexer": "ipython3",
   "version": "3.8.5"
  }
 },
 "nbformat": 4,
 "nbformat_minor": 4
}
